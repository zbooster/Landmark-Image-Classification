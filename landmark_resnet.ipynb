{
  "nbformat": 4,
  "nbformat_minor": 0,
  "metadata": {
    "colab": {
      "name": "landmark_resnet.ipynb",
      "provenance": [],
      "collapsed_sections": [],
      "mount_file_id": "1anw1DI1t4X9_KApQlTLf_lIcS6UapAnz",
      "authorship_tag": "ABX9TyNizpsl24jcAxRp+3+COg1G",
      "include_colab_link": true
    },
    "kernelspec": {
      "name": "python3",
      "display_name": "Python 3"
    },
    "language_info": {
      "name": "python"
    },
    "accelerator": "GPU",
    "gpuClass": "standard",
    "widgets": {
      "application/vnd.jupyter.widget-state+json": {
        "c69249b307514ff6adbe59f6aa58ca60": {
          "model_module": "@jupyter-widgets/controls",
          "model_name": "HBoxModel",
          "model_module_version": "1.5.0",
          "state": {
            "_dom_classes": [],
            "_model_module": "@jupyter-widgets/controls",
            "_model_module_version": "1.5.0",
            "_model_name": "HBoxModel",
            "_view_count": null,
            "_view_module": "@jupyter-widgets/controls",
            "_view_module_version": "1.5.0",
            "_view_name": "HBoxView",
            "box_style": "",
            "children": [
              "IPY_MODEL_51189549cb1e492990a2c0ec425787ea",
              "IPY_MODEL_81e83293574b482fa4b95bb0d01e2989",
              "IPY_MODEL_0c8d460e6ec943828d733fabf1275483"
            ],
            "layout": "IPY_MODEL_9134de0eb9ae45b7b40fa9fa9cff94da"
          }
        },
        "51189549cb1e492990a2c0ec425787ea": {
          "model_module": "@jupyter-widgets/controls",
          "model_name": "HTMLModel",
          "model_module_version": "1.5.0",
          "state": {
            "_dom_classes": [],
            "_model_module": "@jupyter-widgets/controls",
            "_model_module_version": "1.5.0",
            "_model_name": "HTMLModel",
            "_view_count": null,
            "_view_module": "@jupyter-widgets/controls",
            "_view_module_version": "1.5.0",
            "_view_name": "HTMLView",
            "description": "",
            "description_tooltip": null,
            "layout": "IPY_MODEL_e66846e7746046ba91acc9916957147a",
            "placeholder": "​",
            "style": "IPY_MODEL_df392540f1b94d50aaf9d0e286031db2",
            "value": "100%"
          }
        },
        "81e83293574b482fa4b95bb0d01e2989": {
          "model_module": "@jupyter-widgets/controls",
          "model_name": "FloatProgressModel",
          "model_module_version": "1.5.0",
          "state": {
            "_dom_classes": [],
            "_model_module": "@jupyter-widgets/controls",
            "_model_module_version": "1.5.0",
            "_model_name": "FloatProgressModel",
            "_view_count": null,
            "_view_module": "@jupyter-widgets/controls",
            "_view_module_version": "1.5.0",
            "_view_name": "ProgressView",
            "bar_style": "success",
            "description": "",
            "description_tooltip": null,
            "layout": "IPY_MODEL_95ca718c642144879c64fa86bbbee38a",
            "max": 102530333,
            "min": 0,
            "orientation": "horizontal",
            "style": "IPY_MODEL_a7b63ad4a3384c62afc50fc9af9be322",
            "value": 102530333
          }
        },
        "0c8d460e6ec943828d733fabf1275483": {
          "model_module": "@jupyter-widgets/controls",
          "model_name": "HTMLModel",
          "model_module_version": "1.5.0",
          "state": {
            "_dom_classes": [],
            "_model_module": "@jupyter-widgets/controls",
            "_model_module_version": "1.5.0",
            "_model_name": "HTMLModel",
            "_view_count": null,
            "_view_module": "@jupyter-widgets/controls",
            "_view_module_version": "1.5.0",
            "_view_name": "HTMLView",
            "description": "",
            "description_tooltip": null,
            "layout": "IPY_MODEL_c34cf5ef731642f38a12c61ff33bb87e",
            "placeholder": "​",
            "style": "IPY_MODEL_87568a8e5e5843a98190c89078a0e144",
            "value": " 97.8M/97.8M [00:00&lt;00:00, 249MB/s]"
          }
        },
        "9134de0eb9ae45b7b40fa9fa9cff94da": {
          "model_module": "@jupyter-widgets/base",
          "model_name": "LayoutModel",
          "model_module_version": "1.2.0",
          "state": {
            "_model_module": "@jupyter-widgets/base",
            "_model_module_version": "1.2.0",
            "_model_name": "LayoutModel",
            "_view_count": null,
            "_view_module": "@jupyter-widgets/base",
            "_view_module_version": "1.2.0",
            "_view_name": "LayoutView",
            "align_content": null,
            "align_items": null,
            "align_self": null,
            "border": null,
            "bottom": null,
            "display": null,
            "flex": null,
            "flex_flow": null,
            "grid_area": null,
            "grid_auto_columns": null,
            "grid_auto_flow": null,
            "grid_auto_rows": null,
            "grid_column": null,
            "grid_gap": null,
            "grid_row": null,
            "grid_template_areas": null,
            "grid_template_columns": null,
            "grid_template_rows": null,
            "height": null,
            "justify_content": null,
            "justify_items": null,
            "left": null,
            "margin": null,
            "max_height": null,
            "max_width": null,
            "min_height": null,
            "min_width": null,
            "object_fit": null,
            "object_position": null,
            "order": null,
            "overflow": null,
            "overflow_x": null,
            "overflow_y": null,
            "padding": null,
            "right": null,
            "top": null,
            "visibility": null,
            "width": null
          }
        },
        "e66846e7746046ba91acc9916957147a": {
          "model_module": "@jupyter-widgets/base",
          "model_name": "LayoutModel",
          "model_module_version": "1.2.0",
          "state": {
            "_model_module": "@jupyter-widgets/base",
            "_model_module_version": "1.2.0",
            "_model_name": "LayoutModel",
            "_view_count": null,
            "_view_module": "@jupyter-widgets/base",
            "_view_module_version": "1.2.0",
            "_view_name": "LayoutView",
            "align_content": null,
            "align_items": null,
            "align_self": null,
            "border": null,
            "bottom": null,
            "display": null,
            "flex": null,
            "flex_flow": null,
            "grid_area": null,
            "grid_auto_columns": null,
            "grid_auto_flow": null,
            "grid_auto_rows": null,
            "grid_column": null,
            "grid_gap": null,
            "grid_row": null,
            "grid_template_areas": null,
            "grid_template_columns": null,
            "grid_template_rows": null,
            "height": null,
            "justify_content": null,
            "justify_items": null,
            "left": null,
            "margin": null,
            "max_height": null,
            "max_width": null,
            "min_height": null,
            "min_width": null,
            "object_fit": null,
            "object_position": null,
            "order": null,
            "overflow": null,
            "overflow_x": null,
            "overflow_y": null,
            "padding": null,
            "right": null,
            "top": null,
            "visibility": null,
            "width": null
          }
        },
        "df392540f1b94d50aaf9d0e286031db2": {
          "model_module": "@jupyter-widgets/controls",
          "model_name": "DescriptionStyleModel",
          "model_module_version": "1.5.0",
          "state": {
            "_model_module": "@jupyter-widgets/controls",
            "_model_module_version": "1.5.0",
            "_model_name": "DescriptionStyleModel",
            "_view_count": null,
            "_view_module": "@jupyter-widgets/base",
            "_view_module_version": "1.2.0",
            "_view_name": "StyleView",
            "description_width": ""
          }
        },
        "95ca718c642144879c64fa86bbbee38a": {
          "model_module": "@jupyter-widgets/base",
          "model_name": "LayoutModel",
          "model_module_version": "1.2.0",
          "state": {
            "_model_module": "@jupyter-widgets/base",
            "_model_module_version": "1.2.0",
            "_model_name": "LayoutModel",
            "_view_count": null,
            "_view_module": "@jupyter-widgets/base",
            "_view_module_version": "1.2.0",
            "_view_name": "LayoutView",
            "align_content": null,
            "align_items": null,
            "align_self": null,
            "border": null,
            "bottom": null,
            "display": null,
            "flex": null,
            "flex_flow": null,
            "grid_area": null,
            "grid_auto_columns": null,
            "grid_auto_flow": null,
            "grid_auto_rows": null,
            "grid_column": null,
            "grid_gap": null,
            "grid_row": null,
            "grid_template_areas": null,
            "grid_template_columns": null,
            "grid_template_rows": null,
            "height": null,
            "justify_content": null,
            "justify_items": null,
            "left": null,
            "margin": null,
            "max_height": null,
            "max_width": null,
            "min_height": null,
            "min_width": null,
            "object_fit": null,
            "object_position": null,
            "order": null,
            "overflow": null,
            "overflow_x": null,
            "overflow_y": null,
            "padding": null,
            "right": null,
            "top": null,
            "visibility": null,
            "width": null
          }
        },
        "a7b63ad4a3384c62afc50fc9af9be322": {
          "model_module": "@jupyter-widgets/controls",
          "model_name": "ProgressStyleModel",
          "model_module_version": "1.5.0",
          "state": {
            "_model_module": "@jupyter-widgets/controls",
            "_model_module_version": "1.5.0",
            "_model_name": "ProgressStyleModel",
            "_view_count": null,
            "_view_module": "@jupyter-widgets/base",
            "_view_module_version": "1.2.0",
            "_view_name": "StyleView",
            "bar_color": null,
            "description_width": ""
          }
        },
        "c34cf5ef731642f38a12c61ff33bb87e": {
          "model_module": "@jupyter-widgets/base",
          "model_name": "LayoutModel",
          "model_module_version": "1.2.0",
          "state": {
            "_model_module": "@jupyter-widgets/base",
            "_model_module_version": "1.2.0",
            "_model_name": "LayoutModel",
            "_view_count": null,
            "_view_module": "@jupyter-widgets/base",
            "_view_module_version": "1.2.0",
            "_view_name": "LayoutView",
            "align_content": null,
            "align_items": null,
            "align_self": null,
            "border": null,
            "bottom": null,
            "display": null,
            "flex": null,
            "flex_flow": null,
            "grid_area": null,
            "grid_auto_columns": null,
            "grid_auto_flow": null,
            "grid_auto_rows": null,
            "grid_column": null,
            "grid_gap": null,
            "grid_row": null,
            "grid_template_areas": null,
            "grid_template_columns": null,
            "grid_template_rows": null,
            "height": null,
            "justify_content": null,
            "justify_items": null,
            "left": null,
            "margin": null,
            "max_height": null,
            "max_width": null,
            "min_height": null,
            "min_width": null,
            "object_fit": null,
            "object_position": null,
            "order": null,
            "overflow": null,
            "overflow_x": null,
            "overflow_y": null,
            "padding": null,
            "right": null,
            "top": null,
            "visibility": null,
            "width": null
          }
        },
        "87568a8e5e5843a98190c89078a0e144": {
          "model_module": "@jupyter-widgets/controls",
          "model_name": "DescriptionStyleModel",
          "model_module_version": "1.5.0",
          "state": {
            "_model_module": "@jupyter-widgets/controls",
            "_model_module_version": "1.5.0",
            "_model_name": "DescriptionStyleModel",
            "_view_count": null,
            "_view_module": "@jupyter-widgets/base",
            "_view_module_version": "1.2.0",
            "_view_name": "StyleView",
            "description_width": ""
          }
        }
      }
    }
  },
  "cells": [
    {
      "cell_type": "markdown",
      "metadata": {
        "id": "view-in-github",
        "colab_type": "text"
      },
      "source": [
        "<a href=\"https://colab.research.google.com/github/zbooster/Landmark-Image-Classification/blob/main/landmark_resnet.ipynb\" target=\"_parent\"><img src=\"https://colab.research.google.com/assets/colab-badge.svg\" alt=\"Open In Colab\"/></a>"
      ]
    },
    {
      "cell_type": "markdown",
      "source": [
        "# 데이터 준비\n"
      ],
      "metadata": {
        "id": "JXvxjEDBaosT"
      }
    },
    {
      "cell_type": "markdown",
      "source": [
        "## Google 드라이브에서 Resize된 데이터 가져오기\n",
        "압축을 풀어서 나의 colab 폴더에 둔다"
      ],
      "metadata": {
        "id": "-Cno43UXehHN"
      }
    },
    {
      "cell_type": "code",
      "source": [
        "!pip install gdown"
      ],
      "metadata": {
        "colab": {
          "base_uri": "https://localhost:8080/"
        },
        "id": "bQdgsk84BrVi",
        "outputId": "06428b13-ab0b-42a6-9b4a-2fa602f22967"
      },
      "execution_count": 3,
      "outputs": [
        {
          "output_type": "stream",
          "name": "stdout",
          "text": [
            "Looking in indexes: https://pypi.org/simple, https://us-python.pkg.dev/colab-wheels/public/simple/\n",
            "Requirement already satisfied: gdown in /usr/local/lib/python3.7/dist-packages (4.4.0)\n",
            "Requirement already satisfied: requests[socks] in /usr/local/lib/python3.7/dist-packages (from gdown) (2.23.0)\n",
            "Requirement already satisfied: filelock in /usr/local/lib/python3.7/dist-packages (from gdown) (3.7.1)\n",
            "Requirement already satisfied: beautifulsoup4 in /usr/local/lib/python3.7/dist-packages (from gdown) (4.6.3)\n",
            "Requirement already satisfied: six in /usr/local/lib/python3.7/dist-packages (from gdown) (1.15.0)\n",
            "Requirement already satisfied: tqdm in /usr/local/lib/python3.7/dist-packages (from gdown) (4.64.0)\n",
            "Requirement already satisfied: chardet<4,>=3.0.2 in /usr/local/lib/python3.7/dist-packages (from requests[socks]->gdown) (3.0.4)\n",
            "Requirement already satisfied: idna<3,>=2.5 in /usr/local/lib/python3.7/dist-packages (from requests[socks]->gdown) (2.10)\n",
            "Requirement already satisfied: urllib3!=1.25.0,!=1.25.1,<1.26,>=1.21.1 in /usr/local/lib/python3.7/dist-packages (from requests[socks]->gdown) (1.24.3)\n",
            "Requirement already satisfied: certifi>=2017.4.17 in /usr/local/lib/python3.7/dist-packages (from requests[socks]->gdown) (2022.6.15)\n",
            "Requirement already satisfied: PySocks!=1.5.7,>=1.5.6 in /usr/local/lib/python3.7/dist-packages (from requests[socks]->gdown) (1.7.1)\n"
          ]
        }
      ]
    },
    {
      "cell_type": "code",
      "source": [
        "!gdown 1FSb1ahdmNENxvZvg921R47_ZfNJ0O8va"
      ],
      "metadata": {
        "colab": {
          "base_uri": "https://localhost:8080/"
        },
        "id": "7ETt2AP6BuFF",
        "outputId": "d0038851-52f6-45db-9e25-462f49f5bb89"
      },
      "execution_count": 4,
      "outputs": [
        {
          "output_type": "stream",
          "name": "stdout",
          "text": [
            "Downloading...\n",
            "From: https://drive.google.com/uc?id=1FSb1ahdmNENxvZvg921R47_ZfNJ0O8va\n",
            "To: /content/resizeds.zip\n",
            "100% 3.09G/3.09G [00:18<00:00, 169MB/s]\n"
          ]
        }
      ]
    },
    {
      "cell_type": "code",
      "source": [
        "!gdown 'https://drive.google.com/file/d/1FSb1ahdmNENxvZvg921R47_ZfNJ0O8va/view?usp=sharing'"
      ],
      "metadata": {
        "colab": {
          "base_uri": "https://localhost:8080/"
        },
        "id": "5uMo45kBB_uu",
        "outputId": "9cf3ba4e-a248-489c-eacf-d769de95b02e"
      },
      "execution_count": 5,
      "outputs": [
        {
          "output_type": "stream",
          "name": "stdout",
          "text": [
            "/usr/local/lib/python3.7/dist-packages/gdown/parse_url.py:39: UserWarning: You specified a Google Drive link that is not the correct link to download a file. You might want to try `--fuzzy` option or the following url: https://drive.google.com/uc?id=1FSb1ahdmNENxvZvg921R47_ZfNJ0O8va\n",
            "  url=\"https://drive.google.com/uc?id={}\".format(file_id)\n",
            "Downloading...\n",
            "From: https://drive.google.com/file/d/1FSb1ahdmNENxvZvg921R47_ZfNJ0O8va/view?usp=sharing\n",
            "To: /content/view?usp=sharing\n",
            "70.2kB [00:00, 446kB/s]\n"
          ]
        }
      ]
    },
    {
      "cell_type": "code",
      "source": [
        "!wget 'https://drive.google.com/file/d/1FSb1ahdmNENxvZvg921R47_ZfNJ0O8va/view?usp=sharing'"
      ],
      "metadata": {
        "colab": {
          "base_uri": "https://localhost:8080/"
        },
        "id": "BxSQLLEAA-4G",
        "outputId": "87e2d0a5-3076-4c5e-96d6-80e4ee9ce727"
      },
      "execution_count": 2,
      "outputs": [
        {
          "output_type": "stream",
          "name": "stdout",
          "text": [
            "--2022-08-01 10:47:16--  https://drive.google.com/file/d/1FSb1ahdmNENxvZvg921R47_ZfNJ0O8va/view?usp=sharing\n",
            "Resolving drive.google.com (drive.google.com)... 74.125.68.101, 74.125.68.138, 74.125.68.102, ...\n",
            "Connecting to drive.google.com (drive.google.com)|74.125.68.101|:443... connected.\n",
            "HTTP request sent, awaiting response... 200 OK\n",
            "Length: unspecified [text/html]\n",
            "Saving to: ‘view?usp=sharing.1’\n",
            "\n",
            "view?usp=sharing.1      [ <=>                ]  65.75K   401KB/s    in 0.2s    \n",
            "\n",
            "2022-08-01 10:47:17 (401 KB/s) - ‘view?usp=sharing.1’ saved [67328]\n",
            "\n"
          ]
        }
      ]
    },
    {
      "cell_type": "code",
      "source": [
        "from google.colab import drive\n",
        "drive.mount('/content/drive')"
      ],
      "metadata": {
        "colab": {
          "base_uri": "https://localhost:8080/"
        },
        "id": "3g9BQaWaeP9m",
        "outputId": "07949fbf-2276-4b14-f193-1986c629f2a7"
      },
      "execution_count": null,
      "outputs": [
        {
          "output_type": "stream",
          "name": "stdout",
          "text": [
            "Mounted at /content/drive\n"
          ]
        }
      ]
    },
    {
      "cell_type": "code",
      "source": [
        "!cp -R '/content/drive/MyDrive/DeepLearning_Datas/resizeds.zip' . # Google 드라이브의 데이터 위치를 찾아 수정해야함.\n",
        "!unzip -qq '/content/resizeds.zip' -d './datasets'"
      ],
      "metadata": {
        "id": "68Jd9M4x6CFS"
      },
      "execution_count": null,
      "outputs": []
    },
    {
      "cell_type": "code",
      "source": [
        "import os\n",
        "\n",
        "original_dataset_dir = '/content/datasets/resizeds/Training'\n",
        "classes_list = os.listdir(original_dataset_dir)\n",
        "\n",
        "classes_list[:2], len(classes_list)"
      ],
      "metadata": {
        "id": "tjZlUZn3amJP",
        "colab": {
          "base_uri": "https://localhost:8080/"
        },
        "outputId": "05641870-ca87-4e06-a92f-d0e86062fe00"
      },
      "execution_count": null,
      "outputs": [
        {
          "output_type": "execute_result",
          "data": {
            "text/plain": [
              "(['가재마을세종호반베르디움2단지아파트', '새뜸마을10단지더샵힐스테이트아파트'], 84)"
            ]
          },
          "metadata": {},
          "execution_count": 3
        }
      ]
    },
    {
      "cell_type": "markdown",
      "source": [
        "# 데이터 정리"
      ],
      "metadata": {
        "id": "ql_vB7iwe4aB"
      }
    },
    {
      "cell_type": "markdown",
      "source": [
        "## 폴더 생성\n"
      ],
      "metadata": {
        "id": "R9js69d6baqj"
      }
    },
    {
      "cell_type": "code",
      "source": [
        "base_dir = './splitted'\n",
        "os.mkdir(base_dir)"
      ],
      "metadata": {
        "id": "BzDFoDOv7QBG"
      },
      "execution_count": null,
      "outputs": []
    },
    {
      "cell_type": "code",
      "source": [
        "import shutil\n",
        "\n",
        "train_dir = os.path.join(base_dir, 'train')\n",
        "os.mkdir(train_dir)\n",
        "validation_dir = os.path.join(base_dir, 'val')\n",
        "os.mkdir(validation_dir)\n",
        "\n",
        "for cls in classes_list:\n",
        "  os.mkdir(os.path.join(train_dir, cls))\n",
        "  os.mkdir(os.path.join(validation_dir, cls))"
      ],
      "metadata": {
        "id": "CkDVhioea3_2"
      },
      "execution_count": null,
      "outputs": []
    },
    {
      "cell_type": "markdown",
      "source": [
        "## 데이터 복사"
      ],
      "metadata": {
        "id": "xo8HUOJRfEPK"
      }
    },
    {
      "cell_type": "code",
      "source": [
        "import math\n",
        "\n",
        "original_dataset_dir = '/content/datasets/resizeds'\n",
        "\n",
        "for cls in classes_list:\n",
        "  train_path = os.path.join(original_dataset_dir, 'Training', cls)\n",
        "  train_fnames = os.listdir(train_path)\n",
        "\n",
        "  print(\"Train size(\", cls, \"): \", len(train_fnames))\n",
        "  for fname in train_fnames:\n",
        "    src = os.path.join(train_path, fname)\n",
        "    dst = os.path.join(os.path.join(train_dir, cls), fname)\n",
        "    shutil.copyfile(src, dst)\n",
        "\n",
        "  val_path = os.path.join(original_dataset_dir, 'Validation', cls)\n",
        "  val_fnames = os.listdir(val_path)\n",
        "  print(\"Validation size(\", cls, \"): \", len(val_fnames))\n",
        "  for fname in val_fnames:\n",
        "    src = os.path.join(val_path, fname)\n",
        "    dst = os.path.join(os.path.join(validation_dir, cls), fname)\n",
        "    shutil.copyfile(src, dst)"
      ],
      "metadata": {
        "id": "ruD--Ly36P8G",
        "colab": {
          "base_uri": "https://localhost:8080/"
        },
        "outputId": "0ecd89e9-494b-4366-8ab9-354b9934d699"
      },
      "execution_count": null,
      "outputs": [
        {
          "output_type": "stream",
          "name": "stdout",
          "text": [
            "Train size( 가재마을세종호반베르디움2단지아파트 ):  107\n",
            "Validation size( 가재마을세종호반베르디움2단지아파트 ):  13\n",
            "Train size( 새뜸마을10단지더샵힐스테이트아파트 ):  109\n",
            "Validation size( 새뜸마을10단지더샵힐스테이트아파트 ):  13\n",
            "Train size( 힐스테이트세종리버파크7단지 ):  105\n",
            "Validation size( 힐스테이트세종리버파크7단지 ):  13\n",
            "Train size( 연기향토박물관 ):  183\n",
            "Validation size( 연기향토박물관 ):  22\n",
            "Train size( 조치원자이아파트 ):  106\n",
            "Validation size( 조치원자이아파트 ):  13\n",
            "Train size( 성요한성당 ):  264\n",
            "Validation size( 성요한성당 ):  32\n",
            "Train size( 연기봉산동의향나무 ):  189\n",
            "Validation size( 연기봉산동의향나무 ):  23\n",
            "Train size( 전의향교 ):  159\n",
            "Validation size( 전의향교 ):  19\n",
            "Train size( 금강수변공원 ):  107\n",
            "Validation size( 금강수변공원 ):  13\n",
            "Train size( 해들마을6단지e편한세상세종리버파크 ):  109\n",
            "Validation size( 해들마을6단지e편한세상세종리버파크 ):  13\n",
            "Train size( 금남모인당 ):  184\n",
            "Validation size( 금남모인당 ):  22\n",
            "Train size( 새뜸1단지메이저시티푸르지오 ):  104\n",
            "Validation size( 새뜸1단지메이저시티푸르지오 ):  12\n",
            "Train size( 도램마을15단지힐스테이트아파트 ):  107\n",
            "Validation size( 도램마을15단지힐스테이트아파트 ):  13\n",
            "Train size( 금남남산영당 ):  185\n",
            "Validation size( 금남남산영당 ):  23\n",
            "Train size( 범지기마을7단지호반베르디움에코시티아파트 ):  109\n",
            "Validation size( 범지기마을7단지호반베르디움에코시티아파트 ):  13\n",
            "Train size( 세종행복도시홍보관 ):  161\n",
            "Validation size( 세종행복도시홍보관 ):  19\n",
            "Train size( 베어트리파크 ):  160\n",
            "Validation size( 베어트리파크 ):  20\n",
            "Train size( 부강초등학교강당 ):  185\n",
            "Validation size( 부강초등학교강당 ):  23\n",
            "Train size( 금남문절사 ):  186\n",
            "Validation size( 금남문절사 ):  23\n",
            "Train size( 세종e편한세상푸르지오아파트 ):  100\n",
            "Validation size( 세종e편한세상푸르지오아파트 ):  12\n",
            "Train size( 세종호수공원 ):  160\n",
            "Validation size( 세종호수공원 ):  20\n",
            "Train size( 새뜸마을11단지더샵힐스테이트아파트 ):  100\n",
            "Validation size( 새뜸마을11단지더샵힐스테이트아파트 ):  12\n",
            "Train size( 박산리작약골쌍탑제 ):  193\n",
            "Validation size( 박산리작약골쌍탑제 ):  23\n",
            "Train size( 수루배마을6단지세종더샵예미지 ):  107\n",
            "Validation size( 수루배마을6단지세종더샵예미지 ):  13\n",
            "Train size( 세종특별자치시마을기록문화관 ):  190\n",
            "Validation size( 세종특별자치시마을기록문화관 ):  23\n",
            "Train size( 국립세종수목원 ):  176\n",
            "Validation size( 국립세종수목원 ):  22\n",
            "Train size( 조치원신흥e편한세상아파트 ):  113\n",
            "Validation size( 조치원신흥e편한세상아파트 ):  13\n",
            "Train size( 병산사 ):  190\n",
            "Validation size( 병산사 ):  23\n",
            "Train size( 가락마을20단지호반베르디움5차아파트 ):  108\n",
            "Validation size( 가락마을20단지호반베르디움5차아파트 ):  13\n",
            "Train size( 한뜰마을1단지상록데시앙아파트 ):  106\n",
            "Validation size( 한뜰마을1단지상록데시앙아파트 ):  13\n",
            "Train size( 국립조세박물관 ):  155\n",
            "Validation size( 국립조세박물관 ):  19\n",
            "Train size( 연동송용리마애여래입상 ):  193\n",
            "Validation size( 연동송용리마애여래입상 ):  23\n",
            "Train size( 가온마을1단지힐스테이트세종2차 ):  104\n",
            "Validation size( 가온마을1단지힐스테이트세종2차 ):  13\n",
            "Train size( 김종서장군묘소 ):  158\n",
            "Validation size( 김종서장군묘소 ):  19\n",
            "Train size( 영평사 ):  158\n",
            "Validation size( 영평사 ):  19\n",
            "Train size( 조치원죽림푸르지오아파트 ):  104\n",
            "Validation size( 조치원죽림푸르지오아파트 ):  12\n",
            "Train size( 수루배마을4단지더샵예미지 ):  109\n",
            "Validation size( 수루배마을4단지더샵예미지 ):  13\n",
            "Train size( 세종고속시외버스터미널 ):  160\n",
            "Validation size( 세종고속시외버스터미널 ):  20\n",
            "Train size( 은하수공원 ):  100\n",
            "Validation size( 은하수공원 ):  12\n",
            "Train size( 전의비암사극락보전 ):  180\n",
            "Validation size( 전의비암사극락보전 ):  22\n",
            "Train size( 비암사 ):  189\n",
            "Validation size( 비암사 ):  23\n",
            "Train size( 세종힐스테이트3차 ):  107\n",
            "Validation size( 세종힐스테이트3차 ):  13\n",
            "Train size( 자성사 ):  168\n",
            "Validation size( 자성사 ):  21\n",
            "Train size( 첫마을7단지삼성래미안아파트 ):  106\n",
            "Validation size( 첫마을7단지삼성래미안아파트 ):  13\n",
            "Train size( 가락마을3단지호반베르디움4차아파트 ):  104\n",
            "Validation size( 가락마을3단지호반베르디움4차아파트 ):  13\n",
            "Train size( 범지기마을8단지푸르지오아파트 ):  106\n",
            "Validation size( 범지기마을8단지푸르지오아파트 ):  13\n",
            "Train size( 부강성당 ):  178\n",
            "Validation size( 부강성당 ):  22\n",
            "Train size( 밀양박씨오충정려 ):  195\n",
            "Validation size( 밀양박씨오충정려 ):  24\n",
            "Train size( 나성독락정 ):  160\n",
            "Validation size( 나성독락정 ):  19\n",
            "Train size( 첫마을4단지푸르지오아파트 ):  99\n",
            "Validation size( 첫마을4단지푸르지오아파트 ):  12\n",
            "Train size( 첫마을6단지힐스테이트아파트 ):  104\n",
            "Validation size( 첫마을6단지힐스테이트아파트 ):  13\n",
            "Train size( 금강자연휴양림 ):  193\n",
            "Validation size( 금강자연휴양림 ):  24\n",
            "Train size( 조천연꽃공원 ):  186\n",
            "Validation size( 조천연꽃공원 ):  23\n",
            "Train size( 조치원봉산영당 ):  196\n",
            "Validation size( 조치원봉산영당 ):  24\n",
            "Train size( 초려역사공원 ):  186\n",
            "Validation size( 초려역사공원 ):  23\n",
            "Train size( 세종대곡리삼층석탑 ):  145\n",
            "Validation size( 세종대곡리삼층석탑 ):  17\n",
            "Train size( 연화사 ):  183\n",
            "Validation size( 연화사 ):  22\n",
            "Train size( 덕천군사우 ):  187\n",
            "Validation size( 덕천군사우 ):  23\n",
            "Train size( 충청남도산림박물관 ):  174\n",
            "Validation size( 충청남도산림박물관 ):  21\n",
            "Train size( BRT작은미술관 ):  88\n",
            "Validation size( BRT작은미술관 ):  11\n",
            "Train size( 세종시립민속박물관 ):  188\n",
            "Validation size( 세종시립민속박물관 ):  23\n",
            "Train size( 첫마을5단지푸르지오아파트 ):  105\n",
            "Validation size( 첫마을5단지푸르지오아파트 ):  12\n",
            "Train size( 도램마을10단지호반베르디움어반시티아파트 ):  112\n",
            "Validation size( 도램마을10단지호반베르디움어반시티아파트 ):  14\n",
            "Train size( 금강수목원 ):  174\n",
            "Validation size( 금강수목원 ):  21\n",
            "Train size( 연기향교 ):  153\n",
            "Validation size( 연기향교 ):  18\n",
            "Train size( 한뜰마을2단지더샵센트럴시티아파트 ):  110\n",
            "Validation size( 한뜰마을2단지더샵센트럴시티아파트 ):  13\n",
            "Train size( 조치원역경부선 ):  193\n",
            "Validation size( 조치원역경부선 ):  23\n",
            "Train size( 새뜸마을5단지아이파크메이저아파트 ):  109\n",
            "Validation size( 새뜸마을5단지아이파크메이저아파트 ):  13\n",
            "Train size( 연기대첩비공원 ):  167\n",
            "Validation size( 연기대첩비공원 ):  20\n",
            "Train size( 고운뜰전망대 ):  190\n",
            "Validation size( 고운뜰전망대 ):  23\n",
            "Train size( 조치원문화정원 ):  193\n",
            "Validation size( 조치원문화정원 ):  23\n",
            "Train size( 범지기마을10단지푸르지오아파트 ):  106\n",
            "Validation size( 범지기마을10단지푸르지오아파트 ):  13\n",
            "Train size( 국립세종도서관 ):  155\n",
            "Validation size( 국립세종도서관 ):  19\n",
            "Train size( 한뜰마을3단지더샵레이크파크아파트 ):  110\n",
            "Validation size( 한뜰마을3단지더샵레이크파크아파트 ):  13\n",
            "Train size( 조치원신흥푸르지오아파트 ):  105\n",
            "Validation size( 조치원신흥푸르지오아파트 ):  12\n",
            "Train size( 전의비암사삼층석탑 ):  198\n",
            "Validation size( 전의비암사삼층석탑 ):  24\n",
            "Train size( 새뜸마을14단지더샵힐스테이트아파트 ):  108\n",
            "Validation size( 새뜸마을14단지더샵힐스테이트아파트 ):  13\n",
            "Train size( 새뜸마을6단지힐스테이트메이저아파트 ):  102\n",
            "Validation size( 새뜸마을6단지힐스테이트메이저아파트 ):  12\n",
            "Train size( 황룡사 ):  184\n",
            "Validation size( 황룡사 ):  23\n",
            "Train size( 천주교대전교구세종성프란치스코성당 ):  185\n",
            "Validation size( 천주교대전교구세종성프란치스코성당 ):  23\n",
            "Train size( 세종전통장류박물관 ):  160\n",
            "Validation size( 세종전통장류박물관 ):  19\n",
            "Train size( 힐스테이트세종리버파크8단지 ):  109\n",
            "Validation size( 힐스테이트세종리버파크8단지 ):  13\n",
            "Train size( 6.25격전지개미고개 ):  153\n",
            "Validation size( 6.25격전지개미고개 ):  19\n",
            "Train size( 덕성서원 ):  190\n",
            "Validation size( 덕성서원 ):  23\n"
          ]
        }
      ]
    },
    {
      "cell_type": "markdown",
      "source": [
        "# 학습준비"
      ],
      "metadata": {
        "id": "7HWPjTXTdA5u"
      }
    },
    {
      "cell_type": "code",
      "source": [
        "import torch\n",
        "import os\n",
        "\n",
        "USE_CUDA = torch.cuda.is_available()\n",
        "DEVICE = torch.device(\"cuda\" if USE_CUDA else \"cpu\")\n",
        "BATCH_SIZE = 256\n",
        "EPOCH = 30"
      ],
      "metadata": {
        "id": "0kOee1DSc5Pf"
      },
      "execution_count": null,
      "outputs": []
    },
    {
      "cell_type": "code",
      "source": [
        "import torchvision.transforms as transforms\n",
        "\n",
        "data_transforms = {\n",
        "    'train': transforms.Compose([transforms.Resize([64, 64]),\n",
        "        transforms.RandomHorizontalFlip(), transforms.RandomVerticalFlip(), \n",
        "        transforms.RandomCrop(52), transforms.ToTensor(),\n",
        "        transforms.Normalize([0.485, 0.456, 0.406], [0.229, 0.224, 0.225]) ]),\n",
        "    'val':  transforms.Compose([transforms.Resize([64, 64]),\n",
        "        transforms.RandomCrop(52), transforms.ToTensor(),\n",
        "        transforms.Normalize([0.485, 0.456, 0.406], [0.229, 0.224, 0.225]) ])\n",
        "}"
      ],
      "metadata": {
        "id": "SzKQLC73R5K3"
      },
      "execution_count": null,
      "outputs": []
    },
    {
      "cell_type": "code",
      "source": [
        "from torchvision.datasets import ImageFolder\n",
        "from torch.utils.data import DataLoader\n",
        "\n",
        "data_dir = './splitted'\n",
        "image_datasets = {x: ImageFolder(root=os.path.join(data_dir, x),\n",
        "                                 transform=data_transforms[x]) for x in ['train', 'val']}\n",
        "dataloaders = {x: DataLoader(image_datasets[x],\n",
        "                             batch_size=BATCH_SIZE,\n",
        "                             shuffle=True,\n",
        "                             num_workers=2) for x in ['train', 'val']}     \n",
        "dataset_sizes = {x: len(image_datasets[x]) for x in ['train', 'val']}      \n",
        "class_name = image_datasets['train'].classes"
      ],
      "metadata": {
        "id": "Uj7mkLjOR5-O"
      },
      "execution_count": null,
      "outputs": []
    },
    {
      "cell_type": "code",
      "source": [
        "from torchvision import models\n",
        "import torch.nn as nn\n",
        "import torch.optim as optim\n",
        "\n",
        "resnet = models.resnet50(pretrained=True)\n",
        "num_ftrs = resnet.fc.in_features\n",
        "resnet.fc = nn.Linear(num_ftrs, 84)\n",
        "resnet = resnet.to(DEVICE)\n",
        "\n",
        "critetion = nn.CrossEntropyLoss()\n",
        "optimizer_ft = optim.Adam(filter(lambda p: p.requires_grad, resnet.parameters()), lr=0.001)\n",
        "\n",
        "from torch.optim import lr_scheduler\n",
        "exp_lr_scheduler = lr_scheduler.StepLR(optimizer_ft, step_size=7, gamma=0.1)"
      ],
      "metadata": {
        "colab": {
          "base_uri": "https://localhost:8080/",
          "height": 161,
          "referenced_widgets": [
            "c69249b307514ff6adbe59f6aa58ca60",
            "51189549cb1e492990a2c0ec425787ea",
            "81e83293574b482fa4b95bb0d01e2989",
            "0c8d460e6ec943828d733fabf1275483",
            "9134de0eb9ae45b7b40fa9fa9cff94da",
            "e66846e7746046ba91acc9916957147a",
            "df392540f1b94d50aaf9d0e286031db2",
            "95ca718c642144879c64fa86bbbee38a",
            "a7b63ad4a3384c62afc50fc9af9be322",
            "c34cf5ef731642f38a12c61ff33bb87e",
            "87568a8e5e5843a98190c89078a0e144"
          ]
        },
        "id": "l5Wxv9kqR8mk",
        "outputId": "b333290b-6afb-4f1e-b4e1-0fd8b8ce0061"
      },
      "execution_count": null,
      "outputs": [
        {
          "output_type": "stream",
          "name": "stderr",
          "text": [
            "/usr/local/lib/python3.7/dist-packages/torchvision/models/_utils.py:209: UserWarning: The parameter 'pretrained' is deprecated since 0.13 and will be removed in 0.15, please use 'weights' instead.\n",
            "  f\"The parameter '{pretrained_param}' is deprecated since 0.13 and will be removed in 0.15, \"\n",
            "/usr/local/lib/python3.7/dist-packages/torchvision/models/_utils.py:223: UserWarning: Arguments other than a weight enum or `None` for 'weights' are deprecated since 0.13 and will be removed in 0.15. The current behavior is equivalent to passing `weights=ResNet50_Weights.IMAGENET1K_V1`. You can also use `weights=ResNet50_Weights.DEFAULT` to get the most up-to-date weights.\n",
            "  warnings.warn(msg)\n",
            "Downloading: \"https://download.pytorch.org/models/resnet50-0676ba61.pth\" to /root/.cache/torch/hub/checkpoints/resnet50-0676ba61.pth\n"
          ]
        },
        {
          "output_type": "display_data",
          "data": {
            "text/plain": [
              "  0%|          | 0.00/97.8M [00:00<?, ?B/s]"
            ],
            "application/vnd.jupyter.widget-view+json": {
              "version_major": 2,
              "version_minor": 0,
              "model_id": "c69249b307514ff6adbe59f6aa58ca60"
            }
          },
          "metadata": {}
        }
      ]
    },
    {
      "cell_type": "code",
      "source": [
        "ct = 0\n",
        "for child in resnet.children():\n",
        "  ct += 1\n",
        "  if ct < 6:\n",
        "    for param in child.parameters():\n",
        "      param.requires_grad = False"
      ],
      "metadata": {
        "id": "QqY-v9DpR_mF"
      },
      "execution_count": null,
      "outputs": []
    },
    {
      "cell_type": "code",
      "source": [
        "from pickle import bytes_types\n",
        "import time\n",
        "import copy\n",
        "\n",
        "def train_resnet(model, criterion, optimizer, scheduler, num_epochs=25):\n",
        "\n",
        "  best_model_wts = copy.deepcopy(model.state_dict())\n",
        "  best_acc = 0.0\n",
        "  \n",
        "\n",
        "  for epoch in range(1, num_epochs + 1):\n",
        "    since = time.time()\n",
        "    for phase in ['train', 'val']:\n",
        "      if phase == 'train':\n",
        "        model.train()\n",
        "      else:\n",
        "        model.eval()\n",
        "\n",
        "      running_loss = 0.0\n",
        "      running_corrects = 0\n",
        "\n",
        "      for inputs, labels in dataloaders[phase]:\n",
        "        inputs = inputs.to(DEVICE)\n",
        "        labels = labels.to(DEVICE)\n",
        "\n",
        "        optimizer.zero_grad()\n",
        "\n",
        "        with torch.set_grad_enabled(phase == 'train'):\n",
        "          outputs = model(inputs)\n",
        "          _, preds = torch.max(outputs, 1)\n",
        "          loss = criterion(outputs, labels)\n",
        "\n",
        "          if phase == 'train':\n",
        "            loss.backward()\n",
        "            optimizer.step()\n",
        "\n",
        "        running_loss += loss.item() * inputs.size(0)\n",
        "        running_corrects += torch.sum(preds == labels.data)\n",
        "\n",
        "      if phase == 'train':\n",
        "        scheduler.step()\n",
        "\n",
        "      epoch_loss = running_loss/dataset_sizes[phase]\n",
        "      epoch_acc = running_corrects.double()/dataset_sizes[phase]\n",
        "\n",
        "      print('{} Loss: {:.4f}, Acc: {:.4f}'.format(phase, epoch_loss, epoch_acc))\n",
        "\n",
        "      if phase == 'val' and epoch_acc > best_acc:\n",
        "        best_acc = epoch_acc\n",
        "        best_model_wts = copy.deepcopy(model.state_dict())\n",
        "\n",
        "    time_elapsed = time.time() - since\n",
        "    print('Completed in {:.0f}m {:.0f}s'.format(time_elapsed // 60, time_elapsed % 60))\n",
        "  print('Best val Acc: {:4f}'.format(best_acc))\n",
        "\n",
        "  model.load_state_dict(best_model_wts)\n",
        "\n",
        "  return model"
      ],
      "metadata": {
        "id": "a_g8U9N5SBoM"
      },
      "execution_count": null,
      "outputs": []
    },
    {
      "cell_type": "code",
      "source": [
        "model_resnet50 = train_resnet(resnet, critetion, optimizer_ft,\n",
        "                              exp_lr_scheduler, num_epochs=EPOCH)\n",
        "\n",
        "torch.save(model_resnet50, 'resnet50.pt')"
      ],
      "metadata": {
        "colab": {
          "base_uri": "https://localhost:8080/"
        },
        "id": "I2dNPzKNSDWE",
        "outputId": "5e0614ed-660c-4723-8e97-0f7c2a1e6201"
      },
      "execution_count": null,
      "outputs": [
        {
          "output_type": "stream",
          "name": "stdout",
          "text": [
            "train Loss: 1.2205, Acc: 0.6901\n",
            "val Loss: 1.3398, Acc: 0.6975\n",
            "Completed in 2m 14s\n",
            "train Loss: 0.2849, Acc: 0.9097\n",
            "val Loss: 0.5704, Acc: 0.8511\n",
            "Completed in 2m 10s\n",
            "train Loss: 0.1631, Acc: 0.9483\n",
            "val Loss: 0.6662, Acc: 0.8225\n",
            "Completed in 2m 8s\n",
            "train Loss: 0.1386, Acc: 0.9575\n",
            "val Loss: 0.4513, Acc: 0.8949\n",
            "Completed in 2m 9s\n",
            "train Loss: 0.1147, Acc: 0.9647\n",
            "val Loss: 0.6756, Acc: 0.8670\n",
            "Completed in 2m 9s\n",
            "train Loss: 0.0853, Acc: 0.9731\n",
            "val Loss: 0.5295, Acc: 0.8690\n",
            "Completed in 2m 9s\n",
            "train Loss: 0.0726, Acc: 0.9777\n",
            "val Loss: 0.4704, Acc: 0.8823\n",
            "Completed in 2m 8s\n",
            "train Loss: 0.0374, Acc: 0.9885\n",
            "val Loss: 0.2190, Acc: 0.9342\n",
            "Completed in 2m 7s\n",
            "train Loss: 0.0167, Acc: 0.9953\n",
            "val Loss: 0.2286, Acc: 0.9348\n",
            "Completed in 2m 7s\n",
            "train Loss: 0.0116, Acc: 0.9965\n",
            "val Loss: 0.1853, Acc: 0.9528\n",
            "Completed in 2m 9s\n",
            "train Loss: 0.0102, Acc: 0.9966\n",
            "val Loss: 0.2152, Acc: 0.9461\n",
            "Completed in 2m 9s\n",
            "train Loss: 0.0083, Acc: 0.9980\n",
            "val Loss: 0.1882, Acc: 0.9501\n",
            "Completed in 2m 7s\n",
            "train Loss: 0.0077, Acc: 0.9977\n",
            "val Loss: 0.1961, Acc: 0.9488\n",
            "Completed in 2m 9s\n",
            "train Loss: 0.0058, Acc: 0.9984\n",
            "val Loss: 0.1838, Acc: 0.9594\n",
            "Completed in 2m 7s\n",
            "train Loss: 0.0060, Acc: 0.9981\n",
            "val Loss: 0.1713, Acc: 0.9508\n",
            "Completed in 2m 7s\n",
            "train Loss: 0.0044, Acc: 0.9991\n",
            "val Loss: 0.1913, Acc: 0.9515\n",
            "Completed in 2m 7s\n",
            "train Loss: 0.0060, Acc: 0.9986\n",
            "val Loss: 0.1767, Acc: 0.9581\n",
            "Completed in 2m 6s\n",
            "train Loss: 0.0045, Acc: 0.9991\n",
            "val Loss: 0.1814, Acc: 0.9521\n",
            "Completed in 2m 6s\n",
            "train Loss: 0.0050, Acc: 0.9988\n",
            "val Loss: 0.1688, Acc: 0.9614\n",
            "Completed in 2m 6s\n",
            "train Loss: 0.0037, Acc: 0.9992\n",
            "val Loss: 0.1839, Acc: 0.9594\n",
            "Completed in 2m 6s\n",
            "train Loss: 0.0055, Acc: 0.9984\n",
            "val Loss: 0.1814, Acc: 0.9574\n",
            "Completed in 2m 7s\n",
            "train Loss: 0.0041, Acc: 0.9995\n",
            "val Loss: 0.1594, Acc: 0.9608\n",
            "Completed in 2m 8s\n",
            "train Loss: 0.0039, Acc: 0.9994\n",
            "val Loss: 0.1852, Acc: 0.9475\n",
            "Completed in 2m 8s\n",
            "train Loss: 0.0042, Acc: 0.9990\n",
            "val Loss: 0.1684, Acc: 0.9608\n",
            "Completed in 2m 8s\n",
            "train Loss: 0.0051, Acc: 0.9986\n",
            "val Loss: 0.1769, Acc: 0.9594\n",
            "Completed in 2m 6s\n",
            "train Loss: 0.0047, Acc: 0.9990\n",
            "val Loss: 0.1881, Acc: 0.9528\n",
            "Completed in 2m 6s\n",
            "train Loss: 0.0051, Acc: 0.9987\n",
            "val Loss: 0.1814, Acc: 0.9541\n",
            "Completed in 2m 5s\n",
            "train Loss: 0.0038, Acc: 0.9992\n",
            "val Loss: 0.1754, Acc: 0.9521\n",
            "Completed in 2m 7s\n",
            "train Loss: 0.0041, Acc: 0.9990\n",
            "val Loss: 0.1880, Acc: 0.9501\n",
            "Completed in 2m 7s\n",
            "train Loss: 0.0046, Acc: 0.9986\n",
            "val Loss: 0.1698, Acc: 0.9594\n",
            "Completed in 2m 7s\n",
            "Best val Acc: 0.961436\n"
          ]
        }
      ]
    },
    {
      "cell_type": "code",
      "source": [
        "!cp '/content/resnet50.pt' '/content/drive/MyDrive/DeepLearning_Datas'"
      ],
      "metadata": {
        "id": "DPdtn2j_SEsU"
      },
      "execution_count": null,
      "outputs": []
    }
  ]
}