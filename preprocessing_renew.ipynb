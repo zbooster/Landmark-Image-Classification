{
  "cells": [
    {
      "cell_type": "markdown",
      "metadata": {
        "id": "zplr4zhsfsbz"
      },
      "source": [
        "# 데이터 전처리\n",
        "Colab의 Local disk의 여유 공간은 약 30~60GB 정도로 AI Hub에 있는 데이터를 풀어내기에는 적합하지 않다. Local에 있는 Disk를 이용하여 Resize를 수행하기로 한다."
      ]
    },
    {
      "cell_type": "markdown",
      "metadata": {
        "id": "07gOM5JEgD6A"
      },
      "source": [
        "## 1.다운로드 데이터 분석\n",
        "AI-Hub에서 다운로드 받은 데이터는 아래와 같은 구조를 가진다. \n",
        "\n",
        "\n",
        "```bash\n",
        "랜드마크 이미지\n",
        "├─Training\n",
        "│  └─세종특별자치시\n",
        "│          [라벨]세종특별자치시.zip\n",
        "│          [원천]세종특별자치시_001.zip\n",
        "└─Validation\n",
        "    └─세종특별자치시\n",
        "            [라벨]세종특별자치시.zip\n",
        "            [원천]세종특별자치시_001.zip\n",
        "```\n",
        "테스트와 검증 데이터가 분리되어 있으니 그대로 이용하고, [라벨] 파일은 metadata가 있는 json파일이다. 현 시점에서는 필요없으니 무시한다. 즉, [원천] 파일만 압축을 풀어 Resize를 수행하면 된다.\n"
      ]
    },
    {
      "cell_type": "markdown",
      "metadata": {
        "id": "1H5dYfnNkVbF"
      },
      "source": [
        "## 2.데이터 압축 해제\n",
        "중간폴더의 지역명은 필요없으니 무시하고 디렉토리를 구성하여 압축을 해제한다."
      ]
    },
    {
      "cell_type": "code",
      "execution_count": 25,
      "metadata": {},
      "outputs": [],
      "source": [
        "import os, glob\n",
        "\n",
        "base_dir = '/content/랜드마크 이미지/'\n",
        "extract_dir = '/content/extracts'\n",
        "\n",
        "for dtype in os.listdir(base_dir):\n",
        "    dst_dir = os.path.join(extract_dir, dtype)\n",
        "    os.makedirs(dst_dir, exist_ok=True)\n",
        "    for file_name in glob.glob(os.path.join(base_dir, dtype) + '/**/*원천*', recursive=True):\n",
        "        file_name = '\\'' + file_name + '\\''\n",
        "        !unzip -o -qq {file_name} -d {dst_dir}"
      ]
    },
    {
      "cell_type": "markdown",
      "metadata": {
        "id": "JlQVuvZQkZgf"
      },
      "source": [
        "## 3.RESIZE\n",
        "압축 해제한 데이터의 구조는 아래와 같다. 파일 확장자명은 JPG or jpg로 되어 있으니 해당 파일을 찾아\n",
        "OpenCV로 0.1배로 Resize하여 저장한다.\n",
        "\n",
        "```bash\n",
        "6.25격전지개미고개\n",
        "  └─6.25격전지개미고개_001_40613647.JPG\n",
        "    6.25격전지개미고개_003_40613648.JPG\n",
        "    6.25격전지개미고개_004_40613649.JPG\n",
        "    6.25격전지개미고개_005_40613650.JPG\n",
        "    6.25격전지개미고개_006_40613651.JPG\n",
        "    (...)\n",
        "```"
      ]
    },
    {
      "cell_type": "code",
      "execution_count": null,
      "metadata": {
        "id": "sr4Zh5ZsfpBw"
      },
      "outputs": [],
      "source": [
        "from tqdm.notebook import tqdm\n",
        "\n",
        "resized_dir = '/content/resizeds'\n",
        "for dtype in os.listdir(resized_dir):\n",
        "    dst_dir = os.path.join(resized_dir, dtype)\n",
        "    os.makedirs(dst_dir, exist_ok=True)\n",
        "    src_list = glob.glob(os.path.join(extract_dir, dtype) + '/**/*.{JPG, jpg}')\n",
        "    print(src_list[:5])\n",
        "    \n",
        "    \n",
        "    \n"
      ]
    },
    {
      "cell_type": "code",
      "execution_count": null,
      "metadata": {
        "id": "5DCGHI_YfpB0",
        "outputId": "d653ebde-847a-4ffd-b1cb-0c4ccb8b9bed"
      },
      "outputs": [
        {
          "name": "stdout",
          "output_type": "stream",
          "text": [
            "/datasets/Landmark_Images\n"
          ]
        }
      ],
      "source": [
        "region_list = ['세종특별자치시']\n",
        "dataset_dir = '/datasets'\n",
        "project_name = 'Landmark_Images'\n",
        "base_dir = os.path.join(dataset_dir, project_name)\n",
        "\n",
        "print(base_dir)"
      ]
    },
    {
      "cell_type": "code",
      "execution_count": null,
      "metadata": {
        "id": "QzYUw5lBfpB1",
        "outputId": "a890ea82-ebac-4352-cd93-0f6d2ab950d5"
      },
      "outputs": [
        {
          "name": "stdout",
          "output_type": "stream",
          "text": [
            "Reading package lists... Done\n",
            "Building dependency tree... Done\n",
            "Reading state information... Done\n",
            "unzip is already the newest version (6.0-26).\n",
            "0 upgraded, 0 newly installed, 0 to remove and 9 not upgraded.\n"
          ]
        }
      ],
      "source": [
        "!apt-get install unzip"
      ]
    },
    {
      "cell_type": "code",
      "execution_count": null,
      "metadata": {
        "id": "y1yPgu9xfpB3"
      },
      "outputs": [],
      "source": [
        "extract_dir = os.path.join(base_dir, 'extracts')\n",
        "os.mkdir(extract_dir)\n",
        "for data_type in ['Training', 'Validation']:\n",
        "    data_type_dir = os.path.join(extract_dir, data_type)\n",
        "    if not os.path.isdir(data_type_dir):\n",
        "        os.mkdir(data_type_dir)\n",
        "\n",
        "    for region in region_list:\n",
        "        region_dir = os.path.join(data_type_dir, region)\n",
        "        if not os.path.isdir(region_dir):\n",
        "            os.mkdir(region_dir)\n",
        "        src_file = os.path.join(base_dir, 'downloads', data_type, region, \"[원천]{}_001.zip\".format(region))\n",
        "        !unzip -qq {src_file} -d {region_dir}"
      ]
    },
    {
      "cell_type": "code",
      "execution_count": null,
      "metadata": {
        "id": "v7g7V2pnfpB4"
      },
      "outputs": [],
      "source": [
        "import cv2"
      ]
    },
    {
      "cell_type": "code",
      "execution_count": null,
      "metadata": {
        "id": "Klxi8U6PfpB5"
      },
      "outputs": [],
      "source": [
        "extract_dir = os.path.join(base_dir, 'extracts')\n",
        "resized_dir = os.path.join(base_dir, 'resizeds')\n",
        "os.mkdir(resized_dir)"
      ]
    },
    {
      "cell_type": "code",
      "execution_count": null,
      "metadata": {
        "colab": {
          "referenced_widgets": [
            "fb8e3895050547ae86a17cf14abd5d5a",
            "f48cb038f42b4115aa923753c8ce5af1",
            "609209ac714c4310af0789ade31b4129",
            "27b2cdfa6f184238b650af8d84baf379",
            "d5b4752d923a4a8e8922010eaee0d6c3",
            "b1309b7da9194a298ac0d7b47da2a4f8",
            "387bc86c6dc449fa9d53132c0fa3e48a",
            "12cc4ee0787e4d8aac3df0b3c185df98",
            "743442f26a35479983e44a3e2ac87e19",
            "0984b97d3eab417cb7d350b3f9bc4642",
            "d8430b5bb2f34fc880dba16bf8e409af",
            "7735655e3aaf465482c57cf690a7bf36",
            "70ad05fc8b2343e1a355c1dd9c54a304",
            "af1cec5f103943458d33cd35a7cac5ce",
            "96d0b440e4a642d8b39c172b9bc7a9f2",
            "604e624490104e24bc3d790bf1a2e3db",
            "80aa736407ba438ca9e2541a1b0838fa",
            "0d491b6631c24af7bde1b4c9dcc21278",
            "c2ccf6ac97da4278a44c1f6a4aa2d572",
            "b855ada77ae64cef8be60ab123e71720",
            "64f7808108014f34919f28e47b8f0770",
            "2bb1f0535f534a61800e01dc415b9af8",
            "4a0132a848774ee882c2da4a18a32d4e",
            "6d50275c8cc949fc8aa87eeb07b461a3",
            "6d57e9914b9b453285b71edaebfa9d6f",
            "efc9ea37e1024fedab00c0be30601bdd",
            "a8edfcb945f54127a201264afa6e8def",
            "6b0d8c77a3d448d09a7e34384552dee1",
            "992b8c0dc5984c9787b4258424f86cef",
            "66c8f7c7565c493198df768ddf4e08bc",
            "31a46875be31489ab62c8bbc4bce10a7",
            "b23e184deb6e42b28e6a885237ad703a",
            "ffb70e673f354b5b9ca72ba37b9b6c69",
            "e66c124719ec45fc869f79c52c0d9d34",
            "18a7778d7d63401bbf7b79d555564be3",
            "f0c43ed2deed47f9b47146854a911619",
            "f91815a9dbf74a959a031e0ad63e4eaf",
            "35f77493b78d4ef59cacf478fb4264a3",
            "3a8237a558284d58a0e92d9861789d62",
            "398f75edc1f641dc820057d538cbdaa6",
            "a410b95bca0b4b8f83e2f007dc544790",
            "6e8c252521b54df4bfc7e2de8550508b",
            "668fb580d93446a195d0c04dca488758",
            "5e51ac5af1d24980b8354f6c1a754e2e",
            "3a39878cb9c841a1a515441df977c127",
            "18d20104d82047d3a4f4c641de80195d",
            "0a88cfa4f1d94f969bb33ba333b30185",
            "b5b623f7c3d94e179162c48c1985da7b",
            "f2b2bef295ba4733b18dbe89181418ca",
            "be8e917c510a413294e431c0a0d954a7",
            "1a03d3b6e9a34230a5dda7c65290135a",
            "f03ba7f2a84e4bb080155d6f31d428df",
            "10747314d4124507ba00c43a99777892",
            "19c6bbdad73f48829901c55c065bccd6",
            "13d43b64cb4b4e11b31b1c9879100fa7",
            "3044f099785540539d1f2c65bad00cf4",
            "996b247734ed4afcb414c4d943559261",
            "de7cbf407c6742bbbe2c47c198020531",
            "de9fa1f3333c40cd99976fc18438bd5a",
            "1f17a2b2a1eb4797a8d59dfb7bb6ddd5",
            "86ef659a71814bf7b7dd0cce2c38565c",
            "16adcd62d42b41c9a470160b70504615",
            "44e4b8ef1b1244bd895df4f87169b82d",
            "905b5f7278c14b1497060e5b71c6906a",
            "fc387a9c5fd04a81a965f409764f6933",
            "1f2e20575acb4e3b9ead86c08e3d818d",
            "4bfee01f73af4eeababd69cc8947abc8",
            "630cab1e5d6a4697ac0afc22f562b109",
            "fe97fd42a31d4f73bce197dafe53ccce",
            "20d0879652db4ebea7cb27930c5a1300",
            "08de6dfa8a38450d9da92198395f70a9",
            "591a421fa5ad47bb98a2a5d959112c16",
            "21fd5bbb3b8043efbc30e40416405e64",
            "43bf379112684d5ab11c7f241c3849c2",
            "82f9e945ff714f6ea4982ae4983c44e8",
            "db819618cf0841688a06f2ac3bc8cdb2",
            "6473a8ce279a4eb782da0ac6edd8d384",
            "d4417219142b4fb8bbc8b5ca3ee7f8c7",
            "15e2065a11f44851a66cf70b292b2bf4",
            "456fab9558314d3a826feb15162599f4",
            "013a4a8df262485ca65c1c7d5efc5055",
            "2824705526a64b7eb1282f51f46adcc0",
            "c3e9f622c0034fdf8c2b320d3d91372a",
            "511afe1f0f1c4526ba882cc85ac5c200",
            "e6ac0f89b1094637a4742bad88c1b60a",
            "630015ad410f4e6db689936ba90498aa",
            "fadddaa5167940018c82316eea1e4df2",
            "a7db0e9a525247e3bf1b08e97149cc2a",
            "70faf1d769264844963d3b9662a1048e",
            "c86f3b299c6e417f948de235bd559f41",
            "ad2e9d6793204d06911383fa5cd6a19f",
            "9fc974ba90dc46349df6b29e5cc6e345",
            "0b0a5d6f51904ee99663740c8c94a9b5",
            "11e66b65cee847fcb7eddbfa27e72b59",
            "ac8e5531137945b597676156fa7019aa",
            "23bbf69be7214b05956f9d784084a9be",
            "2cf33c254cb0499a8f5297ff7568d4b2",
            "64c03ba47ece4e55bdac0ec8aeff4e13",
            "4a7d4f83aa0f4649a2677519827dbaa8",
            "bd84ed9d4c514190b02cb6d877e3fa67",
            "4a7175a1bca245f7bba893cb910bcf29",
            "8767ee633f38499e887d9d0497d2c86c",
            "aee8e760306648d8973b0af00011159b",
            "dac0cf8e7bf049829103b27d1577a276",
            "9254d5a7896d46c3bcc2cb291e109dde",
            "7e7098687ef24c34bd499a4f112c62fa",
            "571afc5c2b1a446da6f02b8e6138b75d",
            "06d08ae85c004fb9820a12051b0f07f7",
            "a95bdd735f5d4da981bad53e494ed2ca",
            "7531b0995b5e47bca583980a2d5801dd",
            "c7b627bacde146fba2cd9ff4f2eaae3d",
            "951254769c2747aa9668f1405800275c",
            "9b5d06422656414491df948dee96a511",
            "be354ad065794c1eb29d1e992236099a",
            "6cbef3124a944532ac963aec08c823ee",
            "b43a7a072c27456aa46227aa4f9f6dec",
            "6f3c3d11a2424fbf9db060c3c42164ed",
            "ab9b415695114071bf92e030ff26c894",
            "12c4d75d250c4578b57d04ef68397d2e",
            "3b935a219f884d3f988d5ed8646ab34d",
            "0376ff99e52846809056bc76c05e0b7a",
            "daa05cbff83748bbb06e6a2969888d3f",
            "3e1b7ffca02947e6bb1882fcdd3b5bd3",
            "7f6a34ea9df74caf9698806af9ec092d",
            "56c57aa653284b069f14e2cbbf7129e1",
            "cebf6d120b494a1bbe6f8077ac82b6ae",
            "0c068685d0a2408da79edf6707cb0edc",
            "b5b65456beb746de9ce84deac40c4644",
            "b3cdbeda28b040f78db4dba1ba392cc0",
            "f073a75a9bec45f786e724e058afdc3c",
            "ee21aba12b644ea980a310ddf04bc9f2",
            "6640ea7ac3104d76b5d4875bb32634ae",
            "7b471ca84d1344f4baf814c4df9e5fcf",
            "336b585a94fb45769188cd0297d927e1",
            "609133c1092149d2a5441d0236294cdf",
            "a11ddd00c8294c89b44aa226973773bd",
            "c4323a51c0b24cbda172083060a3b3f3",
            "f5b124574119404abadd83285bb1f763",
            "ef7856aefa4642b58695734b879d5e97",
            "56e8dd63894942d4bf825dd423f11c0b",
            "20f2806c6ef346beb16869895321922e",
            "bdf903b32327469da7cde697c9efdb86",
            "11b4e0af102a4c418e75897f21a3a6a9",
            "272c0e1442244fe2afa629c18be9de2f",
            "5ca657b04efd4db9ba294a3fd8790ebb",
            "57c9c192134b4679a5c16f7ff1d302d6",
            "ef49303c7303480b90d8f09aae0c98f8",
            "a3659eef0ce24fd5b4662c5dfe975bdd",
            "0984bbc0ec88432c9b0857f66c6daf5b",
            "9058e7ce472947e2982eeb9191d3cdf4",
            "c5139d555a3a4468b2cdda8be0f85999",
            "a925ea8f2db74d8e8186cd8987e5ca90",
            "74feda3d705c4038af6e41eef4faffe2",
            "0c7ae289ed9e45468b69f746587de88a",
            "0f2d0b5a35fd4a4cac17f5700d8109cf",
            "cdedb66cdecc4ffb9b30466adcc67be0",
            "08d8ee25af6d4810b81a7bc776b8d68a",
            "afc5843faf194bbb8ddae8d974af8f44",
            "fdedf82cdc2f45b2b9b9bf8a22f848c5",
            "89ae4b17b9b94043896152b2831d8f97",
            "6ed0b3c5d49a4433b3c18886b7eb57e6",
            "f0e7cadfabdf4884a2471806c5a7d994",
            "49bf03338a6746dd9b7b6fc257ebcef6",
            "41d9c21c46374ff9acbeaea1c0ac5eed",
            "e4ca6320ba0f46acaf27754adcb9b5de",
            "521845a9e8d84c639cb5793390dffa91",
            "d5178dc3e87b400199eee2f3b8bdd34e",
            "a0f5d9b4f27749849211bc7534dd0250"
          ]
        },
        "id": "GQ10M5aSfpB6",
        "outputId": "82808e19-7f2d-424f-ef21-913015e583d2"
      },
      "outputs": [
        {
          "name": "stdout",
          "output_type": "stream",
          "text": [
            "Resize class: 6.25격전지개미고개, data_type: Training\n"
          ]
        },
        {
          "data": {
            "application/vnd.jupyter.widget-view+json": {
              "model_id": "fb8e3895050547ae86a17cf14abd5d5a",
              "version_major": 2,
              "version_minor": 0
            },
            "text/plain": [
              "  0%|          | 0/153 [00:00<?, ?it/s]"
            ]
          },
          "metadata": {},
          "output_type": "display_data"
        },
        {
          "name": "stdout",
          "output_type": "stream",
          "text": [
            "Resize class: BRT작은미술관, data_type: Training\n"
          ]
        },
        {
          "data": {
            "application/vnd.jupyter.widget-view+json": {
              "model_id": "f48cb038f42b4115aa923753c8ce5af1",
              "version_major": 2,
              "version_minor": 0
            },
            "text/plain": [
              "  0%|          | 0/88 [00:00<?, ?it/s]"
            ]
          },
          "metadata": {},
          "output_type": "display_data"
        },
        {
          "name": "stdout",
          "output_type": "stream",
          "text": [
            "Resize class: 가락마을20단지호반베르디움5차아파트, data_type: Training\n"
          ]
        },
        {
          "data": {
            "application/vnd.jupyter.widget-view+json": {
              "model_id": "609209ac714c4310af0789ade31b4129",
              "version_major": 2,
              "version_minor": 0
            },
            "text/plain": [
              "  0%|          | 0/108 [00:00<?, ?it/s]"
            ]
          },
          "metadata": {},
          "output_type": "display_data"
        },
        {
          "name": "stdout",
          "output_type": "stream",
          "text": [
            "Resize class: 가락마을3단지호반베르디움4차아파트, data_type: Training\n"
          ]
        },
        {
          "data": {
            "application/vnd.jupyter.widget-view+json": {
              "model_id": "27b2cdfa6f184238b650af8d84baf379",
              "version_major": 2,
              "version_minor": 0
            },
            "text/plain": [
              "  0%|          | 0/104 [00:00<?, ?it/s]"
            ]
          },
          "metadata": {},
          "output_type": "display_data"
        },
        {
          "name": "stdout",
          "output_type": "stream",
          "text": [
            "Resize class: 가온마을1단지힐스테이트세종2차, data_type: Training\n"
          ]
        },
        {
          "data": {
            "application/vnd.jupyter.widget-view+json": {
              "model_id": "d5b4752d923a4a8e8922010eaee0d6c3",
              "version_major": 2,
              "version_minor": 0
            },
            "text/plain": [
              "  0%|          | 0/104 [00:00<?, ?it/s]"
            ]
          },
          "metadata": {},
          "output_type": "display_data"
        },
        {
          "name": "stdout",
          "output_type": "stream",
          "text": [
            "Resize class: 가재마을세종호반베르디움2단지아파트, data_type: Training\n"
          ]
        },
        {
          "data": {
            "application/vnd.jupyter.widget-view+json": {
              "model_id": "b1309b7da9194a298ac0d7b47da2a4f8",
              "version_major": 2,
              "version_minor": 0
            },
            "text/plain": [
              "  0%|          | 0/107 [00:00<?, ?it/s]"
            ]
          },
          "metadata": {},
          "output_type": "display_data"
        },
        {
          "name": "stdout",
          "output_type": "stream",
          "text": [
            "Resize class: 고운뜰전망대, data_type: Training\n"
          ]
        },
        {
          "data": {
            "application/vnd.jupyter.widget-view+json": {
              "model_id": "387bc86c6dc449fa9d53132c0fa3e48a",
              "version_major": 2,
              "version_minor": 0
            },
            "text/plain": [
              "  0%|          | 0/190 [00:00<?, ?it/s]"
            ]
          },
          "metadata": {},
          "output_type": "display_data"
        },
        {
          "name": "stdout",
          "output_type": "stream",
          "text": [
            "Resize class: 국립세종도서관, data_type: Training\n"
          ]
        },
        {
          "data": {
            "application/vnd.jupyter.widget-view+json": {
              "model_id": "12cc4ee0787e4d8aac3df0b3c185df98",
              "version_major": 2,
              "version_minor": 0
            },
            "text/plain": [
              "  0%|          | 0/155 [00:00<?, ?it/s]"
            ]
          },
          "metadata": {},
          "output_type": "display_data"
        },
        {
          "name": "stdout",
          "output_type": "stream",
          "text": [
            "Resize class: 국립세종수목원, data_type: Training\n"
          ]
        },
        {
          "data": {
            "application/vnd.jupyter.widget-view+json": {
              "model_id": "743442f26a35479983e44a3e2ac87e19",
              "version_major": 2,
              "version_minor": 0
            },
            "text/plain": [
              "  0%|          | 0/176 [00:00<?, ?it/s]"
            ]
          },
          "metadata": {},
          "output_type": "display_data"
        },
        {
          "name": "stdout",
          "output_type": "stream",
          "text": [
            "Resize class: 국립조세박물관, data_type: Training\n"
          ]
        },
        {
          "data": {
            "application/vnd.jupyter.widget-view+json": {
              "model_id": "0984b97d3eab417cb7d350b3f9bc4642",
              "version_major": 2,
              "version_minor": 0
            },
            "text/plain": [
              "  0%|          | 0/155 [00:00<?, ?it/s]"
            ]
          },
          "metadata": {},
          "output_type": "display_data"
        },
        {
          "name": "stdout",
          "output_type": "stream",
          "text": [
            "Resize class: 금강수목원, data_type: Training\n"
          ]
        },
        {
          "data": {
            "application/vnd.jupyter.widget-view+json": {
              "model_id": "d8430b5bb2f34fc880dba16bf8e409af",
              "version_major": 2,
              "version_minor": 0
            },
            "text/plain": [
              "  0%|          | 0/174 [00:00<?, ?it/s]"
            ]
          },
          "metadata": {},
          "output_type": "display_data"
        },
        {
          "name": "stdout",
          "output_type": "stream",
          "text": [
            "Resize class: 금강수변공원, data_type: Training\n"
          ]
        },
        {
          "data": {
            "application/vnd.jupyter.widget-view+json": {
              "model_id": "7735655e3aaf465482c57cf690a7bf36",
              "version_major": 2,
              "version_minor": 0
            },
            "text/plain": [
              "  0%|          | 0/107 [00:00<?, ?it/s]"
            ]
          },
          "metadata": {},
          "output_type": "display_data"
        },
        {
          "name": "stdout",
          "output_type": "stream",
          "text": [
            "Resize class: 금강자연휴양림, data_type: Training\n"
          ]
        },
        {
          "data": {
            "application/vnd.jupyter.widget-view+json": {
              "model_id": "70ad05fc8b2343e1a355c1dd9c54a304",
              "version_major": 2,
              "version_minor": 0
            },
            "text/plain": [
              "  0%|          | 0/193 [00:00<?, ?it/s]"
            ]
          },
          "metadata": {},
          "output_type": "display_data"
        },
        {
          "name": "stdout",
          "output_type": "stream",
          "text": [
            "Resize class: 금남남산영당, data_type: Training\n"
          ]
        },
        {
          "data": {
            "application/vnd.jupyter.widget-view+json": {
              "model_id": "af1cec5f103943458d33cd35a7cac5ce",
              "version_major": 2,
              "version_minor": 0
            },
            "text/plain": [
              "  0%|          | 0/185 [00:00<?, ?it/s]"
            ]
          },
          "metadata": {},
          "output_type": "display_data"
        },
        {
          "name": "stdout",
          "output_type": "stream",
          "text": [
            "Resize class: 금남모인당, data_type: Training\n"
          ]
        },
        {
          "data": {
            "application/vnd.jupyter.widget-view+json": {
              "model_id": "96d0b440e4a642d8b39c172b9bc7a9f2",
              "version_major": 2,
              "version_minor": 0
            },
            "text/plain": [
              "  0%|          | 0/184 [00:00<?, ?it/s]"
            ]
          },
          "metadata": {},
          "output_type": "display_data"
        },
        {
          "name": "stdout",
          "output_type": "stream",
          "text": [
            "Resize class: 금남문절사, data_type: Training\n"
          ]
        },
        {
          "data": {
            "application/vnd.jupyter.widget-view+json": {
              "model_id": "604e624490104e24bc3d790bf1a2e3db",
              "version_major": 2,
              "version_minor": 0
            },
            "text/plain": [
              "  0%|          | 0/186 [00:00<?, ?it/s]"
            ]
          },
          "metadata": {},
          "output_type": "display_data"
        },
        {
          "name": "stdout",
          "output_type": "stream",
          "text": [
            "Resize class: 김종서장군묘소, data_type: Training\n"
          ]
        },
        {
          "data": {
            "application/vnd.jupyter.widget-view+json": {
              "model_id": "80aa736407ba438ca9e2541a1b0838fa",
              "version_major": 2,
              "version_minor": 0
            },
            "text/plain": [
              "  0%|          | 0/158 [00:00<?, ?it/s]"
            ]
          },
          "metadata": {},
          "output_type": "display_data"
        },
        {
          "name": "stdout",
          "output_type": "stream",
          "text": [
            "Resize class: 나성독락정, data_type: Training\n"
          ]
        },
        {
          "data": {
            "application/vnd.jupyter.widget-view+json": {
              "model_id": "0d491b6631c24af7bde1b4c9dcc21278",
              "version_major": 2,
              "version_minor": 0
            },
            "text/plain": [
              "  0%|          | 0/160 [00:00<?, ?it/s]"
            ]
          },
          "metadata": {},
          "output_type": "display_data"
        },
        {
          "name": "stdout",
          "output_type": "stream",
          "text": [
            "Resize class: 덕성서원, data_type: Training\n"
          ]
        },
        {
          "data": {
            "application/vnd.jupyter.widget-view+json": {
              "model_id": "c2ccf6ac97da4278a44c1f6a4aa2d572",
              "version_major": 2,
              "version_minor": 0
            },
            "text/plain": [
              "  0%|          | 0/190 [00:00<?, ?it/s]"
            ]
          },
          "metadata": {},
          "output_type": "display_data"
        },
        {
          "name": "stdout",
          "output_type": "stream",
          "text": [
            "Resize class: 덕천군사우, data_type: Training\n"
          ]
        },
        {
          "data": {
            "application/vnd.jupyter.widget-view+json": {
              "model_id": "b855ada77ae64cef8be60ab123e71720",
              "version_major": 2,
              "version_minor": 0
            },
            "text/plain": [
              "  0%|          | 0/187 [00:00<?, ?it/s]"
            ]
          },
          "metadata": {},
          "output_type": "display_data"
        },
        {
          "name": "stdout",
          "output_type": "stream",
          "text": [
            "Resize class: 도램마을10단지호반베르디움어반시티아파트, data_type: Training\n"
          ]
        },
        {
          "data": {
            "application/vnd.jupyter.widget-view+json": {
              "model_id": "64f7808108014f34919f28e47b8f0770",
              "version_major": 2,
              "version_minor": 0
            },
            "text/plain": [
              "  0%|          | 0/112 [00:00<?, ?it/s]"
            ]
          },
          "metadata": {},
          "output_type": "display_data"
        },
        {
          "name": "stdout",
          "output_type": "stream",
          "text": [
            "Resize class: 도램마을15단지힐스테이트아파트, data_type: Training\n"
          ]
        },
        {
          "data": {
            "application/vnd.jupyter.widget-view+json": {
              "model_id": "2bb1f0535f534a61800e01dc415b9af8",
              "version_major": 2,
              "version_minor": 0
            },
            "text/plain": [
              "  0%|          | 0/107 [00:00<?, ?it/s]"
            ]
          },
          "metadata": {},
          "output_type": "display_data"
        },
        {
          "name": "stdout",
          "output_type": "stream",
          "text": [
            "Resize class: 밀양박씨오충정려, data_type: Training\n"
          ]
        },
        {
          "data": {
            "application/vnd.jupyter.widget-view+json": {
              "model_id": "4a0132a848774ee882c2da4a18a32d4e",
              "version_major": 2,
              "version_minor": 0
            },
            "text/plain": [
              "  0%|          | 0/195 [00:00<?, ?it/s]"
            ]
          },
          "metadata": {},
          "output_type": "display_data"
        },
        {
          "name": "stdout",
          "output_type": "stream",
          "text": [
            "Resize class: 박산리작약골쌍탑제, data_type: Training\n"
          ]
        },
        {
          "data": {
            "application/vnd.jupyter.widget-view+json": {
              "model_id": "6d50275c8cc949fc8aa87eeb07b461a3",
              "version_major": 2,
              "version_minor": 0
            },
            "text/plain": [
              "  0%|          | 0/193 [00:00<?, ?it/s]"
            ]
          },
          "metadata": {},
          "output_type": "display_data"
        },
        {
          "name": "stdout",
          "output_type": "stream",
          "text": [
            "Resize class: 범지기마을10단지푸르지오아파트, data_type: Training\n"
          ]
        },
        {
          "data": {
            "application/vnd.jupyter.widget-view+json": {
              "model_id": "6d57e9914b9b453285b71edaebfa9d6f",
              "version_major": 2,
              "version_minor": 0
            },
            "text/plain": [
              "  0%|          | 0/106 [00:00<?, ?it/s]"
            ]
          },
          "metadata": {},
          "output_type": "display_data"
        },
        {
          "name": "stdout",
          "output_type": "stream",
          "text": [
            "Resize class: 범지기마을7단지호반베르디움에코시티아파트, data_type: Training\n"
          ]
        },
        {
          "data": {
            "application/vnd.jupyter.widget-view+json": {
              "model_id": "efc9ea37e1024fedab00c0be30601bdd",
              "version_major": 2,
              "version_minor": 0
            },
            "text/plain": [
              "  0%|          | 0/109 [00:00<?, ?it/s]"
            ]
          },
          "metadata": {},
          "output_type": "display_data"
        },
        {
          "name": "stdout",
          "output_type": "stream",
          "text": [
            "Resize class: 범지기마을8단지푸르지오아파트, data_type: Training\n"
          ]
        },
        {
          "data": {
            "application/vnd.jupyter.widget-view+json": {
              "model_id": "a8edfcb945f54127a201264afa6e8def",
              "version_major": 2,
              "version_minor": 0
            },
            "text/plain": [
              "  0%|          | 0/106 [00:00<?, ?it/s]"
            ]
          },
          "metadata": {},
          "output_type": "display_data"
        },
        {
          "name": "stdout",
          "output_type": "stream",
          "text": [
            "Resize class: 베어트리파크, data_type: Training\n"
          ]
        },
        {
          "data": {
            "application/vnd.jupyter.widget-view+json": {
              "model_id": "6b0d8c77a3d448d09a7e34384552dee1",
              "version_major": 2,
              "version_minor": 0
            },
            "text/plain": [
              "  0%|          | 0/160 [00:00<?, ?it/s]"
            ]
          },
          "metadata": {},
          "output_type": "display_data"
        },
        {
          "name": "stdout",
          "output_type": "stream",
          "text": [
            "Resize class: 병산사, data_type: Training\n"
          ]
        },
        {
          "data": {
            "application/vnd.jupyter.widget-view+json": {
              "model_id": "992b8c0dc5984c9787b4258424f86cef",
              "version_major": 2,
              "version_minor": 0
            },
            "text/plain": [
              "  0%|          | 0/190 [00:00<?, ?it/s]"
            ]
          },
          "metadata": {},
          "output_type": "display_data"
        },
        {
          "name": "stdout",
          "output_type": "stream",
          "text": [
            "Resize class: 부강성당, data_type: Training\n"
          ]
        },
        {
          "data": {
            "application/vnd.jupyter.widget-view+json": {
              "model_id": "66c8f7c7565c493198df768ddf4e08bc",
              "version_major": 2,
              "version_minor": 0
            },
            "text/plain": [
              "  0%|          | 0/178 [00:00<?, ?it/s]"
            ]
          },
          "metadata": {},
          "output_type": "display_data"
        },
        {
          "name": "stdout",
          "output_type": "stream",
          "text": [
            "Resize class: 부강초등학교강당, data_type: Training\n"
          ]
        },
        {
          "data": {
            "application/vnd.jupyter.widget-view+json": {
              "model_id": "31a46875be31489ab62c8bbc4bce10a7",
              "version_major": 2,
              "version_minor": 0
            },
            "text/plain": [
              "  0%|          | 0/185 [00:00<?, ?it/s]"
            ]
          },
          "metadata": {},
          "output_type": "display_data"
        },
        {
          "name": "stdout",
          "output_type": "stream",
          "text": [
            "Resize class: 비암사, data_type: Training\n"
          ]
        },
        {
          "data": {
            "application/vnd.jupyter.widget-view+json": {
              "model_id": "b23e184deb6e42b28e6a885237ad703a",
              "version_major": 2,
              "version_minor": 0
            },
            "text/plain": [
              "  0%|          | 0/189 [00:00<?, ?it/s]"
            ]
          },
          "metadata": {},
          "output_type": "display_data"
        },
        {
          "name": "stdout",
          "output_type": "stream",
          "text": [
            "Resize class: 새뜸1단지메이저시티푸르지오, data_type: Training\n"
          ]
        },
        {
          "data": {
            "application/vnd.jupyter.widget-view+json": {
              "model_id": "ffb70e673f354b5b9ca72ba37b9b6c69",
              "version_major": 2,
              "version_minor": 0
            },
            "text/plain": [
              "  0%|          | 0/104 [00:00<?, ?it/s]"
            ]
          },
          "metadata": {},
          "output_type": "display_data"
        },
        {
          "name": "stdout",
          "output_type": "stream",
          "text": [
            "Resize class: 새뜸마을10단지더샵힐스테이트아파트, data_type: Training\n"
          ]
        },
        {
          "data": {
            "application/vnd.jupyter.widget-view+json": {
              "model_id": "e66c124719ec45fc869f79c52c0d9d34",
              "version_major": 2,
              "version_minor": 0
            },
            "text/plain": [
              "  0%|          | 0/109 [00:00<?, ?it/s]"
            ]
          },
          "metadata": {},
          "output_type": "display_data"
        },
        {
          "name": "stdout",
          "output_type": "stream",
          "text": [
            "Resize class: 새뜸마을11단지더샵힐스테이트아파트, data_type: Training\n"
          ]
        },
        {
          "data": {
            "application/vnd.jupyter.widget-view+json": {
              "model_id": "18a7778d7d63401bbf7b79d555564be3",
              "version_major": 2,
              "version_minor": 0
            },
            "text/plain": [
              "  0%|          | 0/100 [00:00<?, ?it/s]"
            ]
          },
          "metadata": {},
          "output_type": "display_data"
        },
        {
          "name": "stdout",
          "output_type": "stream",
          "text": [
            "Resize class: 새뜸마을14단지더샵힐스테이트아파트, data_type: Training\n"
          ]
        },
        {
          "data": {
            "application/vnd.jupyter.widget-view+json": {
              "model_id": "f0c43ed2deed47f9b47146854a911619",
              "version_major": 2,
              "version_minor": 0
            },
            "text/plain": [
              "  0%|          | 0/108 [00:00<?, ?it/s]"
            ]
          },
          "metadata": {},
          "output_type": "display_data"
        },
        {
          "name": "stdout",
          "output_type": "stream",
          "text": [
            "Resize class: 새뜸마을5단지아이파크메이저아파트, data_type: Training\n"
          ]
        },
        {
          "data": {
            "application/vnd.jupyter.widget-view+json": {
              "model_id": "f91815a9dbf74a959a031e0ad63e4eaf",
              "version_major": 2,
              "version_minor": 0
            },
            "text/plain": [
              "  0%|          | 0/109 [00:00<?, ?it/s]"
            ]
          },
          "metadata": {},
          "output_type": "display_data"
        },
        {
          "name": "stdout",
          "output_type": "stream",
          "text": [
            "Resize class: 새뜸마을6단지힐스테이트메이저아파트, data_type: Training\n"
          ]
        },
        {
          "data": {
            "application/vnd.jupyter.widget-view+json": {
              "model_id": "35f77493b78d4ef59cacf478fb4264a3",
              "version_major": 2,
              "version_minor": 0
            },
            "text/plain": [
              "  0%|          | 0/102 [00:00<?, ?it/s]"
            ]
          },
          "metadata": {},
          "output_type": "display_data"
        },
        {
          "name": "stdout",
          "output_type": "stream",
          "text": [
            "Resize class: 성요한성당, data_type: Training\n"
          ]
        },
        {
          "data": {
            "application/vnd.jupyter.widget-view+json": {
              "model_id": "3a8237a558284d58a0e92d9861789d62",
              "version_major": 2,
              "version_minor": 0
            },
            "text/plain": [
              "  0%|          | 0/264 [00:00<?, ?it/s]"
            ]
          },
          "metadata": {},
          "output_type": "display_data"
        },
        {
          "name": "stdout",
          "output_type": "stream",
          "text": [
            "Resize class: 세종e편한세상푸르지오아파트, data_type: Training\n"
          ]
        },
        {
          "data": {
            "application/vnd.jupyter.widget-view+json": {
              "model_id": "398f75edc1f641dc820057d538cbdaa6",
              "version_major": 2,
              "version_minor": 0
            },
            "text/plain": [
              "  0%|          | 0/100 [00:00<?, ?it/s]"
            ]
          },
          "metadata": {},
          "output_type": "display_data"
        },
        {
          "name": "stdout",
          "output_type": "stream",
          "text": [
            "Resize class: 세종고속시외버스터미널, data_type: Training\n"
          ]
        },
        {
          "data": {
            "application/vnd.jupyter.widget-view+json": {
              "model_id": "a410b95bca0b4b8f83e2f007dc544790",
              "version_major": 2,
              "version_minor": 0
            },
            "text/plain": [
              "  0%|          | 0/160 [00:00<?, ?it/s]"
            ]
          },
          "metadata": {},
          "output_type": "display_data"
        },
        {
          "name": "stdout",
          "output_type": "stream",
          "text": [
            "Resize class: 세종대곡리삼층석탑, data_type: Training\n"
          ]
        },
        {
          "data": {
            "application/vnd.jupyter.widget-view+json": {
              "model_id": "6e8c252521b54df4bfc7e2de8550508b",
              "version_major": 2,
              "version_minor": 0
            },
            "text/plain": [
              "  0%|          | 0/145 [00:00<?, ?it/s]"
            ]
          },
          "metadata": {},
          "output_type": "display_data"
        },
        {
          "name": "stdout",
          "output_type": "stream",
          "text": [
            "Resize class: 세종시립민속박물관, data_type: Training\n"
          ]
        },
        {
          "data": {
            "application/vnd.jupyter.widget-view+json": {
              "model_id": "668fb580d93446a195d0c04dca488758",
              "version_major": 2,
              "version_minor": 0
            },
            "text/plain": [
              "  0%|          | 0/188 [00:00<?, ?it/s]"
            ]
          },
          "metadata": {},
          "output_type": "display_data"
        },
        {
          "name": "stdout",
          "output_type": "stream",
          "text": [
            "Resize class: 세종전통장류박물관, data_type: Training\n"
          ]
        },
        {
          "data": {
            "application/vnd.jupyter.widget-view+json": {
              "model_id": "5e51ac5af1d24980b8354f6c1a754e2e",
              "version_major": 2,
              "version_minor": 0
            },
            "text/plain": [
              "  0%|          | 0/160 [00:00<?, ?it/s]"
            ]
          },
          "metadata": {},
          "output_type": "display_data"
        },
        {
          "name": "stdout",
          "output_type": "stream",
          "text": [
            "Resize class: 세종특별자치시마을기록문화관, data_type: Training\n"
          ]
        },
        {
          "data": {
            "application/vnd.jupyter.widget-view+json": {
              "model_id": "3a39878cb9c841a1a515441df977c127",
              "version_major": 2,
              "version_minor": 0
            },
            "text/plain": [
              "  0%|          | 0/190 [00:00<?, ?it/s]"
            ]
          },
          "metadata": {},
          "output_type": "display_data"
        },
        {
          "name": "stdout",
          "output_type": "stream",
          "text": [
            "Resize class: 세종행복도시홍보관, data_type: Training\n"
          ]
        },
        {
          "data": {
            "application/vnd.jupyter.widget-view+json": {
              "model_id": "18d20104d82047d3a4f4c641de80195d",
              "version_major": 2,
              "version_minor": 0
            },
            "text/plain": [
              "  0%|          | 0/161 [00:00<?, ?it/s]"
            ]
          },
          "metadata": {},
          "output_type": "display_data"
        },
        {
          "name": "stdout",
          "output_type": "stream",
          "text": [
            "Resize class: 세종호수공원, data_type: Training\n"
          ]
        },
        {
          "data": {
            "application/vnd.jupyter.widget-view+json": {
              "model_id": "0a88cfa4f1d94f969bb33ba333b30185",
              "version_major": 2,
              "version_minor": 0
            },
            "text/plain": [
              "  0%|          | 0/160 [00:00<?, ?it/s]"
            ]
          },
          "metadata": {},
          "output_type": "display_data"
        },
        {
          "name": "stdout",
          "output_type": "stream",
          "text": [
            "Resize class: 세종힐스테이트3차, data_type: Training\n"
          ]
        },
        {
          "data": {
            "application/vnd.jupyter.widget-view+json": {
              "model_id": "b5b623f7c3d94e179162c48c1985da7b",
              "version_major": 2,
              "version_minor": 0
            },
            "text/plain": [
              "  0%|          | 0/107 [00:00<?, ?it/s]"
            ]
          },
          "metadata": {},
          "output_type": "display_data"
        },
        {
          "name": "stdout",
          "output_type": "stream",
          "text": [
            "Resize class: 수루배마을4단지더샵예미지, data_type: Training\n"
          ]
        },
        {
          "data": {
            "application/vnd.jupyter.widget-view+json": {
              "model_id": "f2b2bef295ba4733b18dbe89181418ca",
              "version_major": 2,
              "version_minor": 0
            },
            "text/plain": [
              "  0%|          | 0/109 [00:00<?, ?it/s]"
            ]
          },
          "metadata": {},
          "output_type": "display_data"
        },
        {
          "name": "stdout",
          "output_type": "stream",
          "text": [
            "Resize class: 수루배마을6단지세종더샵예미지, data_type: Training\n"
          ]
        },
        {
          "data": {
            "application/vnd.jupyter.widget-view+json": {
              "model_id": "be8e917c510a413294e431c0a0d954a7",
              "version_major": 2,
              "version_minor": 0
            },
            "text/plain": [
              "  0%|          | 0/107 [00:00<?, ?it/s]"
            ]
          },
          "metadata": {},
          "output_type": "display_data"
        },
        {
          "name": "stdout",
          "output_type": "stream",
          "text": [
            "Resize class: 연기대첩비공원, data_type: Training\n"
          ]
        },
        {
          "data": {
            "application/vnd.jupyter.widget-view+json": {
              "model_id": "1a03d3b6e9a34230a5dda7c65290135a",
              "version_major": 2,
              "version_minor": 0
            },
            "text/plain": [
              "  0%|          | 0/167 [00:00<?, ?it/s]"
            ]
          },
          "metadata": {},
          "output_type": "display_data"
        },
        {
          "name": "stdout",
          "output_type": "stream",
          "text": [
            "Resize class: 연기봉산동의향나무, data_type: Training\n"
          ]
        },
        {
          "data": {
            "application/vnd.jupyter.widget-view+json": {
              "model_id": "f03ba7f2a84e4bb080155d6f31d428df",
              "version_major": 2,
              "version_minor": 0
            },
            "text/plain": [
              "  0%|          | 0/189 [00:00<?, ?it/s]"
            ]
          },
          "metadata": {},
          "output_type": "display_data"
        },
        {
          "name": "stdout",
          "output_type": "stream",
          "text": [
            "Resize class: 연기향교, data_type: Training\n"
          ]
        },
        {
          "data": {
            "application/vnd.jupyter.widget-view+json": {
              "model_id": "10747314d4124507ba00c43a99777892",
              "version_major": 2,
              "version_minor": 0
            },
            "text/plain": [
              "  0%|          | 0/153 [00:00<?, ?it/s]"
            ]
          },
          "metadata": {},
          "output_type": "display_data"
        },
        {
          "name": "stdout",
          "output_type": "stream",
          "text": [
            "Resize class: 연기향토박물관, data_type: Training\n"
          ]
        },
        {
          "data": {
            "application/vnd.jupyter.widget-view+json": {
              "model_id": "19c6bbdad73f48829901c55c065bccd6",
              "version_major": 2,
              "version_minor": 0
            },
            "text/plain": [
              "  0%|          | 0/183 [00:00<?, ?it/s]"
            ]
          },
          "metadata": {},
          "output_type": "display_data"
        },
        {
          "name": "stdout",
          "output_type": "stream",
          "text": [
            "Resize class: 연동송용리마애여래입상, data_type: Training\n"
          ]
        },
        {
          "data": {
            "application/vnd.jupyter.widget-view+json": {
              "model_id": "13d43b64cb4b4e11b31b1c9879100fa7",
              "version_major": 2,
              "version_minor": 0
            },
            "text/plain": [
              "  0%|          | 0/193 [00:00<?, ?it/s]"
            ]
          },
          "metadata": {},
          "output_type": "display_data"
        },
        {
          "name": "stdout",
          "output_type": "stream",
          "text": [
            "Resize class: 연화사, data_type: Training\n"
          ]
        },
        {
          "data": {
            "application/vnd.jupyter.widget-view+json": {
              "model_id": "3044f099785540539d1f2c65bad00cf4",
              "version_major": 2,
              "version_minor": 0
            },
            "text/plain": [
              "  0%|          | 0/183 [00:00<?, ?it/s]"
            ]
          },
          "metadata": {},
          "output_type": "display_data"
        },
        {
          "name": "stdout",
          "output_type": "stream",
          "text": [
            "Resize class: 영평사, data_type: Training\n"
          ]
        },
        {
          "data": {
            "application/vnd.jupyter.widget-view+json": {
              "model_id": "996b247734ed4afcb414c4d943559261",
              "version_major": 2,
              "version_minor": 0
            },
            "text/plain": [
              "  0%|          | 0/158 [00:00<?, ?it/s]"
            ]
          },
          "metadata": {},
          "output_type": "display_data"
        },
        {
          "name": "stdout",
          "output_type": "stream",
          "text": [
            "Resize class: 은하수공원, data_type: Training\n"
          ]
        },
        {
          "data": {
            "application/vnd.jupyter.widget-view+json": {
              "model_id": "de7cbf407c6742bbbe2c47c198020531",
              "version_major": 2,
              "version_minor": 0
            },
            "text/plain": [
              "  0%|          | 0/100 [00:00<?, ?it/s]"
            ]
          },
          "metadata": {},
          "output_type": "display_data"
        },
        {
          "name": "stdout",
          "output_type": "stream",
          "text": [
            "Resize class: 자성사, data_type: Training\n"
          ]
        },
        {
          "data": {
            "application/vnd.jupyter.widget-view+json": {
              "model_id": "de9fa1f3333c40cd99976fc18438bd5a",
              "version_major": 2,
              "version_minor": 0
            },
            "text/plain": [
              "  0%|          | 0/168 [00:00<?, ?it/s]"
            ]
          },
          "metadata": {},
          "output_type": "display_data"
        },
        {
          "name": "stdout",
          "output_type": "stream",
          "text": [
            "Resize class: 전의비암사극락보전, data_type: Training\n"
          ]
        },
        {
          "data": {
            "application/vnd.jupyter.widget-view+json": {
              "model_id": "1f17a2b2a1eb4797a8d59dfb7bb6ddd5",
              "version_major": 2,
              "version_minor": 0
            },
            "text/plain": [
              "  0%|          | 0/180 [00:00<?, ?it/s]"
            ]
          },
          "metadata": {},
          "output_type": "display_data"
        },
        {
          "name": "stdout",
          "output_type": "stream",
          "text": [
            "Resize class: 전의비암사삼층석탑, data_type: Training\n"
          ]
        },
        {
          "data": {
            "application/vnd.jupyter.widget-view+json": {
              "model_id": "86ef659a71814bf7b7dd0cce2c38565c",
              "version_major": 2,
              "version_minor": 0
            },
            "text/plain": [
              "  0%|          | 0/198 [00:00<?, ?it/s]"
            ]
          },
          "metadata": {},
          "output_type": "display_data"
        },
        {
          "name": "stdout",
          "output_type": "stream",
          "text": [
            "Resize class: 전의향교, data_type: Training\n"
          ]
        },
        {
          "data": {
            "application/vnd.jupyter.widget-view+json": {
              "model_id": "16adcd62d42b41c9a470160b70504615",
              "version_major": 2,
              "version_minor": 0
            },
            "text/plain": [
              "  0%|          | 0/159 [00:00<?, ?it/s]"
            ]
          },
          "metadata": {},
          "output_type": "display_data"
        },
        {
          "name": "stdout",
          "output_type": "stream",
          "text": [
            "Resize class: 조천연꽃공원, data_type: Training\n"
          ]
        },
        {
          "data": {
            "application/vnd.jupyter.widget-view+json": {
              "model_id": "44e4b8ef1b1244bd895df4f87169b82d",
              "version_major": 2,
              "version_minor": 0
            },
            "text/plain": [
              "  0%|          | 0/186 [00:00<?, ?it/s]"
            ]
          },
          "metadata": {},
          "output_type": "display_data"
        },
        {
          "name": "stdout",
          "output_type": "stream",
          "text": [
            "Resize class: 조치원문화정원, data_type: Training\n"
          ]
        },
        {
          "data": {
            "application/vnd.jupyter.widget-view+json": {
              "model_id": "905b5f7278c14b1497060e5b71c6906a",
              "version_major": 2,
              "version_minor": 0
            },
            "text/plain": [
              "  0%|          | 0/193 [00:00<?, ?it/s]"
            ]
          },
          "metadata": {},
          "output_type": "display_data"
        },
        {
          "name": "stdout",
          "output_type": "stream",
          "text": [
            "Resize class: 조치원봉산영당, data_type: Training\n"
          ]
        },
        {
          "data": {
            "application/vnd.jupyter.widget-view+json": {
              "model_id": "fc387a9c5fd04a81a965f409764f6933",
              "version_major": 2,
              "version_minor": 0
            },
            "text/plain": [
              "  0%|          | 0/196 [00:00<?, ?it/s]"
            ]
          },
          "metadata": {},
          "output_type": "display_data"
        },
        {
          "name": "stdout",
          "output_type": "stream",
          "text": [
            "Resize class: 조치원신흥e편한세상아파트, data_type: Training\n"
          ]
        },
        {
          "data": {
            "application/vnd.jupyter.widget-view+json": {
              "model_id": "1f2e20575acb4e3b9ead86c08e3d818d",
              "version_major": 2,
              "version_minor": 0
            },
            "text/plain": [
              "  0%|          | 0/113 [00:00<?, ?it/s]"
            ]
          },
          "metadata": {},
          "output_type": "display_data"
        },
        {
          "name": "stdout",
          "output_type": "stream",
          "text": [
            "Resize class: 조치원신흥푸르지오아파트, data_type: Training\n"
          ]
        },
        {
          "data": {
            "application/vnd.jupyter.widget-view+json": {
              "model_id": "4bfee01f73af4eeababd69cc8947abc8",
              "version_major": 2,
              "version_minor": 0
            },
            "text/plain": [
              "  0%|          | 0/105 [00:00<?, ?it/s]"
            ]
          },
          "metadata": {},
          "output_type": "display_data"
        },
        {
          "name": "stdout",
          "output_type": "stream",
          "text": [
            "Resize class: 조치원역경부선, data_type: Training\n"
          ]
        },
        {
          "data": {
            "application/vnd.jupyter.widget-view+json": {
              "model_id": "630cab1e5d6a4697ac0afc22f562b109",
              "version_major": 2,
              "version_minor": 0
            },
            "text/plain": [
              "  0%|          | 0/193 [00:00<?, ?it/s]"
            ]
          },
          "metadata": {},
          "output_type": "display_data"
        },
        {
          "name": "stdout",
          "output_type": "stream",
          "text": [
            "Resize class: 조치원자이아파트, data_type: Training\n"
          ]
        },
        {
          "data": {
            "application/vnd.jupyter.widget-view+json": {
              "model_id": "fe97fd42a31d4f73bce197dafe53ccce",
              "version_major": 2,
              "version_minor": 0
            },
            "text/plain": [
              "  0%|          | 0/106 [00:00<?, ?it/s]"
            ]
          },
          "metadata": {},
          "output_type": "display_data"
        },
        {
          "name": "stdout",
          "output_type": "stream",
          "text": [
            "Resize class: 조치원죽림푸르지오아파트, data_type: Training\n"
          ]
        },
        {
          "data": {
            "application/vnd.jupyter.widget-view+json": {
              "model_id": "20d0879652db4ebea7cb27930c5a1300",
              "version_major": 2,
              "version_minor": 0
            },
            "text/plain": [
              "  0%|          | 0/104 [00:00<?, ?it/s]"
            ]
          },
          "metadata": {},
          "output_type": "display_data"
        },
        {
          "name": "stdout",
          "output_type": "stream",
          "text": [
            "Resize class: 천주교대전교구세종성프란치스코성당, data_type: Training\n"
          ]
        },
        {
          "data": {
            "application/vnd.jupyter.widget-view+json": {
              "model_id": "08de6dfa8a38450d9da92198395f70a9",
              "version_major": 2,
              "version_minor": 0
            },
            "text/plain": [
              "  0%|          | 0/185 [00:00<?, ?it/s]"
            ]
          },
          "metadata": {},
          "output_type": "display_data"
        },
        {
          "name": "stdout",
          "output_type": "stream",
          "text": [
            "Resize class: 첫마을4단지푸르지오아파트, data_type: Training\n"
          ]
        },
        {
          "data": {
            "application/vnd.jupyter.widget-view+json": {
              "model_id": "591a421fa5ad47bb98a2a5d959112c16",
              "version_major": 2,
              "version_minor": 0
            },
            "text/plain": [
              "  0%|          | 0/99 [00:00<?, ?it/s]"
            ]
          },
          "metadata": {},
          "output_type": "display_data"
        },
        {
          "name": "stdout",
          "output_type": "stream",
          "text": [
            "Resize class: 첫마을5단지푸르지오아파트, data_type: Training\n"
          ]
        },
        {
          "data": {
            "application/vnd.jupyter.widget-view+json": {
              "model_id": "21fd5bbb3b8043efbc30e40416405e64",
              "version_major": 2,
              "version_minor": 0
            },
            "text/plain": [
              "  0%|          | 0/105 [00:00<?, ?it/s]"
            ]
          },
          "metadata": {},
          "output_type": "display_data"
        },
        {
          "name": "stdout",
          "output_type": "stream",
          "text": [
            "Resize class: 첫마을6단지힐스테이트아파트, data_type: Training\n"
          ]
        },
        {
          "data": {
            "application/vnd.jupyter.widget-view+json": {
              "model_id": "43bf379112684d5ab11c7f241c3849c2",
              "version_major": 2,
              "version_minor": 0
            },
            "text/plain": [
              "  0%|          | 0/104 [00:00<?, ?it/s]"
            ]
          },
          "metadata": {},
          "output_type": "display_data"
        },
        {
          "name": "stdout",
          "output_type": "stream",
          "text": [
            "Resize class: 첫마을7단지삼성래미안아파트, data_type: Training\n"
          ]
        },
        {
          "data": {
            "application/vnd.jupyter.widget-view+json": {
              "model_id": "82f9e945ff714f6ea4982ae4983c44e8",
              "version_major": 2,
              "version_minor": 0
            },
            "text/plain": [
              "  0%|          | 0/106 [00:00<?, ?it/s]"
            ]
          },
          "metadata": {},
          "output_type": "display_data"
        },
        {
          "name": "stdout",
          "output_type": "stream",
          "text": [
            "Resize class: 초려역사공원, data_type: Training\n"
          ]
        },
        {
          "data": {
            "application/vnd.jupyter.widget-view+json": {
              "model_id": "db819618cf0841688a06f2ac3bc8cdb2",
              "version_major": 2,
              "version_minor": 0
            },
            "text/plain": [
              "  0%|          | 0/186 [00:00<?, ?it/s]"
            ]
          },
          "metadata": {},
          "output_type": "display_data"
        },
        {
          "name": "stdout",
          "output_type": "stream",
          "text": [
            "Resize class: 충청남도산림박물관, data_type: Training\n"
          ]
        },
        {
          "data": {
            "application/vnd.jupyter.widget-view+json": {
              "model_id": "6473a8ce279a4eb782da0ac6edd8d384",
              "version_major": 2,
              "version_minor": 0
            },
            "text/plain": [
              "  0%|          | 0/174 [00:00<?, ?it/s]"
            ]
          },
          "metadata": {},
          "output_type": "display_data"
        },
        {
          "name": "stdout",
          "output_type": "stream",
          "text": [
            "Resize class: 한뜰마을1단지상록데시앙아파트, data_type: Training\n"
          ]
        },
        {
          "data": {
            "application/vnd.jupyter.widget-view+json": {
              "model_id": "d4417219142b4fb8bbc8b5ca3ee7f8c7",
              "version_major": 2,
              "version_minor": 0
            },
            "text/plain": [
              "  0%|          | 0/106 [00:00<?, ?it/s]"
            ]
          },
          "metadata": {},
          "output_type": "display_data"
        },
        {
          "name": "stdout",
          "output_type": "stream",
          "text": [
            "Resize class: 한뜰마을2단지더샵센트럴시티아파트, data_type: Training\n"
          ]
        },
        {
          "data": {
            "application/vnd.jupyter.widget-view+json": {
              "model_id": "15e2065a11f44851a66cf70b292b2bf4",
              "version_major": 2,
              "version_minor": 0
            },
            "text/plain": [
              "  0%|          | 0/110 [00:00<?, ?it/s]"
            ]
          },
          "metadata": {},
          "output_type": "display_data"
        },
        {
          "name": "stdout",
          "output_type": "stream",
          "text": [
            "Resize class: 한뜰마을3단지더샵레이크파크아파트, data_type: Training\n"
          ]
        },
        {
          "data": {
            "application/vnd.jupyter.widget-view+json": {
              "model_id": "456fab9558314d3a826feb15162599f4",
              "version_major": 2,
              "version_minor": 0
            },
            "text/plain": [
              "  0%|          | 0/110 [00:00<?, ?it/s]"
            ]
          },
          "metadata": {},
          "output_type": "display_data"
        },
        {
          "name": "stdout",
          "output_type": "stream",
          "text": [
            "Resize class: 해들마을6단지e편한세상세종리버파크, data_type: Training\n"
          ]
        },
        {
          "data": {
            "application/vnd.jupyter.widget-view+json": {
              "model_id": "013a4a8df262485ca65c1c7d5efc5055",
              "version_major": 2,
              "version_minor": 0
            },
            "text/plain": [
              "  0%|          | 0/109 [00:00<?, ?it/s]"
            ]
          },
          "metadata": {},
          "output_type": "display_data"
        },
        {
          "name": "stdout",
          "output_type": "stream",
          "text": [
            "Resize class: 황룡사, data_type: Training\n"
          ]
        },
        {
          "data": {
            "application/vnd.jupyter.widget-view+json": {
              "model_id": "2824705526a64b7eb1282f51f46adcc0",
              "version_major": 2,
              "version_minor": 0
            },
            "text/plain": [
              "  0%|          | 0/184 [00:00<?, ?it/s]"
            ]
          },
          "metadata": {},
          "output_type": "display_data"
        },
        {
          "name": "stdout",
          "output_type": "stream",
          "text": [
            "Resize class: 힐스테이트세종리버파크7단지, data_type: Training\n"
          ]
        },
        {
          "data": {
            "application/vnd.jupyter.widget-view+json": {
              "model_id": "c3e9f622c0034fdf8c2b320d3d91372a",
              "version_major": 2,
              "version_minor": 0
            },
            "text/plain": [
              "  0%|          | 0/105 [00:00<?, ?it/s]"
            ]
          },
          "metadata": {},
          "output_type": "display_data"
        },
        {
          "name": "stdout",
          "output_type": "stream",
          "text": [
            "Resize class: 힐스테이트세종리버파크8단지, data_type: Training\n"
          ]
        },
        {
          "data": {
            "application/vnd.jupyter.widget-view+json": {
              "model_id": "511afe1f0f1c4526ba882cc85ac5c200",
              "version_major": 2,
              "version_minor": 0
            },
            "text/plain": [
              "  0%|          | 0/109 [00:00<?, ?it/s]"
            ]
          },
          "metadata": {},
          "output_type": "display_data"
        },
        {
          "name": "stdout",
          "output_type": "stream",
          "text": [
            "Resize class: 6.25격전지개미고개, data_type: Validation\n"
          ]
        },
        {
          "data": {
            "application/vnd.jupyter.widget-view+json": {
              "model_id": "e6ac0f89b1094637a4742bad88c1b60a",
              "version_major": 2,
              "version_minor": 0
            },
            "text/plain": [
              "  0%|          | 0/19 [00:00<?, ?it/s]"
            ]
          },
          "metadata": {},
          "output_type": "display_data"
        },
        {
          "name": "stdout",
          "output_type": "stream",
          "text": [
            "Resize class: BRT작은미술관, data_type: Validation\n"
          ]
        },
        {
          "data": {
            "application/vnd.jupyter.widget-view+json": {
              "model_id": "630015ad410f4e6db689936ba90498aa",
              "version_major": 2,
              "version_minor": 0
            },
            "text/plain": [
              "  0%|          | 0/11 [00:00<?, ?it/s]"
            ]
          },
          "metadata": {},
          "output_type": "display_data"
        },
        {
          "name": "stdout",
          "output_type": "stream",
          "text": [
            "Resize class: 가락마을20단지호반베르디움5차아파트, data_type: Validation\n"
          ]
        },
        {
          "data": {
            "application/vnd.jupyter.widget-view+json": {
              "model_id": "fadddaa5167940018c82316eea1e4df2",
              "version_major": 2,
              "version_minor": 0
            },
            "text/plain": [
              "  0%|          | 0/13 [00:00<?, ?it/s]"
            ]
          },
          "metadata": {},
          "output_type": "display_data"
        },
        {
          "name": "stdout",
          "output_type": "stream",
          "text": [
            "Resize class: 가락마을3단지호반베르디움4차아파트, data_type: Validation\n"
          ]
        },
        {
          "data": {
            "application/vnd.jupyter.widget-view+json": {
              "model_id": "a7db0e9a525247e3bf1b08e97149cc2a",
              "version_major": 2,
              "version_minor": 0
            },
            "text/plain": [
              "  0%|          | 0/13 [00:00<?, ?it/s]"
            ]
          },
          "metadata": {},
          "output_type": "display_data"
        },
        {
          "name": "stdout",
          "output_type": "stream",
          "text": [
            "Resize class: 가온마을1단지힐스테이트세종2차, data_type: Validation\n"
          ]
        },
        {
          "data": {
            "application/vnd.jupyter.widget-view+json": {
              "model_id": "70faf1d769264844963d3b9662a1048e",
              "version_major": 2,
              "version_minor": 0
            },
            "text/plain": [
              "  0%|          | 0/13 [00:00<?, ?it/s]"
            ]
          },
          "metadata": {},
          "output_type": "display_data"
        },
        {
          "name": "stdout",
          "output_type": "stream",
          "text": [
            "Resize class: 가재마을세종호반베르디움2단지아파트, data_type: Validation\n"
          ]
        },
        {
          "data": {
            "application/vnd.jupyter.widget-view+json": {
              "model_id": "c86f3b299c6e417f948de235bd559f41",
              "version_major": 2,
              "version_minor": 0
            },
            "text/plain": [
              "  0%|          | 0/13 [00:00<?, ?it/s]"
            ]
          },
          "metadata": {},
          "output_type": "display_data"
        },
        {
          "name": "stdout",
          "output_type": "stream",
          "text": [
            "Resize class: 고운뜰전망대, data_type: Validation\n"
          ]
        },
        {
          "data": {
            "application/vnd.jupyter.widget-view+json": {
              "model_id": "ad2e9d6793204d06911383fa5cd6a19f",
              "version_major": 2,
              "version_minor": 0
            },
            "text/plain": [
              "  0%|          | 0/23 [00:00<?, ?it/s]"
            ]
          },
          "metadata": {},
          "output_type": "display_data"
        },
        {
          "name": "stdout",
          "output_type": "stream",
          "text": [
            "Resize class: 국립세종도서관, data_type: Validation\n"
          ]
        },
        {
          "data": {
            "application/vnd.jupyter.widget-view+json": {
              "model_id": "9fc974ba90dc46349df6b29e5cc6e345",
              "version_major": 2,
              "version_minor": 0
            },
            "text/plain": [
              "  0%|          | 0/19 [00:00<?, ?it/s]"
            ]
          },
          "metadata": {},
          "output_type": "display_data"
        },
        {
          "name": "stdout",
          "output_type": "stream",
          "text": [
            "Resize class: 국립세종수목원, data_type: Validation\n"
          ]
        },
        {
          "data": {
            "application/vnd.jupyter.widget-view+json": {
              "model_id": "0b0a5d6f51904ee99663740c8c94a9b5",
              "version_major": 2,
              "version_minor": 0
            },
            "text/plain": [
              "  0%|          | 0/22 [00:00<?, ?it/s]"
            ]
          },
          "metadata": {},
          "output_type": "display_data"
        },
        {
          "name": "stdout",
          "output_type": "stream",
          "text": [
            "Resize class: 국립조세박물관, data_type: Validation\n"
          ]
        },
        {
          "data": {
            "application/vnd.jupyter.widget-view+json": {
              "model_id": "11e66b65cee847fcb7eddbfa27e72b59",
              "version_major": 2,
              "version_minor": 0
            },
            "text/plain": [
              "  0%|          | 0/19 [00:00<?, ?it/s]"
            ]
          },
          "metadata": {},
          "output_type": "display_data"
        },
        {
          "name": "stdout",
          "output_type": "stream",
          "text": [
            "Resize class: 금강수목원, data_type: Validation\n"
          ]
        },
        {
          "data": {
            "application/vnd.jupyter.widget-view+json": {
              "model_id": "ac8e5531137945b597676156fa7019aa",
              "version_major": 2,
              "version_minor": 0
            },
            "text/plain": [
              "  0%|          | 0/21 [00:00<?, ?it/s]"
            ]
          },
          "metadata": {},
          "output_type": "display_data"
        },
        {
          "name": "stdout",
          "output_type": "stream",
          "text": [
            "Resize class: 금강수변공원, data_type: Validation\n"
          ]
        },
        {
          "data": {
            "application/vnd.jupyter.widget-view+json": {
              "model_id": "23bbf69be7214b05956f9d784084a9be",
              "version_major": 2,
              "version_minor": 0
            },
            "text/plain": [
              "  0%|          | 0/13 [00:00<?, ?it/s]"
            ]
          },
          "metadata": {},
          "output_type": "display_data"
        },
        {
          "name": "stdout",
          "output_type": "stream",
          "text": [
            "Resize class: 금강자연휴양림, data_type: Validation\n"
          ]
        },
        {
          "data": {
            "application/vnd.jupyter.widget-view+json": {
              "model_id": "2cf33c254cb0499a8f5297ff7568d4b2",
              "version_major": 2,
              "version_minor": 0
            },
            "text/plain": [
              "  0%|          | 0/24 [00:00<?, ?it/s]"
            ]
          },
          "metadata": {},
          "output_type": "display_data"
        },
        {
          "name": "stdout",
          "output_type": "stream",
          "text": [
            "Resize class: 금남남산영당, data_type: Validation\n"
          ]
        },
        {
          "data": {
            "application/vnd.jupyter.widget-view+json": {
              "model_id": "64c03ba47ece4e55bdac0ec8aeff4e13",
              "version_major": 2,
              "version_minor": 0
            },
            "text/plain": [
              "  0%|          | 0/23 [00:00<?, ?it/s]"
            ]
          },
          "metadata": {},
          "output_type": "display_data"
        },
        {
          "name": "stdout",
          "output_type": "stream",
          "text": [
            "Resize class: 금남모인당, data_type: Validation\n"
          ]
        },
        {
          "data": {
            "application/vnd.jupyter.widget-view+json": {
              "model_id": "4a7d4f83aa0f4649a2677519827dbaa8",
              "version_major": 2,
              "version_minor": 0
            },
            "text/plain": [
              "  0%|          | 0/22 [00:00<?, ?it/s]"
            ]
          },
          "metadata": {},
          "output_type": "display_data"
        },
        {
          "name": "stdout",
          "output_type": "stream",
          "text": [
            "Resize class: 금남문절사, data_type: Validation\n"
          ]
        },
        {
          "data": {
            "application/vnd.jupyter.widget-view+json": {
              "model_id": "bd84ed9d4c514190b02cb6d877e3fa67",
              "version_major": 2,
              "version_minor": 0
            },
            "text/plain": [
              "  0%|          | 0/23 [00:00<?, ?it/s]"
            ]
          },
          "metadata": {},
          "output_type": "display_data"
        },
        {
          "name": "stdout",
          "output_type": "stream",
          "text": [
            "Resize class: 김종서장군묘소, data_type: Validation\n"
          ]
        },
        {
          "data": {
            "application/vnd.jupyter.widget-view+json": {
              "model_id": "4a7175a1bca245f7bba893cb910bcf29",
              "version_major": 2,
              "version_minor": 0
            },
            "text/plain": [
              "  0%|          | 0/19 [00:00<?, ?it/s]"
            ]
          },
          "metadata": {},
          "output_type": "display_data"
        },
        {
          "name": "stdout",
          "output_type": "stream",
          "text": [
            "Resize class: 나성독락정, data_type: Validation\n"
          ]
        },
        {
          "data": {
            "application/vnd.jupyter.widget-view+json": {
              "model_id": "8767ee633f38499e887d9d0497d2c86c",
              "version_major": 2,
              "version_minor": 0
            },
            "text/plain": [
              "  0%|          | 0/19 [00:00<?, ?it/s]"
            ]
          },
          "metadata": {},
          "output_type": "display_data"
        },
        {
          "name": "stdout",
          "output_type": "stream",
          "text": [
            "Resize class: 덕성서원, data_type: Validation\n"
          ]
        },
        {
          "data": {
            "application/vnd.jupyter.widget-view+json": {
              "model_id": "aee8e760306648d8973b0af00011159b",
              "version_major": 2,
              "version_minor": 0
            },
            "text/plain": [
              "  0%|          | 0/23 [00:00<?, ?it/s]"
            ]
          },
          "metadata": {},
          "output_type": "display_data"
        },
        {
          "name": "stdout",
          "output_type": "stream",
          "text": [
            "Resize class: 덕천군사우, data_type: Validation\n"
          ]
        },
        {
          "data": {
            "application/vnd.jupyter.widget-view+json": {
              "model_id": "dac0cf8e7bf049829103b27d1577a276",
              "version_major": 2,
              "version_minor": 0
            },
            "text/plain": [
              "  0%|          | 0/23 [00:00<?, ?it/s]"
            ]
          },
          "metadata": {},
          "output_type": "display_data"
        },
        {
          "name": "stdout",
          "output_type": "stream",
          "text": [
            "Resize class: 도램마을10단지호반베르디움어반시티아파트, data_type: Validation\n"
          ]
        },
        {
          "data": {
            "application/vnd.jupyter.widget-view+json": {
              "model_id": "9254d5a7896d46c3bcc2cb291e109dde",
              "version_major": 2,
              "version_minor": 0
            },
            "text/plain": [
              "  0%|          | 0/14 [00:00<?, ?it/s]"
            ]
          },
          "metadata": {},
          "output_type": "display_data"
        },
        {
          "name": "stdout",
          "output_type": "stream",
          "text": [
            "Resize class: 도램마을15단지힐스테이트아파트, data_type: Validation\n"
          ]
        },
        {
          "data": {
            "application/vnd.jupyter.widget-view+json": {
              "model_id": "7e7098687ef24c34bd499a4f112c62fa",
              "version_major": 2,
              "version_minor": 0
            },
            "text/plain": [
              "  0%|          | 0/13 [00:00<?, ?it/s]"
            ]
          },
          "metadata": {},
          "output_type": "display_data"
        },
        {
          "name": "stdout",
          "output_type": "stream",
          "text": [
            "Resize class: 밀양박씨오충정려, data_type: Validation\n"
          ]
        },
        {
          "data": {
            "application/vnd.jupyter.widget-view+json": {
              "model_id": "571afc5c2b1a446da6f02b8e6138b75d",
              "version_major": 2,
              "version_minor": 0
            },
            "text/plain": [
              "  0%|          | 0/24 [00:00<?, ?it/s]"
            ]
          },
          "metadata": {},
          "output_type": "display_data"
        },
        {
          "name": "stdout",
          "output_type": "stream",
          "text": [
            "Resize class: 박산리작약골쌍탑제, data_type: Validation\n"
          ]
        },
        {
          "data": {
            "application/vnd.jupyter.widget-view+json": {
              "model_id": "06d08ae85c004fb9820a12051b0f07f7",
              "version_major": 2,
              "version_minor": 0
            },
            "text/plain": [
              "  0%|          | 0/23 [00:00<?, ?it/s]"
            ]
          },
          "metadata": {},
          "output_type": "display_data"
        },
        {
          "name": "stdout",
          "output_type": "stream",
          "text": [
            "Resize class: 범지기마을10단지푸르지오아파트, data_type: Validation\n"
          ]
        },
        {
          "data": {
            "application/vnd.jupyter.widget-view+json": {
              "model_id": "a95bdd735f5d4da981bad53e494ed2ca",
              "version_major": 2,
              "version_minor": 0
            },
            "text/plain": [
              "  0%|          | 0/13 [00:00<?, ?it/s]"
            ]
          },
          "metadata": {},
          "output_type": "display_data"
        },
        {
          "name": "stdout",
          "output_type": "stream",
          "text": [
            "Resize class: 범지기마을7단지호반베르디움에코시티아파트, data_type: Validation\n"
          ]
        },
        {
          "data": {
            "application/vnd.jupyter.widget-view+json": {
              "model_id": "7531b0995b5e47bca583980a2d5801dd",
              "version_major": 2,
              "version_minor": 0
            },
            "text/plain": [
              "  0%|          | 0/13 [00:00<?, ?it/s]"
            ]
          },
          "metadata": {},
          "output_type": "display_data"
        },
        {
          "name": "stdout",
          "output_type": "stream",
          "text": [
            "Resize class: 범지기마을8단지푸르지오아파트, data_type: Validation\n"
          ]
        },
        {
          "data": {
            "application/vnd.jupyter.widget-view+json": {
              "model_id": "c7b627bacde146fba2cd9ff4f2eaae3d",
              "version_major": 2,
              "version_minor": 0
            },
            "text/plain": [
              "  0%|          | 0/13 [00:00<?, ?it/s]"
            ]
          },
          "metadata": {},
          "output_type": "display_data"
        },
        {
          "name": "stdout",
          "output_type": "stream",
          "text": [
            "Resize class: 베어트리파크, data_type: Validation\n"
          ]
        },
        {
          "data": {
            "application/vnd.jupyter.widget-view+json": {
              "model_id": "951254769c2747aa9668f1405800275c",
              "version_major": 2,
              "version_minor": 0
            },
            "text/plain": [
              "  0%|          | 0/20 [00:00<?, ?it/s]"
            ]
          },
          "metadata": {},
          "output_type": "display_data"
        },
        {
          "name": "stdout",
          "output_type": "stream",
          "text": [
            "Resize class: 병산사, data_type: Validation\n"
          ]
        },
        {
          "data": {
            "application/vnd.jupyter.widget-view+json": {
              "model_id": "9b5d06422656414491df948dee96a511",
              "version_major": 2,
              "version_minor": 0
            },
            "text/plain": [
              "  0%|          | 0/23 [00:00<?, ?it/s]"
            ]
          },
          "metadata": {},
          "output_type": "display_data"
        },
        {
          "name": "stdout",
          "output_type": "stream",
          "text": [
            "Resize class: 부강성당, data_type: Validation\n"
          ]
        },
        {
          "data": {
            "application/vnd.jupyter.widget-view+json": {
              "model_id": "be354ad065794c1eb29d1e992236099a",
              "version_major": 2,
              "version_minor": 0
            },
            "text/plain": [
              "  0%|          | 0/22 [00:00<?, ?it/s]"
            ]
          },
          "metadata": {},
          "output_type": "display_data"
        },
        {
          "name": "stdout",
          "output_type": "stream",
          "text": [
            "Resize class: 부강초등학교강당, data_type: Validation\n"
          ]
        },
        {
          "data": {
            "application/vnd.jupyter.widget-view+json": {
              "model_id": "6cbef3124a944532ac963aec08c823ee",
              "version_major": 2,
              "version_minor": 0
            },
            "text/plain": [
              "  0%|          | 0/23 [00:00<?, ?it/s]"
            ]
          },
          "metadata": {},
          "output_type": "display_data"
        },
        {
          "name": "stdout",
          "output_type": "stream",
          "text": [
            "Resize class: 비암사, data_type: Validation\n"
          ]
        },
        {
          "data": {
            "application/vnd.jupyter.widget-view+json": {
              "model_id": "b43a7a072c27456aa46227aa4f9f6dec",
              "version_major": 2,
              "version_minor": 0
            },
            "text/plain": [
              "  0%|          | 0/23 [00:00<?, ?it/s]"
            ]
          },
          "metadata": {},
          "output_type": "display_data"
        },
        {
          "name": "stdout",
          "output_type": "stream",
          "text": [
            "Resize class: 새뜸1단지메이저시티푸르지오, data_type: Validation\n"
          ]
        },
        {
          "data": {
            "application/vnd.jupyter.widget-view+json": {
              "model_id": "6f3c3d11a2424fbf9db060c3c42164ed",
              "version_major": 2,
              "version_minor": 0
            },
            "text/plain": [
              "  0%|          | 0/12 [00:00<?, ?it/s]"
            ]
          },
          "metadata": {},
          "output_type": "display_data"
        },
        {
          "name": "stdout",
          "output_type": "stream",
          "text": [
            "Resize class: 새뜸마을10단지더샵힐스테이트아파트, data_type: Validation\n"
          ]
        },
        {
          "data": {
            "application/vnd.jupyter.widget-view+json": {
              "model_id": "ab9b415695114071bf92e030ff26c894",
              "version_major": 2,
              "version_minor": 0
            },
            "text/plain": [
              "  0%|          | 0/13 [00:00<?, ?it/s]"
            ]
          },
          "metadata": {},
          "output_type": "display_data"
        },
        {
          "name": "stdout",
          "output_type": "stream",
          "text": [
            "Resize class: 새뜸마을11단지더샵힐스테이트아파트, data_type: Validation\n"
          ]
        },
        {
          "data": {
            "application/vnd.jupyter.widget-view+json": {
              "model_id": "12c4d75d250c4578b57d04ef68397d2e",
              "version_major": 2,
              "version_minor": 0
            },
            "text/plain": [
              "  0%|          | 0/12 [00:00<?, ?it/s]"
            ]
          },
          "metadata": {},
          "output_type": "display_data"
        },
        {
          "name": "stdout",
          "output_type": "stream",
          "text": [
            "Resize class: 새뜸마을14단지더샵힐스테이트아파트, data_type: Validation\n"
          ]
        },
        {
          "data": {
            "application/vnd.jupyter.widget-view+json": {
              "model_id": "3b935a219f884d3f988d5ed8646ab34d",
              "version_major": 2,
              "version_minor": 0
            },
            "text/plain": [
              "  0%|          | 0/13 [00:00<?, ?it/s]"
            ]
          },
          "metadata": {},
          "output_type": "display_data"
        },
        {
          "name": "stdout",
          "output_type": "stream",
          "text": [
            "Resize class: 새뜸마을5단지아이파크메이저아파트, data_type: Validation\n"
          ]
        },
        {
          "data": {
            "application/vnd.jupyter.widget-view+json": {
              "model_id": "0376ff99e52846809056bc76c05e0b7a",
              "version_major": 2,
              "version_minor": 0
            },
            "text/plain": [
              "  0%|          | 0/13 [00:00<?, ?it/s]"
            ]
          },
          "metadata": {},
          "output_type": "display_data"
        },
        {
          "name": "stdout",
          "output_type": "stream",
          "text": [
            "Resize class: 새뜸마을6단지힐스테이트메이저아파트, data_type: Validation\n"
          ]
        },
        {
          "data": {
            "application/vnd.jupyter.widget-view+json": {
              "model_id": "daa05cbff83748bbb06e6a2969888d3f",
              "version_major": 2,
              "version_minor": 0
            },
            "text/plain": [
              "  0%|          | 0/12 [00:00<?, ?it/s]"
            ]
          },
          "metadata": {},
          "output_type": "display_data"
        },
        {
          "name": "stdout",
          "output_type": "stream",
          "text": [
            "Resize class: 성요한성당, data_type: Validation\n"
          ]
        },
        {
          "data": {
            "application/vnd.jupyter.widget-view+json": {
              "model_id": "3e1b7ffca02947e6bb1882fcdd3b5bd3",
              "version_major": 2,
              "version_minor": 0
            },
            "text/plain": [
              "  0%|          | 0/32 [00:00<?, ?it/s]"
            ]
          },
          "metadata": {},
          "output_type": "display_data"
        },
        {
          "name": "stdout",
          "output_type": "stream",
          "text": [
            "Resize class: 세종e편한세상푸르지오아파트, data_type: Validation\n"
          ]
        },
        {
          "data": {
            "application/vnd.jupyter.widget-view+json": {
              "model_id": "7f6a34ea9df74caf9698806af9ec092d",
              "version_major": 2,
              "version_minor": 0
            },
            "text/plain": [
              "  0%|          | 0/12 [00:00<?, ?it/s]"
            ]
          },
          "metadata": {},
          "output_type": "display_data"
        },
        {
          "name": "stdout",
          "output_type": "stream",
          "text": [
            "Resize class: 세종고속시외버스터미널, data_type: Validation\n"
          ]
        },
        {
          "data": {
            "application/vnd.jupyter.widget-view+json": {
              "model_id": "56c57aa653284b069f14e2cbbf7129e1",
              "version_major": 2,
              "version_minor": 0
            },
            "text/plain": [
              "  0%|          | 0/20 [00:00<?, ?it/s]"
            ]
          },
          "metadata": {},
          "output_type": "display_data"
        },
        {
          "name": "stdout",
          "output_type": "stream",
          "text": [
            "Resize class: 세종대곡리삼층석탑, data_type: Validation\n"
          ]
        },
        {
          "data": {
            "application/vnd.jupyter.widget-view+json": {
              "model_id": "cebf6d120b494a1bbe6f8077ac82b6ae",
              "version_major": 2,
              "version_minor": 0
            },
            "text/plain": [
              "  0%|          | 0/17 [00:00<?, ?it/s]"
            ]
          },
          "metadata": {},
          "output_type": "display_data"
        },
        {
          "name": "stdout",
          "output_type": "stream",
          "text": [
            "Resize class: 세종시립민속박물관, data_type: Validation\n"
          ]
        },
        {
          "data": {
            "application/vnd.jupyter.widget-view+json": {
              "model_id": "0c068685d0a2408da79edf6707cb0edc",
              "version_major": 2,
              "version_minor": 0
            },
            "text/plain": [
              "  0%|          | 0/23 [00:00<?, ?it/s]"
            ]
          },
          "metadata": {},
          "output_type": "display_data"
        },
        {
          "name": "stdout",
          "output_type": "stream",
          "text": [
            "Resize class: 세종전통장류박물관, data_type: Validation\n"
          ]
        },
        {
          "data": {
            "application/vnd.jupyter.widget-view+json": {
              "model_id": "b5b65456beb746de9ce84deac40c4644",
              "version_major": 2,
              "version_minor": 0
            },
            "text/plain": [
              "  0%|          | 0/19 [00:00<?, ?it/s]"
            ]
          },
          "metadata": {},
          "output_type": "display_data"
        },
        {
          "name": "stdout",
          "output_type": "stream",
          "text": [
            "Resize class: 세종특별자치시마을기록문화관, data_type: Validation\n"
          ]
        },
        {
          "data": {
            "application/vnd.jupyter.widget-view+json": {
              "model_id": "b3cdbeda28b040f78db4dba1ba392cc0",
              "version_major": 2,
              "version_minor": 0
            },
            "text/plain": [
              "  0%|          | 0/23 [00:00<?, ?it/s]"
            ]
          },
          "metadata": {},
          "output_type": "display_data"
        },
        {
          "name": "stdout",
          "output_type": "stream",
          "text": [
            "Resize class: 세종행복도시홍보관, data_type: Validation\n"
          ]
        },
        {
          "data": {
            "application/vnd.jupyter.widget-view+json": {
              "model_id": "f073a75a9bec45f786e724e058afdc3c",
              "version_major": 2,
              "version_minor": 0
            },
            "text/plain": [
              "  0%|          | 0/19 [00:00<?, ?it/s]"
            ]
          },
          "metadata": {},
          "output_type": "display_data"
        },
        {
          "name": "stdout",
          "output_type": "stream",
          "text": [
            "Resize class: 세종호수공원, data_type: Validation\n"
          ]
        },
        {
          "data": {
            "application/vnd.jupyter.widget-view+json": {
              "model_id": "ee21aba12b644ea980a310ddf04bc9f2",
              "version_major": 2,
              "version_minor": 0
            },
            "text/plain": [
              "  0%|          | 0/20 [00:00<?, ?it/s]"
            ]
          },
          "metadata": {},
          "output_type": "display_data"
        },
        {
          "name": "stdout",
          "output_type": "stream",
          "text": [
            "Resize class: 세종힐스테이트3차, data_type: Validation\n"
          ]
        },
        {
          "data": {
            "application/vnd.jupyter.widget-view+json": {
              "model_id": "6640ea7ac3104d76b5d4875bb32634ae",
              "version_major": 2,
              "version_minor": 0
            },
            "text/plain": [
              "  0%|          | 0/13 [00:00<?, ?it/s]"
            ]
          },
          "metadata": {},
          "output_type": "display_data"
        },
        {
          "name": "stdout",
          "output_type": "stream",
          "text": [
            "Resize class: 수루배마을4단지더샵예미지, data_type: Validation\n"
          ]
        },
        {
          "data": {
            "application/vnd.jupyter.widget-view+json": {
              "model_id": "7b471ca84d1344f4baf814c4df9e5fcf",
              "version_major": 2,
              "version_minor": 0
            },
            "text/plain": [
              "  0%|          | 0/13 [00:00<?, ?it/s]"
            ]
          },
          "metadata": {},
          "output_type": "display_data"
        },
        {
          "name": "stdout",
          "output_type": "stream",
          "text": [
            "Resize class: 수루배마을6단지세종더샵예미지, data_type: Validation\n"
          ]
        },
        {
          "data": {
            "application/vnd.jupyter.widget-view+json": {
              "model_id": "336b585a94fb45769188cd0297d927e1",
              "version_major": 2,
              "version_minor": 0
            },
            "text/plain": [
              "  0%|          | 0/13 [00:00<?, ?it/s]"
            ]
          },
          "metadata": {},
          "output_type": "display_data"
        },
        {
          "name": "stdout",
          "output_type": "stream",
          "text": [
            "Resize class: 연기대첩비공원, data_type: Validation\n"
          ]
        },
        {
          "data": {
            "application/vnd.jupyter.widget-view+json": {
              "model_id": "609133c1092149d2a5441d0236294cdf",
              "version_major": 2,
              "version_minor": 0
            },
            "text/plain": [
              "  0%|          | 0/20 [00:00<?, ?it/s]"
            ]
          },
          "metadata": {},
          "output_type": "display_data"
        },
        {
          "name": "stdout",
          "output_type": "stream",
          "text": [
            "Resize class: 연기봉산동의향나무, data_type: Validation\n"
          ]
        },
        {
          "data": {
            "application/vnd.jupyter.widget-view+json": {
              "model_id": "a11ddd00c8294c89b44aa226973773bd",
              "version_major": 2,
              "version_minor": 0
            },
            "text/plain": [
              "  0%|          | 0/23 [00:00<?, ?it/s]"
            ]
          },
          "metadata": {},
          "output_type": "display_data"
        },
        {
          "name": "stdout",
          "output_type": "stream",
          "text": [
            "Resize class: 연기향교, data_type: Validation\n"
          ]
        },
        {
          "data": {
            "application/vnd.jupyter.widget-view+json": {
              "model_id": "c4323a51c0b24cbda172083060a3b3f3",
              "version_major": 2,
              "version_minor": 0
            },
            "text/plain": [
              "  0%|          | 0/18 [00:00<?, ?it/s]"
            ]
          },
          "metadata": {},
          "output_type": "display_data"
        },
        {
          "name": "stdout",
          "output_type": "stream",
          "text": [
            "Resize class: 연기향토박물관, data_type: Validation\n"
          ]
        },
        {
          "data": {
            "application/vnd.jupyter.widget-view+json": {
              "model_id": "f5b124574119404abadd83285bb1f763",
              "version_major": 2,
              "version_minor": 0
            },
            "text/plain": [
              "  0%|          | 0/22 [00:00<?, ?it/s]"
            ]
          },
          "metadata": {},
          "output_type": "display_data"
        },
        {
          "name": "stdout",
          "output_type": "stream",
          "text": [
            "Resize class: 연동송용리마애여래입상, data_type: Validation\n"
          ]
        },
        {
          "data": {
            "application/vnd.jupyter.widget-view+json": {
              "model_id": "ef7856aefa4642b58695734b879d5e97",
              "version_major": 2,
              "version_minor": 0
            },
            "text/plain": [
              "  0%|          | 0/23 [00:00<?, ?it/s]"
            ]
          },
          "metadata": {},
          "output_type": "display_data"
        },
        {
          "name": "stdout",
          "output_type": "stream",
          "text": [
            "Resize class: 연화사, data_type: Validation\n"
          ]
        },
        {
          "data": {
            "application/vnd.jupyter.widget-view+json": {
              "model_id": "56e8dd63894942d4bf825dd423f11c0b",
              "version_major": 2,
              "version_minor": 0
            },
            "text/plain": [
              "  0%|          | 0/22 [00:00<?, ?it/s]"
            ]
          },
          "metadata": {},
          "output_type": "display_data"
        },
        {
          "name": "stdout",
          "output_type": "stream",
          "text": [
            "Resize class: 영평사, data_type: Validation\n"
          ]
        },
        {
          "data": {
            "application/vnd.jupyter.widget-view+json": {
              "model_id": "20f2806c6ef346beb16869895321922e",
              "version_major": 2,
              "version_minor": 0
            },
            "text/plain": [
              "  0%|          | 0/19 [00:00<?, ?it/s]"
            ]
          },
          "metadata": {},
          "output_type": "display_data"
        },
        {
          "name": "stdout",
          "output_type": "stream",
          "text": [
            "Resize class: 은하수공원, data_type: Validation\n"
          ]
        },
        {
          "data": {
            "application/vnd.jupyter.widget-view+json": {
              "model_id": "bdf903b32327469da7cde697c9efdb86",
              "version_major": 2,
              "version_minor": 0
            },
            "text/plain": [
              "  0%|          | 0/12 [00:00<?, ?it/s]"
            ]
          },
          "metadata": {},
          "output_type": "display_data"
        },
        {
          "name": "stdout",
          "output_type": "stream",
          "text": [
            "Resize class: 자성사, data_type: Validation\n"
          ]
        },
        {
          "data": {
            "application/vnd.jupyter.widget-view+json": {
              "model_id": "11b4e0af102a4c418e75897f21a3a6a9",
              "version_major": 2,
              "version_minor": 0
            },
            "text/plain": [
              "  0%|          | 0/21 [00:00<?, ?it/s]"
            ]
          },
          "metadata": {},
          "output_type": "display_data"
        },
        {
          "name": "stdout",
          "output_type": "stream",
          "text": [
            "Resize class: 전의비암사극락보전, data_type: Validation\n"
          ]
        },
        {
          "data": {
            "application/vnd.jupyter.widget-view+json": {
              "model_id": "272c0e1442244fe2afa629c18be9de2f",
              "version_major": 2,
              "version_minor": 0
            },
            "text/plain": [
              "  0%|          | 0/22 [00:00<?, ?it/s]"
            ]
          },
          "metadata": {},
          "output_type": "display_data"
        },
        {
          "name": "stdout",
          "output_type": "stream",
          "text": [
            "Resize class: 전의비암사삼층석탑, data_type: Validation\n"
          ]
        },
        {
          "data": {
            "application/vnd.jupyter.widget-view+json": {
              "model_id": "5ca657b04efd4db9ba294a3fd8790ebb",
              "version_major": 2,
              "version_minor": 0
            },
            "text/plain": [
              "  0%|          | 0/24 [00:00<?, ?it/s]"
            ]
          },
          "metadata": {},
          "output_type": "display_data"
        },
        {
          "name": "stdout",
          "output_type": "stream",
          "text": [
            "Resize class: 전의향교, data_type: Validation\n"
          ]
        },
        {
          "data": {
            "application/vnd.jupyter.widget-view+json": {
              "model_id": "57c9c192134b4679a5c16f7ff1d302d6",
              "version_major": 2,
              "version_minor": 0
            },
            "text/plain": [
              "  0%|          | 0/19 [00:00<?, ?it/s]"
            ]
          },
          "metadata": {},
          "output_type": "display_data"
        },
        {
          "name": "stdout",
          "output_type": "stream",
          "text": [
            "Resize class: 조천연꽃공원, data_type: Validation\n"
          ]
        },
        {
          "data": {
            "application/vnd.jupyter.widget-view+json": {
              "model_id": "ef49303c7303480b90d8f09aae0c98f8",
              "version_major": 2,
              "version_minor": 0
            },
            "text/plain": [
              "  0%|          | 0/23 [00:00<?, ?it/s]"
            ]
          },
          "metadata": {},
          "output_type": "display_data"
        },
        {
          "name": "stdout",
          "output_type": "stream",
          "text": [
            "Resize class: 조치원문화정원, data_type: Validation\n"
          ]
        },
        {
          "data": {
            "application/vnd.jupyter.widget-view+json": {
              "model_id": "a3659eef0ce24fd5b4662c5dfe975bdd",
              "version_major": 2,
              "version_minor": 0
            },
            "text/plain": [
              "  0%|          | 0/23 [00:00<?, ?it/s]"
            ]
          },
          "metadata": {},
          "output_type": "display_data"
        },
        {
          "name": "stdout",
          "output_type": "stream",
          "text": [
            "Resize class: 조치원봉산영당, data_type: Validation\n"
          ]
        },
        {
          "data": {
            "application/vnd.jupyter.widget-view+json": {
              "model_id": "0984bbc0ec88432c9b0857f66c6daf5b",
              "version_major": 2,
              "version_minor": 0
            },
            "text/plain": [
              "  0%|          | 0/24 [00:00<?, ?it/s]"
            ]
          },
          "metadata": {},
          "output_type": "display_data"
        },
        {
          "name": "stdout",
          "output_type": "stream",
          "text": [
            "Resize class: 조치원신흥e편한세상아파트, data_type: Validation\n"
          ]
        },
        {
          "data": {
            "application/vnd.jupyter.widget-view+json": {
              "model_id": "9058e7ce472947e2982eeb9191d3cdf4",
              "version_major": 2,
              "version_minor": 0
            },
            "text/plain": [
              "  0%|          | 0/13 [00:00<?, ?it/s]"
            ]
          },
          "metadata": {},
          "output_type": "display_data"
        },
        {
          "name": "stdout",
          "output_type": "stream",
          "text": [
            "Resize class: 조치원신흥푸르지오아파트, data_type: Validation\n"
          ]
        },
        {
          "data": {
            "application/vnd.jupyter.widget-view+json": {
              "model_id": "c5139d555a3a4468b2cdda8be0f85999",
              "version_major": 2,
              "version_minor": 0
            },
            "text/plain": [
              "  0%|          | 0/12 [00:00<?, ?it/s]"
            ]
          },
          "metadata": {},
          "output_type": "display_data"
        },
        {
          "name": "stdout",
          "output_type": "stream",
          "text": [
            "Resize class: 조치원역경부선, data_type: Validation\n"
          ]
        },
        {
          "data": {
            "application/vnd.jupyter.widget-view+json": {
              "model_id": "a925ea8f2db74d8e8186cd8987e5ca90",
              "version_major": 2,
              "version_minor": 0
            },
            "text/plain": [
              "  0%|          | 0/23 [00:00<?, ?it/s]"
            ]
          },
          "metadata": {},
          "output_type": "display_data"
        },
        {
          "name": "stdout",
          "output_type": "stream",
          "text": [
            "Resize class: 조치원자이아파트, data_type: Validation\n"
          ]
        },
        {
          "data": {
            "application/vnd.jupyter.widget-view+json": {
              "model_id": "74feda3d705c4038af6e41eef4faffe2",
              "version_major": 2,
              "version_minor": 0
            },
            "text/plain": [
              "  0%|          | 0/13 [00:00<?, ?it/s]"
            ]
          },
          "metadata": {},
          "output_type": "display_data"
        },
        {
          "name": "stdout",
          "output_type": "stream",
          "text": [
            "Resize class: 조치원죽림푸르지오아파트, data_type: Validation\n"
          ]
        },
        {
          "data": {
            "application/vnd.jupyter.widget-view+json": {
              "model_id": "0c7ae289ed9e45468b69f746587de88a",
              "version_major": 2,
              "version_minor": 0
            },
            "text/plain": [
              "  0%|          | 0/12 [00:00<?, ?it/s]"
            ]
          },
          "metadata": {},
          "output_type": "display_data"
        },
        {
          "name": "stdout",
          "output_type": "stream",
          "text": [
            "Resize class: 천주교대전교구세종성프란치스코성당, data_type: Validation\n"
          ]
        },
        {
          "data": {
            "application/vnd.jupyter.widget-view+json": {
              "model_id": "0f2d0b5a35fd4a4cac17f5700d8109cf",
              "version_major": 2,
              "version_minor": 0
            },
            "text/plain": [
              "  0%|          | 0/23 [00:00<?, ?it/s]"
            ]
          },
          "metadata": {},
          "output_type": "display_data"
        },
        {
          "name": "stdout",
          "output_type": "stream",
          "text": [
            "Resize class: 첫마을4단지푸르지오아파트, data_type: Validation\n"
          ]
        },
        {
          "data": {
            "application/vnd.jupyter.widget-view+json": {
              "model_id": "cdedb66cdecc4ffb9b30466adcc67be0",
              "version_major": 2,
              "version_minor": 0
            },
            "text/plain": [
              "  0%|          | 0/12 [00:00<?, ?it/s]"
            ]
          },
          "metadata": {},
          "output_type": "display_data"
        },
        {
          "name": "stdout",
          "output_type": "stream",
          "text": [
            "Resize class: 첫마을5단지푸르지오아파트, data_type: Validation\n"
          ]
        },
        {
          "data": {
            "application/vnd.jupyter.widget-view+json": {
              "model_id": "08d8ee25af6d4810b81a7bc776b8d68a",
              "version_major": 2,
              "version_minor": 0
            },
            "text/plain": [
              "  0%|          | 0/12 [00:00<?, ?it/s]"
            ]
          },
          "metadata": {},
          "output_type": "display_data"
        },
        {
          "name": "stdout",
          "output_type": "stream",
          "text": [
            "Resize class: 첫마을6단지힐스테이트아파트, data_type: Validation\n"
          ]
        },
        {
          "data": {
            "application/vnd.jupyter.widget-view+json": {
              "model_id": "afc5843faf194bbb8ddae8d974af8f44",
              "version_major": 2,
              "version_minor": 0
            },
            "text/plain": [
              "  0%|          | 0/13 [00:00<?, ?it/s]"
            ]
          },
          "metadata": {},
          "output_type": "display_data"
        },
        {
          "name": "stdout",
          "output_type": "stream",
          "text": [
            "Resize class: 첫마을7단지삼성래미안아파트, data_type: Validation\n"
          ]
        },
        {
          "data": {
            "application/vnd.jupyter.widget-view+json": {
              "model_id": "fdedf82cdc2f45b2b9b9bf8a22f848c5",
              "version_major": 2,
              "version_minor": 0
            },
            "text/plain": [
              "  0%|          | 0/13 [00:00<?, ?it/s]"
            ]
          },
          "metadata": {},
          "output_type": "display_data"
        },
        {
          "name": "stdout",
          "output_type": "stream",
          "text": [
            "Resize class: 초려역사공원, data_type: Validation\n"
          ]
        },
        {
          "data": {
            "application/vnd.jupyter.widget-view+json": {
              "model_id": "89ae4b17b9b94043896152b2831d8f97",
              "version_major": 2,
              "version_minor": 0
            },
            "text/plain": [
              "  0%|          | 0/23 [00:00<?, ?it/s]"
            ]
          },
          "metadata": {},
          "output_type": "display_data"
        },
        {
          "name": "stdout",
          "output_type": "stream",
          "text": [
            "Resize class: 충청남도산림박물관, data_type: Validation\n"
          ]
        },
        {
          "data": {
            "application/vnd.jupyter.widget-view+json": {
              "model_id": "6ed0b3c5d49a4433b3c18886b7eb57e6",
              "version_major": 2,
              "version_minor": 0
            },
            "text/plain": [
              "  0%|          | 0/21 [00:00<?, ?it/s]"
            ]
          },
          "metadata": {},
          "output_type": "display_data"
        },
        {
          "name": "stdout",
          "output_type": "stream",
          "text": [
            "Resize class: 한뜰마을1단지상록데시앙아파트, data_type: Validation\n"
          ]
        },
        {
          "data": {
            "application/vnd.jupyter.widget-view+json": {
              "model_id": "f0e7cadfabdf4884a2471806c5a7d994",
              "version_major": 2,
              "version_minor": 0
            },
            "text/plain": [
              "  0%|          | 0/13 [00:00<?, ?it/s]"
            ]
          },
          "metadata": {},
          "output_type": "display_data"
        },
        {
          "name": "stdout",
          "output_type": "stream",
          "text": [
            "Resize class: 한뜰마을2단지더샵센트럴시티아파트, data_type: Validation\n"
          ]
        },
        {
          "data": {
            "application/vnd.jupyter.widget-view+json": {
              "model_id": "49bf03338a6746dd9b7b6fc257ebcef6",
              "version_major": 2,
              "version_minor": 0
            },
            "text/plain": [
              "  0%|          | 0/13 [00:00<?, ?it/s]"
            ]
          },
          "metadata": {},
          "output_type": "display_data"
        },
        {
          "name": "stdout",
          "output_type": "stream",
          "text": [
            "Resize class: 한뜰마을3단지더샵레이크파크아파트, data_type: Validation\n"
          ]
        },
        {
          "data": {
            "application/vnd.jupyter.widget-view+json": {
              "model_id": "41d9c21c46374ff9acbeaea1c0ac5eed",
              "version_major": 2,
              "version_minor": 0
            },
            "text/plain": [
              "  0%|          | 0/13 [00:00<?, ?it/s]"
            ]
          },
          "metadata": {},
          "output_type": "display_data"
        },
        {
          "name": "stdout",
          "output_type": "stream",
          "text": [
            "Resize class: 해들마을6단지e편한세상세종리버파크, data_type: Validation\n"
          ]
        },
        {
          "data": {
            "application/vnd.jupyter.widget-view+json": {
              "model_id": "e4ca6320ba0f46acaf27754adcb9b5de",
              "version_major": 2,
              "version_minor": 0
            },
            "text/plain": [
              "  0%|          | 0/13 [00:00<?, ?it/s]"
            ]
          },
          "metadata": {},
          "output_type": "display_data"
        },
        {
          "name": "stdout",
          "output_type": "stream",
          "text": [
            "Resize class: 황룡사, data_type: Validation\n"
          ]
        },
        {
          "data": {
            "application/vnd.jupyter.widget-view+json": {
              "model_id": "521845a9e8d84c639cb5793390dffa91",
              "version_major": 2,
              "version_minor": 0
            },
            "text/plain": [
              "  0%|          | 0/23 [00:00<?, ?it/s]"
            ]
          },
          "metadata": {},
          "output_type": "display_data"
        },
        {
          "name": "stdout",
          "output_type": "stream",
          "text": [
            "Resize class: 힐스테이트세종리버파크7단지, data_type: Validation\n"
          ]
        },
        {
          "data": {
            "application/vnd.jupyter.widget-view+json": {
              "model_id": "d5178dc3e87b400199eee2f3b8bdd34e",
              "version_major": 2,
              "version_minor": 0
            },
            "text/plain": [
              "  0%|          | 0/13 [00:00<?, ?it/s]"
            ]
          },
          "metadata": {},
          "output_type": "display_data"
        },
        {
          "name": "stdout",
          "output_type": "stream",
          "text": [
            "Resize class: 힐스테이트세종리버파크8단지, data_type: Validation\n"
          ]
        },
        {
          "data": {
            "application/vnd.jupyter.widget-view+json": {
              "model_id": "a0f5d9b4f27749849211bc7534dd0250",
              "version_major": 2,
              "version_minor": 0
            },
            "text/plain": [
              "  0%|          | 0/13 [00:00<?, ?it/s]"
            ]
          },
          "metadata": {},
          "output_type": "display_data"
        }
      ],
      "source": [
        "from tqdm.notebook import tqdm\n",
        "\n",
        "for data_type in ['Training', 'Validation']:\n",
        "    data_type_dir = os.path.join(resized_dir, data_type)\n",
        "    if not os.path.isdir(data_type_dir):\n",
        "        os.mkdir(data_type_dir)\n",
        "    \n",
        "    for region in region_list:\n",
        "        region_dir = os.path.join(extract_dir, data_type, region)\n",
        "        cls_list = os.listdir(region_dir)\n",
        "        \n",
        "        for cls in cls_list:\n",
        "            target_dir = os.path.join(resized_dir, data_type, cls)\n",
        "            if not os.path.isdir(target_dir):\n",
        "                os.mkdir(target_dir)\n",
        "\n",
        "            print(\"Resize class: {}, data_type: {}\".format(cls, data_type))\n",
        "            for fname in tqdm(os.listdir(os.path.join(region_dir, cls))):\n",
        "                img = cv2.imread(os.path.join(region_dir, cls, fname))\n",
        "\n",
        "                resized_img = cv2.resize(img, (0, 0), fx=0.1, fy=0.1, interpolation=cv2.INTER_AREA)\n",
        "\n",
        "                cv2.imwrite(os.path.join(target_dir, fname), resized_img)\n",
        "\n",
        "\n",
        "\n",
        "            \n",
        "\n",
        "\n",
        "\n",
        "\n",
        "        # src_file = os.path.join(base_dir, 'downloads', data_type, region, \"[원천]{}_001.zip\".format(region))"
      ]
    },
    {
      "cell_type": "code",
      "execution_count": null,
      "metadata": {
        "id": "x-r5ee3BfpB8"
      },
      "outputs": [],
      "source": []
    }
  ],
  "metadata": {
    "colab": {
      "name": "preprocessing.ipynb",
      "provenance": [],
      "toc_visible": true
    },
    "kernelspec": {
      "display_name": "Python 3.9.12 ('base')",
      "language": "python",
      "name": "python3"
    },
    "language_info": {
      "codemirror_mode": {
        "name": "ipython",
        "version": 3
      },
      "file_extension": ".py",
      "mimetype": "text/x-python",
      "name": "python",
      "nbconvert_exporter": "python",
      "pygments_lexer": "ipython3",
      "version": "3.10.5"
    },
    "orig_nbformat": 4,
    "vscode": {
      "interpreter": {
        "hash": "d4d1e4263499bec80672ea0156c357c1ee493ec2b1c70f0acce89fc37c4a6abe"
      }
    }
  },
  "nbformat": 4,
  "nbformat_minor": 0
}
