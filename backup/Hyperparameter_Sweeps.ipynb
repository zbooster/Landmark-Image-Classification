{
  "nbformat": 4,
  "nbformat_minor": 0,
  "metadata": {
    "colab": {
      "name": "Hyperparameter_Sweeps.ipynb",
      "provenance": [],
      "collapsed_sections": [],
      "mount_file_id": "https://github.com/zbooster/Landmark-Image-Classification/blob/main/landmark_resnet.ipynb",
      "authorship_tag": "ABX9TyNh0IKL9GV2vyHgurhuqXdI",
      "include_colab_link": true
    },
    "kernelspec": {
      "name": "python3",
      "display_name": "Python 3"
    },
    "language_info": {
      "name": "python"
    },
    "gpuClass": "standard",
    "widgets": {
      "application/vnd.jupyter.widget-state+json": {
        "93a2f939428a4a75b890cb7dc1ed9afd": {
          "model_module": "@jupyter-widgets/controls",
          "model_name": "VBoxModel",
          "model_module_version": "1.5.0",
          "state": {
            "_dom_classes": [],
            "_model_module": "@jupyter-widgets/controls",
            "_model_module_version": "1.5.0",
            "_model_name": "VBoxModel",
            "_view_count": null,
            "_view_module": "@jupyter-widgets/controls",
            "_view_module_version": "1.5.0",
            "_view_name": "VBoxView",
            "box_style": "",
            "children": [
              "IPY_MODEL_9b95e36d775f44ba98f465dc75e79199",
              "IPY_MODEL_9d309332ee474214b10ec8d7de6f89e3"
            ],
            "layout": "IPY_MODEL_8eb0aecebfb54c14b669aae959f2ef6d"
          }
        },
        "9b95e36d775f44ba98f465dc75e79199": {
          "model_module": "@jupyter-widgets/controls",
          "model_name": "LabelModel",
          "model_module_version": "1.5.0",
          "state": {
            "_dom_classes": [],
            "_model_module": "@jupyter-widgets/controls",
            "_model_module_version": "1.5.0",
            "_model_name": "LabelModel",
            "_view_count": null,
            "_view_module": "@jupyter-widgets/controls",
            "_view_module_version": "1.5.0",
            "_view_name": "LabelView",
            "description": "",
            "description_tooltip": null,
            "layout": "IPY_MODEL_1bb0a43de4c74361ba9c632bdd0939da",
            "placeholder": "​",
            "style": "IPY_MODEL_f16e80640fec45fa964f27ef1e1c7ef9",
            "value": "0.009 MB of 0.009 MB uploaded (0.000 MB deduped)\r"
          }
        },
        "9d309332ee474214b10ec8d7de6f89e3": {
          "model_module": "@jupyter-widgets/controls",
          "model_name": "FloatProgressModel",
          "model_module_version": "1.5.0",
          "state": {
            "_dom_classes": [],
            "_model_module": "@jupyter-widgets/controls",
            "_model_module_version": "1.5.0",
            "_model_name": "FloatProgressModel",
            "_view_count": null,
            "_view_module": "@jupyter-widgets/controls",
            "_view_module_version": "1.5.0",
            "_view_name": "ProgressView",
            "bar_style": "",
            "description": "",
            "description_tooltip": null,
            "layout": "IPY_MODEL_921fc8b8848e4e8eb2ae7a1184c29814",
            "max": 1,
            "min": 0,
            "orientation": "horizontal",
            "style": "IPY_MODEL_de540e8afb164c9782b1b952ae34097f",
            "value": 1
          }
        },
        "8eb0aecebfb54c14b669aae959f2ef6d": {
          "model_module": "@jupyter-widgets/base",
          "model_name": "LayoutModel",
          "model_module_version": "1.2.0",
          "state": {
            "_model_module": "@jupyter-widgets/base",
            "_model_module_version": "1.2.0",
            "_model_name": "LayoutModel",
            "_view_count": null,
            "_view_module": "@jupyter-widgets/base",
            "_view_module_version": "1.2.0",
            "_view_name": "LayoutView",
            "align_content": null,
            "align_items": null,
            "align_self": null,
            "border": null,
            "bottom": null,
            "display": null,
            "flex": null,
            "flex_flow": null,
            "grid_area": null,
            "grid_auto_columns": null,
            "grid_auto_flow": null,
            "grid_auto_rows": null,
            "grid_column": null,
            "grid_gap": null,
            "grid_row": null,
            "grid_template_areas": null,
            "grid_template_columns": null,
            "grid_template_rows": null,
            "height": null,
            "justify_content": null,
            "justify_items": null,
            "left": null,
            "margin": null,
            "max_height": null,
            "max_width": null,
            "min_height": null,
            "min_width": null,
            "object_fit": null,
            "object_position": null,
            "order": null,
            "overflow": null,
            "overflow_x": null,
            "overflow_y": null,
            "padding": null,
            "right": null,
            "top": null,
            "visibility": null,
            "width": null
          }
        },
        "1bb0a43de4c74361ba9c632bdd0939da": {
          "model_module": "@jupyter-widgets/base",
          "model_name": "LayoutModel",
          "model_module_version": "1.2.0",
          "state": {
            "_model_module": "@jupyter-widgets/base",
            "_model_module_version": "1.2.0",
            "_model_name": "LayoutModel",
            "_view_count": null,
            "_view_module": "@jupyter-widgets/base",
            "_view_module_version": "1.2.0",
            "_view_name": "LayoutView",
            "align_content": null,
            "align_items": null,
            "align_self": null,
            "border": null,
            "bottom": null,
            "display": null,
            "flex": null,
            "flex_flow": null,
            "grid_area": null,
            "grid_auto_columns": null,
            "grid_auto_flow": null,
            "grid_auto_rows": null,
            "grid_column": null,
            "grid_gap": null,
            "grid_row": null,
            "grid_template_areas": null,
            "grid_template_columns": null,
            "grid_template_rows": null,
            "height": null,
            "justify_content": null,
            "justify_items": null,
            "left": null,
            "margin": null,
            "max_height": null,
            "max_width": null,
            "min_height": null,
            "min_width": null,
            "object_fit": null,
            "object_position": null,
            "order": null,
            "overflow": null,
            "overflow_x": null,
            "overflow_y": null,
            "padding": null,
            "right": null,
            "top": null,
            "visibility": null,
            "width": null
          }
        },
        "f16e80640fec45fa964f27ef1e1c7ef9": {
          "model_module": "@jupyter-widgets/controls",
          "model_name": "DescriptionStyleModel",
          "model_module_version": "1.5.0",
          "state": {
            "_model_module": "@jupyter-widgets/controls",
            "_model_module_version": "1.5.0",
            "_model_name": "DescriptionStyleModel",
            "_view_count": null,
            "_view_module": "@jupyter-widgets/base",
            "_view_module_version": "1.2.0",
            "_view_name": "StyleView",
            "description_width": ""
          }
        },
        "921fc8b8848e4e8eb2ae7a1184c29814": {
          "model_module": "@jupyter-widgets/base",
          "model_name": "LayoutModel",
          "model_module_version": "1.2.0",
          "state": {
            "_model_module": "@jupyter-widgets/base",
            "_model_module_version": "1.2.0",
            "_model_name": "LayoutModel",
            "_view_count": null,
            "_view_module": "@jupyter-widgets/base",
            "_view_module_version": "1.2.0",
            "_view_name": "LayoutView",
            "align_content": null,
            "align_items": null,
            "align_self": null,
            "border": null,
            "bottom": null,
            "display": null,
            "flex": null,
            "flex_flow": null,
            "grid_area": null,
            "grid_auto_columns": null,
            "grid_auto_flow": null,
            "grid_auto_rows": null,
            "grid_column": null,
            "grid_gap": null,
            "grid_row": null,
            "grid_template_areas": null,
            "grid_template_columns": null,
            "grid_template_rows": null,
            "height": null,
            "justify_content": null,
            "justify_items": null,
            "left": null,
            "margin": null,
            "max_height": null,
            "max_width": null,
            "min_height": null,
            "min_width": null,
            "object_fit": null,
            "object_position": null,
            "order": null,
            "overflow": null,
            "overflow_x": null,
            "overflow_y": null,
            "padding": null,
            "right": null,
            "top": null,
            "visibility": null,
            "width": null
          }
        },
        "de540e8afb164c9782b1b952ae34097f": {
          "model_module": "@jupyter-widgets/controls",
          "model_name": "ProgressStyleModel",
          "model_module_version": "1.5.0",
          "state": {
            "_model_module": "@jupyter-widgets/controls",
            "_model_module_version": "1.5.0",
            "_model_name": "ProgressStyleModel",
            "_view_count": null,
            "_view_module": "@jupyter-widgets/base",
            "_view_module_version": "1.2.0",
            "_view_name": "StyleView",
            "bar_color": null,
            "description_width": ""
          }
        }
      }
    },
    "accelerator": "GPU"
  },
  "cells": [
    {
      "cell_type": "markdown",
      "metadata": {
        "id": "view-in-github",
        "colab_type": "text"
      },
      "source": [
        "<a href=\"https://colab.research.google.com/github/zbooster/Landmark-Image-Classification/blob/main/Hyperparameter_Sweeps.ipynb\" target=\"_parent\"><img src=\"https://colab.research.google.com/assets/colab-badge.svg\" alt=\"Open In Colab\"/></a>"
      ]
    },
    {
      "cell_type": "markdown",
      "source": [
        "# 랜드마크 이미지 분류하기"
      ],
      "metadata": {
        "id": "GyqaAGo7ia0z"
      }
    },
    {
      "cell_type": "code",
      "source": [
        "!nvidia-smi"
      ],
      "metadata": {
        "colab": {
          "base_uri": "https://localhost:8080/"
        },
        "id": "JenjWHn1ifFV",
        "outputId": "799eaa44-545f-4055-98bb-fdd053cdf875"
      },
      "execution_count": null,
      "outputs": [
        {
          "output_type": "stream",
          "name": "stdout",
          "text": [
            "Mon Aug  8 10:18:01 2022       \n",
            "+-----------------------------------------------------------------------------+\n",
            "| NVIDIA-SMI 460.32.03    Driver Version: 460.32.03    CUDA Version: 11.2     |\n",
            "|-------------------------------+----------------------+----------------------+\n",
            "| GPU  Name        Persistence-M| Bus-Id        Disp.A | Volatile Uncorr. ECC |\n",
            "| Fan  Temp  Perf  Pwr:Usage/Cap|         Memory-Usage | GPU-Util  Compute M. |\n",
            "|                               |                      |               MIG M. |\n",
            "|===============================+======================+======================|\n",
            "|   0  Tesla P100-PCIE...  Off  | 00000000:00:04.0 Off |                    0 |\n",
            "| N/A   38C    P0    26W / 250W |      0MiB / 16280MiB |      0%      Default |\n",
            "|                               |                      |                  N/A |\n",
            "+-------------------------------+----------------------+----------------------+\n",
            "                                                                               \n",
            "+-----------------------------------------------------------------------------+\n",
            "| Processes:                                                                  |\n",
            "|  GPU   GI   CI        PID   Type   Process name                  GPU Memory |\n",
            "|        ID   ID                                                   Usage      |\n",
            "|=============================================================================|\n",
            "|  No running processes found                                                 |\n",
            "+-----------------------------------------------------------------------------+\n"
          ]
        }
      ]
    },
    {
      "cell_type": "markdown",
      "source": [
        "## Introduction"
      ],
      "metadata": {
        "id": "YUi4uYqJiasb"
      }
    },
    {
      "cell_type": "markdown",
      "source": [
        "## Weights & Biases 설정"
      ],
      "metadata": {
        "id": "aEsEzXlApXNc"
      }
    },
    {
      "cell_type": "markdown",
      "source": [
        "### Package install"
      ],
      "metadata": {
        "id": "ICmbc1QpgMWn"
      }
    },
    {
      "cell_type": "code",
      "source": [
        "!pip install wandb -Uq"
      ],
      "metadata": {
        "colab": {
          "base_uri": "https://localhost:8080/"
        },
        "id": "CeEie50Zf6us",
        "outputId": "d27c3dbe-d66d-4b90-d346-673fbc99df15"
      },
      "execution_count": null,
      "outputs": [
        {
          "output_type": "stream",
          "name": "stdout",
          "text": [
            "\u001b[K     |████████████████████████████████| 1.8 MB 17.0 MB/s \n",
            "\u001b[K     |████████████████████████████████| 157 kB 65.3 MB/s \n",
            "\u001b[K     |████████████████████████████████| 181 kB 70.6 MB/s \n",
            "\u001b[K     |████████████████████████████████| 63 kB 1.7 MB/s \n",
            "\u001b[K     |████████████████████████████████| 157 kB 45.8 MB/s \n",
            "\u001b[K     |████████████████████████████████| 156 kB 58.0 MB/s \n",
            "\u001b[?25h  Building wheel for pathtools (setup.py) ... \u001b[?25l\u001b[?25hdone\n"
          ]
        }
      ]
    },
    {
      "cell_type": "markdown",
      "source": [
        "### Login"
      ],
      "metadata": {
        "id": "mxd-v2YPgDXX"
      }
    },
    {
      "cell_type": "code",
      "source": [
        "import wandb\n",
        "\n",
        "wandb.login()"
      ],
      "metadata": {
        "colab": {
          "base_uri": "https://localhost:8080/"
        },
        "id": "ZJ7mnKdEga3c",
        "outputId": "6ecde5d0-adba-47d2-f4c6-33c27f8670e5"
      },
      "execution_count": null,
      "outputs": [
        {
          "output_type": "stream",
          "name": "stderr",
          "text": [
            "\u001b[34m\u001b[1mwandb\u001b[0m: W&B API key is configured. Use \u001b[1m`wandb login --relogin`\u001b[0m to force relogin\n",
            "\u001b[34m\u001b[1mwandb\u001b[0m: \u001b[33mWARNING\u001b[0m If you're specifying your api key in code, ensure this code is not shared publicly.\n",
            "\u001b[34m\u001b[1mwandb\u001b[0m: \u001b[33mWARNING\u001b[0m Consider setting the WANDB_API_KEY environment variable, or running `wandb login` from the command line.\n",
            "\u001b[34m\u001b[1mwandb\u001b[0m: Appending key for api.wandb.ai to your netrc file: /root/.netrc\n"
          ]
        },
        {
          "output_type": "execute_result",
          "data": {
            "text/plain": [
              "True"
            ]
          },
          "metadata": {},
          "execution_count": 3
        }
      ]
    },
    {
      "cell_type": "markdown",
      "source": [
        "## Config"
      ],
      "metadata": {
        "id": "QGjYgfAIHkB-"
      }
    },
    {
      "cell_type": "markdown",
      "source": [
        "### Sweep config"
      ],
      "metadata": {
        "id": "cASFAVX8m8fB"
      }
    },
    {
      "cell_type": "markdown",
      "source": [
        "모든 파라미터를 다 테스트하기 위해 grid"
      ],
      "metadata": {
        "id": "22kRN4dEnwLs"
      }
    },
    {
      "cell_type": "code",
      "source": [
        "sweep_config = {\n",
        "    'method': 'grid'\n",
        "}"
      ],
      "metadata": {
        "id": "mQO5UrNem14X"
      },
      "execution_count": null,
      "outputs": []
    },
    {
      "cell_type": "code",
      "source": [
        "metric = {\n",
        "    'name': 'Validation Accuracy',\n",
        "    'goal': 'minimize'   \n",
        "    }\n",
        "\n",
        "sweep_config['metric'] = metric"
      ],
      "metadata": {
        "id": "_97RcDDHnAFV"
      },
      "execution_count": null,
      "outputs": []
    },
    {
      "cell_type": "code",
      "source": [
        "parameters_dict = {\n",
        "    'batch_size': {\n",
        "        'value': 64 },\n",
        "    'resize_pixel': {\n",
        "        'value': 256},\n",
        "    'crop_scale': {\n",
        "        'value': 0.9},\n",
        "    'learning_rate': {\n",
        "        'value': 0.001},\n",
        "    'grad_false_idx': {\n",
        "        'value': 6 },\n",
        "    'step_size': {\n",
        "        'value': 6 },\n",
        "    'gamma': {\n",
        "        'value': 0.1},\n",
        "    'epochs': {\n",
        "        'value': 25},\n",
        "    'class_size': {\n",
        "        'value': 84},\n",
        "    }\n",
        "\n",
        "sweep_config['parameters'] = parameters_dict"
      ],
      "metadata": {
        "id": "rM5AThmLn8LA"
      },
      "execution_count": null,
      "outputs": []
    },
    {
      "cell_type": "code",
      "source": [
        "import pprint\n",
        "\n",
        "pprint.pprint(sweep_config)"
      ],
      "metadata": {
        "colab": {
          "base_uri": "https://localhost:8080/"
        },
        "id": "J6IQd9SHoSMo",
        "outputId": "5d2509b3-4f24-476a-f51c-5958f5c5606f"
      },
      "execution_count": null,
      "outputs": [
        {
          "output_type": "stream",
          "name": "stdout",
          "text": [
            "{'method': 'grid',\n",
            " 'metric': {'goal': 'minimize', 'name': 'Validation Accuracy'},\n",
            " 'parameters': {'batch_size': {'value': 64},\n",
            "                'class_size': {'value': 84},\n",
            "                'crop_scale': {'value': 0.9},\n",
            "                'epochs': {'value': 25},\n",
            "                'gamma': {'value': 0.1},\n",
            "                'grad_false_idx': {'value': 6},\n",
            "                'learning_rate': {'value': 0.001},\n",
            "                'resize_pixel': {'value': 256},\n",
            "                'step_size': {'value': 6}}}\n"
          ]
        }
      ]
    },
    {
      "cell_type": "markdown",
      "source": [
        "### Tuning config"
      ],
      "metadata": {
        "id": "Ws2x34UCNFWb"
      }
    },
    {
      "cell_type": "markdown",
      "source": [
        "## Initialize the Sweep"
      ],
      "metadata": {
        "id": "5u3ITHDDofFK"
      }
    },
    {
      "cell_type": "markdown",
      "source": [
        "## Dataset and DataLoader\n",
        "수집된 원본데이터가 Colab에서 사용하기 너무 크기때문에 Local Computer에서 OpenCV를 이용하여 Resize를 수행한 결과를 파일로 가져와서 사용한다"
      ],
      "metadata": {
        "id": "FJ8Svh6riall"
      }
    },
    {
      "cell_type": "code",
      "source": [
        "!gdown 1_yGDePPvjlsTe4qi3X6LqY2DPEB97Itq\n",
        "!unzip -qq '/content/resizeds_0.1x.zip' -d './datasets'"
      ],
      "metadata": {
        "colab": {
          "base_uri": "https://localhost:8080/"
        },
        "id": "JMemGRG3kyfW",
        "outputId": "86758e80-64a5-4752-eef9-8d9214b9b91c"
      },
      "execution_count": null,
      "outputs": [
        {
          "output_type": "stream",
          "name": "stdout",
          "text": [
            "Downloading...\n",
            "From: https://drive.google.com/uc?id=1_yGDePPvjlsTe4qi3X6LqY2DPEB97Itq\n",
            "To: /content/resizeds_0.1x.zip\n",
            "100% 837M/837M [00:11<00:00, 71.6MB/s]\n"
          ]
        }
      ]
    },
    {
      "cell_type": "code",
      "source": [
        "sweep_id = wandb.sweep(sweep_config, project=\"Hyperparameter-Sweeps\")"
      ],
      "metadata": {
        "colab": {
          "base_uri": "https://localhost:8080/"
        },
        "id": "0QCzQK9oogqq",
        "outputId": "a7379366-20ff-4b1e-efc8-65843569cde2"
      },
      "execution_count": null,
      "outputs": [
        {
          "output_type": "stream",
          "name": "stdout",
          "text": [
            "Create sweep with ID: cpxmwkmy\n",
            "Sweep URL: https://wandb.ai/zbooster/Hyperparameter-Sweeps/sweeps/cpxmwkmy\n"
          ]
        }
      ]
    },
    {
      "cell_type": "markdown",
      "source": [
        "### 이미지 픽셀의 평균, 표준편차를 계산하여 정규화 하기"
      ],
      "metadata": {
        "id": "igtMw68WmU9S"
      }
    },
    {
      "cell_type": "code",
      "source": [
        "import torchvision.transforms as transforms\n",
        "from torch.utils.data import DataLoader\n",
        "from torchvision.datasets import ImageFolder\n",
        "\n",
        "def get_mean_and_std(dataloader):\n",
        "    channels_sum, channels_squared_sum, num_batches = 0, 0, 0\n",
        "    for data, _ in dataloader:\n",
        "        # Mean over batch, height and width, but not over the channels\n",
        "        channels_sum += torch.mean(data, dim=[0,2,3])\n",
        "        channels_squared_sum += torch.mean(data**2, dim=[0,2,3])\n",
        "        num_batches += 1\n",
        "    \n",
        "    mean = channels_sum / num_batches\n",
        "\n",
        "    # std = sqrt(E[X^2] - (E[X])^2)\n",
        "    std = (channels_squared_sum / num_batches - mean ** 2) ** 0.5\n",
        "\n",
        "    return mean, std\n",
        "\n",
        "def build_nomalize_loader(set_type, resize_pixel, batch_size):\n",
        "    transform = transforms.Compose([\n",
        "        transforms.Resize([resize_pixel, resize_pixel]),\n",
        "        transforms.ToTensor()\n",
        "        ])\n",
        "\n",
        "    dataset = ImageFolder(root='/content/datasets/resizeds/' + set_type, transform=transform)\n",
        "    loader = DataLoader(dataset=dataset, batch_size=batch_size)\n",
        "\n",
        "    return loader\n",
        "\n",
        "# get_mean_and_std(build_nomalize_loader('Training', 256, 256))"
      ],
      "metadata": {
        "id": "YHzo88hpmSzp"
      },
      "execution_count": null,
      "outputs": []
    },
    {
      "cell_type": "code",
      "source": [
        "import os\n",
        "\n",
        "def build_dataset(batch_size, set_type, resize_pixel, crop_scale): #, n_mean, n_std):\n",
        "  \n",
        "    compose_list = []\n",
        "    compose_list.append(transforms.Resize([resize_pixel, resize_pixel]))\n",
        "    # if set_type == 'Training':\n",
        "    #   compose_list.append(transforms.RandomHorizontalFlip())\n",
        "    #   compose_list.append(transforms.RandomVerticalFlip())\n",
        "    # compose_list.append(transforms.RandomCrop(int(resize_pixel * crop_scale)))\n",
        "    compose_list.append(transforms.ToTensor())\n",
        "    # compose_list.append(transforms.Normalize(n_mean, n_std))\n",
        "    \n",
        "    transform = transforms.Compose(compose_list)\n",
        "  \n",
        "    data_dir = '/content/datasets/resizeds'\n",
        "    dataset = ImageFolder(root=os.path.join(data_dir, set_type), transform=transform)\n",
        "    loader = DataLoader(dataset, batch_size=batch_size, shuffle=True, num_workers=2)\n",
        "  \n",
        "    return loader, len(dataset)"
      ],
      "metadata": {
        "id": "yn-PIYMBv_1O"
      },
      "execution_count": null,
      "outputs": []
    },
    {
      "cell_type": "code",
      "source": [
        "import torch\n",
        "from torchvision.models import resnet50, ResNet50_Weights\n",
        "import torch.nn as nn\n",
        "import torch.optim as optim\n",
        "\n",
        "device = torch.device(\"cuda\" if torch.cuda.is_available() else \"cpu\")\n",
        "\n",
        "def build_network(class_size):\n",
        "    network = resnet50(weights=ResNet50_Weights.IMAGENET1K_V2)\n",
        "    num_ftrs = network.fc.in_features\n",
        "    network.fc = nn.Linear(num_ftrs, class_size)\n",
        "    return network.to(device)"
      ],
      "metadata": {
        "id": "Pdy6kf0d2LDN"
      },
      "execution_count": null,
      "outputs": []
    },
    {
      "cell_type": "code",
      "source": [
        "def build_optimizer(network, learning_rate, grad_false_idx):\n",
        "    optimizer = optim.Adam(filter(lambda p: p.requires_grad, network.parameters()), \n",
        "                           lr=learning_rate)\n",
        "    for idx, child in enumerate(network.children()):\n",
        "      if idx < grad_false_idx:\n",
        "        for param in child.parameters():\n",
        "          param.requires_grad = False\n",
        "    return optimizer"
      ],
      "metadata": {
        "id": "qkVW3Qcv28_t"
      },
      "execution_count": null,
      "outputs": []
    },
    {
      "cell_type": "code",
      "source": [
        "from torch.optim import lr_scheduler\n",
        "\n",
        "def build_scheduler(optimizer, step_size, gamma):\n",
        "    exp_lr_scheduler = lr_scheduler.StepLR(optimizer, step_size=step_size, gamma=gamma)\n",
        "    return exp_lr_scheduler"
      ],
      "metadata": {
        "id": "Ki3HeJRn4XIY"
      },
      "execution_count": null,
      "outputs": []
    },
    {
      "cell_type": "code",
      "source": [
        "critetion = nn.CrossEntropyLoss()\n",
        "\n",
        "def train_epoch(network, loader, datasize, optimizer, scheduler):\n",
        "    network.train()\n",
        "\n",
        "    running_loss = 0.0\n",
        "    running_corrects = 0\n",
        "\n",
        "    for _, (data, target) in enumerate(loader):\n",
        "        data, target = data.to(device), target.to(device)\n",
        "        optimizer.zero_grad()\n",
        "\n",
        "        with torch.set_grad_enabled(True):\n",
        "          # ➡ Forward pass\n",
        "          outputs = network(data)\n",
        "          _, preds = torch.max(outputs, 1)\n",
        "          loss = critetion(outputs, target)\n",
        "\n",
        "          # ⬅ Backward pass + weight update\n",
        "          loss.backward()\n",
        "          optimizer.step()\n",
        "\n",
        "        running_loss += loss.item() * data.size(0)\n",
        "        running_corrects += torch.sum(preds == target.data)\n",
        "\n",
        "    scheduler.step()\n",
        "\n",
        "    epoch_loss = running_loss/datasize\n",
        "    epoch_acc = running_corrects.double()/datasize\n",
        "\n",
        "    return epoch_loss, epoch_acc"
      ],
      "metadata": {
        "id": "Pzw61uAd30QZ"
      },
      "execution_count": null,
      "outputs": []
    },
    {
      "cell_type": "code",
      "source": [
        "def validation_epoch(network, loader, datasize, optimizer):\n",
        "    network.eval()\n",
        "    \n",
        "    running_loss = 0.0\n",
        "    running_corrects = 0\n",
        "\n",
        "    for _, (data, target) in enumerate(loader):\n",
        "        data, target = data.to(device), target.to(device)\n",
        "        optimizer.zero_grad()\n",
        "\n",
        "        # ➡ Forward pass\n",
        "        outputs = network(data)\n",
        "        _, preds = torch.max(outputs, 1)\n",
        "        loss = critetion(outputs, target)\n",
        "\n",
        "        running_loss += loss.item() * data.size(0)\n",
        "        running_corrects += torch.sum(preds == target.data)\n",
        "\n",
        "    epoch_loss = running_loss/datasize\n",
        "    epoch_acc = running_corrects.double()/datasize\n",
        "\n",
        "    return epoch_loss, epoch_acc"
      ],
      "metadata": {
        "id": "UQbvtY4B8GEE"
      },
      "execution_count": null,
      "outputs": []
    },
    {
      "cell_type": "code",
      "source": [
        "import torch\n",
        "import torch.optim as optim\n",
        "import torch.nn.functional as F\n",
        "import torch.nn as nn\n",
        "import time\n",
        "from torchvision import datasets, transforms\n",
        "\n",
        "def train(config=None):\n",
        "    # Initialize a new wandb run\n",
        "    with wandb.init(config=config):\n",
        "        # If called by wandb.agent, as below,\n",
        "        # this config will be set by Sweep Controller\n",
        "        config = wandb.config\n",
        "\n",
        "        # t_mean, t_std = get_mean_and_std(build_nomalize_loader('Training', config.resize_pixel, config.batch_size))\n",
        "        t_loader, t_datasize = build_dataset(config.batch_size, 'Training', \n",
        "                                             config.resize_pixel, config.crop_scale\n",
        "                                            #  ,t_mean, t_std\n",
        "                                             )\n",
        "        \n",
        "        # v_mean, v_std = get_mean_and_std(build_nomalize_loader('Validation', config.resize_pixel, config.batch_size))\n",
        "        v_loader, v_datasize = build_dataset(config.batch_size, 'Validation', \n",
        "                                             config.resize_pixel, config.crop_scale\n",
        "                                            #  ,v_mean, v_std\n",
        "                                             )\n",
        "        \n",
        "        network = build_network(config.class_size)\n",
        "        optimizer = build_optimizer(network, config.learning_rate, config.grad_false_idx)\n",
        "        scheduler = build_scheduler(optimizer, config.step_size, config.gamma)\n",
        "\n",
        "        for epoch in range(config.epochs):\n",
        "            since = time.time()\n",
        "            \n",
        "            epoch_loss, epoch_acc = train_epoch(network, t_loader, t_datasize, optimizer, scheduler)\n",
        "            wandb.log({\"Train Loss\": epoch_loss, \"Train Accuracy\": epoch_acc * 100, \"Epoch\": epoch})\n",
        "\n",
        "            epoch_loss, epoch_acc = validation_epoch(network, v_loader, v_datasize, optimizer)\n",
        "            wandb.log({\"Validation Loss\": epoch_loss, \"Validation Accuracy\": epoch_acc * 100, \"Epoch\": epoch})\n",
        "\n",
        "            time_elapsed = time.time() - since\n",
        "            wandb.log({\"Time Elapsed(s)\": time_elapsed, \"Epoch\": epoch})\n",
        "\n",
        "\n",
        "            "
      ],
      "metadata": {
        "id": "M19U0pCLv9jD"
      },
      "execution_count": null,
      "outputs": []
    },
    {
      "cell_type": "code",
      "source": [
        "wandb.agent(sweep_id, train)"
      ],
      "metadata": {
        "colab": {
          "base_uri": "https://localhost:8080/",
          "height": 691,
          "referenced_widgets": [
            "93a2f939428a4a75b890cb7dc1ed9afd",
            "9b95e36d775f44ba98f465dc75e79199",
            "9d309332ee474214b10ec8d7de6f89e3",
            "8eb0aecebfb54c14b669aae959f2ef6d",
            "1bb0a43de4c74361ba9c632bdd0939da",
            "f16e80640fec45fa964f27ef1e1c7ef9",
            "921fc8b8848e4e8eb2ae7a1184c29814",
            "de540e8afb164c9782b1b952ae34097f"
          ]
        },
        "id": "ugOSh95tEUTI",
        "outputId": "3fa77f7c-3c7c-4823-b8da-0998e279abdc"
      },
      "execution_count": null,
      "outputs": [
        {
          "output_type": "stream",
          "name": "stderr",
          "text": [
            "\u001b[34m\u001b[1mwandb\u001b[0m: Agent Starting Run: kw8nxzdx with config:\n",
            "\u001b[34m\u001b[1mwandb\u001b[0m: \tbatch_size: 64\n",
            "\u001b[34m\u001b[1mwandb\u001b[0m: \tclass_size: 84\n",
            "\u001b[34m\u001b[1mwandb\u001b[0m: \tcrop_scale: 0.9\n",
            "\u001b[34m\u001b[1mwandb\u001b[0m: \tepochs: 25\n",
            "\u001b[34m\u001b[1mwandb\u001b[0m: \tgamma: 0.1\n",
            "\u001b[34m\u001b[1mwandb\u001b[0m: \tgrad_false_idx: 6\n",
            "\u001b[34m\u001b[1mwandb\u001b[0m: \tlearning_rate: 0.001\n",
            "\u001b[34m\u001b[1mwandb\u001b[0m: \tresize_pixel: 256\n",
            "\u001b[34m\u001b[1mwandb\u001b[0m: \tstep_size: 6\n"
          ]
        },
        {
          "output_type": "display_data",
          "data": {
            "text/plain": [
              "<IPython.core.display.HTML object>"
            ],
            "text/html": [
              "Tracking run with wandb version 0.13.1"
            ]
          },
          "metadata": {}
        },
        {
          "output_type": "display_data",
          "data": {
            "text/plain": [
              "<IPython.core.display.HTML object>"
            ],
            "text/html": [
              "Run data is saved locally in <code>/content/wandb/run-20220808_101926-kw8nxzdx</code>"
            ]
          },
          "metadata": {}
        },
        {
          "output_type": "display_data",
          "data": {
            "text/plain": [
              "<IPython.core.display.HTML object>"
            ],
            "text/html": [
              "Syncing run <strong><a href=\"https://wandb.ai/zbooster/Hyperparameter-Sweeps/runs/kw8nxzdx\" target=\"_blank\">easy-sweep-1</a></strong> to <a href=\"https://wandb.ai/zbooster/Hyperparameter-Sweeps\" target=\"_blank\">Weights & Biases</a> (<a href=\"https://wandb.me/run\" target=\"_blank\">docs</a>)<br/>Sweep page:  <a href=\"https://wandb.ai/zbooster/Hyperparameter-Sweeps/sweeps/cpxmwkmy\" target=\"_blank\">https://wandb.ai/zbooster/Hyperparameter-Sweeps/sweeps/cpxmwkmy</a>"
            ]
          },
          "metadata": {}
        },
        {
          "output_type": "display_data",
          "data": {
            "text/plain": [
              "<IPython.core.display.HTML object>"
            ],
            "text/html": [
              "Waiting for W&B process to finish... <strong style=\"color:green\">(success).</strong>"
            ]
          },
          "metadata": {}
        },
        {
          "output_type": "display_data",
          "data": {
            "text/plain": [
              "VBox(children=(Label(value='0.001 MB of 0.001 MB uploaded (0.000 MB deduped)\\r'), FloatProgress(value=1.0, max…"
            ],
            "application/vnd.jupyter.widget-view+json": {
              "version_major": 2,
              "version_minor": 0,
              "model_id": "93a2f939428a4a75b890cb7dc1ed9afd"
            }
          },
          "metadata": {}
        },
        {
          "output_type": "display_data",
          "data": {
            "text/plain": [
              "<IPython.core.display.HTML object>"
            ],
            "text/html": [
              "<style>\n",
              "    table.wandb td:nth-child(1) { padding: 0 10px; text-align: left ; width: auto;} td:nth-child(2) {text-align: left ; width: 100%}\n",
              "    .wandb-row { display: flex; flex-direction: row; flex-wrap: wrap; justify-content: flex-start; width: 100% }\n",
              "    .wandb-col { display: flex; flex-direction: column; flex-basis: 100%; flex: 1; padding: 10px; }\n",
              "    </style>\n",
              "<div class=\"wandb-row\"><div class=\"wandb-col\"><h3>Run history:</h3><br/><table class=\"wandb\"><tr><td>Epoch</td><td>▁▁▁▁▂▂▂▂▂▂▃▃▃▃▃▄▄▄▄▅▅▅▅▅▅▅▆▆▆▆▆▇▇▇▇▇▇███</td></tr><tr><td>Time Elapsed(s)</td><td>█▁▂▂▂▂▂▂▂▂▁▂▁▂▂▂▁▂▂▁▂▁▂▁▂</td></tr><tr><td>Train Accuracy</td><td>▁█▇▇█████████████████████</td></tr><tr><td>Train Loss</td><td>█▁▂▁▁▁▁▁▁▁▁▁▁▁▁▁▁▁▁▁▁▁▁▁▁</td></tr><tr><td>Validation Accuracy</td><td>▁▇▂▃▇████████████████████</td></tr><tr><td>Validation Loss</td><td>█▂▇▆▂▁▁▁▁▁▁▁▁▁▁▁▁▁▁▁▁▁▁▁▁</td></tr></table><br/></div><div class=\"wandb-col\"><h3>Run summary:</h3><br/><table class=\"wandb\"><tr><td>Epoch</td><td>24</td></tr><tr><td>Time Elapsed(s)</td><td>69.17534</td></tr><tr><td>Train Accuracy</td><td>100.0</td></tr><tr><td>Train Loss</td><td>9e-05</td></tr><tr><td>Validation Accuracy</td><td>99.80053</td></tr><tr><td>Validation Loss</td><td>0.00809</td></tr></table><br/></div></div>"
            ]
          },
          "metadata": {}
        },
        {
          "output_type": "display_data",
          "data": {
            "text/plain": [
              "<IPython.core.display.HTML object>"
            ],
            "text/html": [
              "Synced <strong style=\"color:#cdcd00\">easy-sweep-1</strong>: <a href=\"https://wandb.ai/zbooster/Hyperparameter-Sweeps/runs/kw8nxzdx\" target=\"_blank\">https://wandb.ai/zbooster/Hyperparameter-Sweeps/runs/kw8nxzdx</a><br/>Synced 4 W&B file(s), 0 media file(s), 0 artifact file(s) and 0 other file(s)"
            ]
          },
          "metadata": {}
        },
        {
          "output_type": "display_data",
          "data": {
            "text/plain": [
              "<IPython.core.display.HTML object>"
            ],
            "text/html": [
              "Find logs at: <code>./wandb/run-20220808_101926-kw8nxzdx/logs</code>"
            ]
          },
          "metadata": {}
        },
        {
          "output_type": "stream",
          "name": "stderr",
          "text": [
            "\u001b[34m\u001b[1mwandb\u001b[0m: Sweep Agent: Waiting for job.\n",
            "\u001b[34m\u001b[1mwandb\u001b[0m: Sweep Agent: Exiting.\n"
          ]
        }
      ]
    }
  ]
}