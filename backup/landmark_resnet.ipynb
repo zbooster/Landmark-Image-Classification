{
  "nbformat": 4,
  "nbformat_minor": 0,
  "metadata": {
    "colab": {
      "name": "landmark_resnet.ipynb",
      "provenance": [],
      "collapsed_sections": [],
      "mount_file_id": "https://github.com/zbooster/Landmark-Image-Classification/blob/main/landmark_resnet.ipynb",
      "authorship_tag": "ABX9TyNryJOQ1dN3wQ78V64I+Qcf",
      "include_colab_link": true
    },
    "kernelspec": {
      "name": "python3",
      "display_name": "Python 3"
    },
    "language_info": {
      "name": "python"
    },
    "accelerator": "GPU",
    "gpuClass": "standard",
    "widgets": {
      "application/vnd.jupyter.widget-state+json": {
        "4f033db8737f4bb48c588e793c8bca3e": {
          "model_module": "@jupyter-widgets/controls",
          "model_name": "HBoxModel",
          "model_module_version": "1.5.0",
          "state": {
            "_dom_classes": [],
            "_model_module": "@jupyter-widgets/controls",
            "_model_module_version": "1.5.0",
            "_model_name": "HBoxModel",
            "_view_count": null,
            "_view_module": "@jupyter-widgets/controls",
            "_view_module_version": "1.5.0",
            "_view_name": "HBoxView",
            "box_style": "",
            "children": [
              "IPY_MODEL_f17370499d694628b99edf71f6b30612",
              "IPY_MODEL_e89e4943d07a41088819e66aaae8ead1",
              "IPY_MODEL_dc3a69a8bc314cbb8ea8fd38d5267de3"
            ],
            "layout": "IPY_MODEL_a917fe5df5f549689a0b1b80878a448c"
          }
        },
        "f17370499d694628b99edf71f6b30612": {
          "model_module": "@jupyter-widgets/controls",
          "model_name": "HTMLModel",
          "model_module_version": "1.5.0",
          "state": {
            "_dom_classes": [],
            "_model_module": "@jupyter-widgets/controls",
            "_model_module_version": "1.5.0",
            "_model_name": "HTMLModel",
            "_view_count": null,
            "_view_module": "@jupyter-widgets/controls",
            "_view_module_version": "1.5.0",
            "_view_name": "HTMLView",
            "description": "",
            "description_tooltip": null,
            "layout": "IPY_MODEL_cf1186fb9c9740a1b90190f343d77e83",
            "placeholder": "​",
            "style": "IPY_MODEL_d0e370d014354cf387e2b3545e25e290",
            "value": "100%"
          }
        },
        "e89e4943d07a41088819e66aaae8ead1": {
          "model_module": "@jupyter-widgets/controls",
          "model_name": "FloatProgressModel",
          "model_module_version": "1.5.0",
          "state": {
            "_dom_classes": [],
            "_model_module": "@jupyter-widgets/controls",
            "_model_module_version": "1.5.0",
            "_model_name": "FloatProgressModel",
            "_view_count": null,
            "_view_module": "@jupyter-widgets/controls",
            "_view_module_version": "1.5.0",
            "_view_name": "ProgressView",
            "bar_style": "success",
            "description": "",
            "description_tooltip": null,
            "layout": "IPY_MODEL_cb45e23dc2be4848be0d4839965075ef",
            "max": 102540417,
            "min": 0,
            "orientation": "horizontal",
            "style": "IPY_MODEL_bcc703f652e44581b5211a951d98d5ef",
            "value": 102540417
          }
        },
        "dc3a69a8bc314cbb8ea8fd38d5267de3": {
          "model_module": "@jupyter-widgets/controls",
          "model_name": "HTMLModel",
          "model_module_version": "1.5.0",
          "state": {
            "_dom_classes": [],
            "_model_module": "@jupyter-widgets/controls",
            "_model_module_version": "1.5.0",
            "_model_name": "HTMLModel",
            "_view_count": null,
            "_view_module": "@jupyter-widgets/controls",
            "_view_module_version": "1.5.0",
            "_view_name": "HTMLView",
            "description": "",
            "description_tooltip": null,
            "layout": "IPY_MODEL_6c26f0593e0f490f947602f724f099ba",
            "placeholder": "​",
            "style": "IPY_MODEL_d711e2710bf04f63a1d76a8351cfa491",
            "value": " 97.8M/97.8M [00:00&lt;00:00, 232MB/s]"
          }
        },
        "a917fe5df5f549689a0b1b80878a448c": {
          "model_module": "@jupyter-widgets/base",
          "model_name": "LayoutModel",
          "model_module_version": "1.2.0",
          "state": {
            "_model_module": "@jupyter-widgets/base",
            "_model_module_version": "1.2.0",
            "_model_name": "LayoutModel",
            "_view_count": null,
            "_view_module": "@jupyter-widgets/base",
            "_view_module_version": "1.2.0",
            "_view_name": "LayoutView",
            "align_content": null,
            "align_items": null,
            "align_self": null,
            "border": null,
            "bottom": null,
            "display": null,
            "flex": null,
            "flex_flow": null,
            "grid_area": null,
            "grid_auto_columns": null,
            "grid_auto_flow": null,
            "grid_auto_rows": null,
            "grid_column": null,
            "grid_gap": null,
            "grid_row": null,
            "grid_template_areas": null,
            "grid_template_columns": null,
            "grid_template_rows": null,
            "height": null,
            "justify_content": null,
            "justify_items": null,
            "left": null,
            "margin": null,
            "max_height": null,
            "max_width": null,
            "min_height": null,
            "min_width": null,
            "object_fit": null,
            "object_position": null,
            "order": null,
            "overflow": null,
            "overflow_x": null,
            "overflow_y": null,
            "padding": null,
            "right": null,
            "top": null,
            "visibility": null,
            "width": null
          }
        },
        "cf1186fb9c9740a1b90190f343d77e83": {
          "model_module": "@jupyter-widgets/base",
          "model_name": "LayoutModel",
          "model_module_version": "1.2.0",
          "state": {
            "_model_module": "@jupyter-widgets/base",
            "_model_module_version": "1.2.0",
            "_model_name": "LayoutModel",
            "_view_count": null,
            "_view_module": "@jupyter-widgets/base",
            "_view_module_version": "1.2.0",
            "_view_name": "LayoutView",
            "align_content": null,
            "align_items": null,
            "align_self": null,
            "border": null,
            "bottom": null,
            "display": null,
            "flex": null,
            "flex_flow": null,
            "grid_area": null,
            "grid_auto_columns": null,
            "grid_auto_flow": null,
            "grid_auto_rows": null,
            "grid_column": null,
            "grid_gap": null,
            "grid_row": null,
            "grid_template_areas": null,
            "grid_template_columns": null,
            "grid_template_rows": null,
            "height": null,
            "justify_content": null,
            "justify_items": null,
            "left": null,
            "margin": null,
            "max_height": null,
            "max_width": null,
            "min_height": null,
            "min_width": null,
            "object_fit": null,
            "object_position": null,
            "order": null,
            "overflow": null,
            "overflow_x": null,
            "overflow_y": null,
            "padding": null,
            "right": null,
            "top": null,
            "visibility": null,
            "width": null
          }
        },
        "d0e370d014354cf387e2b3545e25e290": {
          "model_module": "@jupyter-widgets/controls",
          "model_name": "DescriptionStyleModel",
          "model_module_version": "1.5.0",
          "state": {
            "_model_module": "@jupyter-widgets/controls",
            "_model_module_version": "1.5.0",
            "_model_name": "DescriptionStyleModel",
            "_view_count": null,
            "_view_module": "@jupyter-widgets/base",
            "_view_module_version": "1.2.0",
            "_view_name": "StyleView",
            "description_width": ""
          }
        },
        "cb45e23dc2be4848be0d4839965075ef": {
          "model_module": "@jupyter-widgets/base",
          "model_name": "LayoutModel",
          "model_module_version": "1.2.0",
          "state": {
            "_model_module": "@jupyter-widgets/base",
            "_model_module_version": "1.2.0",
            "_model_name": "LayoutModel",
            "_view_count": null,
            "_view_module": "@jupyter-widgets/base",
            "_view_module_version": "1.2.0",
            "_view_name": "LayoutView",
            "align_content": null,
            "align_items": null,
            "align_self": null,
            "border": null,
            "bottom": null,
            "display": null,
            "flex": null,
            "flex_flow": null,
            "grid_area": null,
            "grid_auto_columns": null,
            "grid_auto_flow": null,
            "grid_auto_rows": null,
            "grid_column": null,
            "grid_gap": null,
            "grid_row": null,
            "grid_template_areas": null,
            "grid_template_columns": null,
            "grid_template_rows": null,
            "height": null,
            "justify_content": null,
            "justify_items": null,
            "left": null,
            "margin": null,
            "max_height": null,
            "max_width": null,
            "min_height": null,
            "min_width": null,
            "object_fit": null,
            "object_position": null,
            "order": null,
            "overflow": null,
            "overflow_x": null,
            "overflow_y": null,
            "padding": null,
            "right": null,
            "top": null,
            "visibility": null,
            "width": null
          }
        },
        "bcc703f652e44581b5211a951d98d5ef": {
          "model_module": "@jupyter-widgets/controls",
          "model_name": "ProgressStyleModel",
          "model_module_version": "1.5.0",
          "state": {
            "_model_module": "@jupyter-widgets/controls",
            "_model_module_version": "1.5.0",
            "_model_name": "ProgressStyleModel",
            "_view_count": null,
            "_view_module": "@jupyter-widgets/base",
            "_view_module_version": "1.2.0",
            "_view_name": "StyleView",
            "bar_color": null,
            "description_width": ""
          }
        },
        "6c26f0593e0f490f947602f724f099ba": {
          "model_module": "@jupyter-widgets/base",
          "model_name": "LayoutModel",
          "model_module_version": "1.2.0",
          "state": {
            "_model_module": "@jupyter-widgets/base",
            "_model_module_version": "1.2.0",
            "_model_name": "LayoutModel",
            "_view_count": null,
            "_view_module": "@jupyter-widgets/base",
            "_view_module_version": "1.2.0",
            "_view_name": "LayoutView",
            "align_content": null,
            "align_items": null,
            "align_self": null,
            "border": null,
            "bottom": null,
            "display": null,
            "flex": null,
            "flex_flow": null,
            "grid_area": null,
            "grid_auto_columns": null,
            "grid_auto_flow": null,
            "grid_auto_rows": null,
            "grid_column": null,
            "grid_gap": null,
            "grid_row": null,
            "grid_template_areas": null,
            "grid_template_columns": null,
            "grid_template_rows": null,
            "height": null,
            "justify_content": null,
            "justify_items": null,
            "left": null,
            "margin": null,
            "max_height": null,
            "max_width": null,
            "min_height": null,
            "min_width": null,
            "object_fit": null,
            "object_position": null,
            "order": null,
            "overflow": null,
            "overflow_x": null,
            "overflow_y": null,
            "padding": null,
            "right": null,
            "top": null,
            "visibility": null,
            "width": null
          }
        },
        "d711e2710bf04f63a1d76a8351cfa491": {
          "model_module": "@jupyter-widgets/controls",
          "model_name": "DescriptionStyleModel",
          "model_module_version": "1.5.0",
          "state": {
            "_model_module": "@jupyter-widgets/controls",
            "_model_module_version": "1.5.0",
            "_model_name": "DescriptionStyleModel",
            "_view_count": null,
            "_view_module": "@jupyter-widgets/base",
            "_view_module_version": "1.2.0",
            "_view_name": "StyleView",
            "description_width": ""
          }
        }
      }
    }
  },
  "cells": [
    {
      "cell_type": "markdown",
      "metadata": {
        "id": "view-in-github",
        "colab_type": "text"
      },
      "source": [
        "<a href=\"https://colab.research.google.com/github/zbooster/Landmark-Image-Classification/blob/main/landmark_resnet.ipynb\" target=\"_parent\"><img src=\"https://colab.research.google.com/assets/colab-badge.svg\" alt=\"Open In Colab\"/></a>"
      ]
    },
    {
      "cell_type": "markdown",
      "source": [
        "# 데이터 준비\n"
      ],
      "metadata": {
        "id": "JXvxjEDBaosT"
      }
    },
    {
      "cell_type": "markdown",
      "source": [
        "## Google 드라이브에서 Resize된 데이터 가져오기\n",
        "gdown과 unzip을 이용하여 압축을 풀어서 나의 colab 폴더에 둔다"
      ],
      "metadata": {
        "id": "-Cno43UXehHN"
      }
    },
    {
      "cell_type": "code",
      "source": [
        "!gdown 1_yGDePPvjlsTe4qi3X6LqY2DPEB97Itq\n",
        "!unzip -qq '/content/resizeds_0.1x.zip' -d './datasets'"
      ],
      "metadata": {
        "colab": {
          "base_uri": "https://localhost:8080/"
        },
        "id": "7ETt2AP6BuFF",
        "outputId": "0f1192d5-ee6f-48fc-a00d-fa240b7472c8"
      },
      "execution_count": 2,
      "outputs": [
        {
          "output_type": "stream",
          "name": "stdout",
          "text": [
            "Downloading...\n",
            "From: https://drive.google.com/uc?id=1_yGDePPvjlsTe4qi3X6LqY2DPEB97Itq\n",
            "To: /content/resizeds_0.1x.zip\n",
            "100% 837M/837M [00:03<00:00, 211MB/s]\n"
          ]
        }
      ]
    },
    {
      "cell_type": "markdown",
      "source": [
        "# 학습준비"
      ],
      "metadata": {
        "id": "7HWPjTXTdA5u"
      }
    },
    {
      "cell_type": "code",
      "source": [
        "import torch\n",
        "import os\n",
        "\n",
        "USE_CUDA = torch.cuda.is_available()\n",
        "DEVICE = torch.device(\"cuda\" if USE_CUDA else \"cpu\")\n",
        "BATCH_SIZE = 256\n",
        "EPOCH = 30"
      ],
      "metadata": {
        "id": "0kOee1DSc5Pf"
      },
      "execution_count": 3,
      "outputs": []
    },
    {
      "cell_type": "code",
      "source": [
        "import torchvision.transforms as transforms\n",
        "\n",
        "data_transforms = {\n",
        "    'Training': transforms.Compose([transforms.Resize([64, 64]),\n",
        "        transforms.RandomHorizontalFlip(), transforms.RandomVerticalFlip(), \n",
        "        transforms.RandomCrop(52), transforms.ToTensor(),\n",
        "        transforms.Normalize([0.485, 0.456, 0.406], [0.229, 0.224, 0.225]) ]),\n",
        "    'Validation':  transforms.Compose([transforms.Resize([64, 64]),\n",
        "        transforms.RandomCrop(52), transforms.ToTensor(),\n",
        "        transforms.Normalize([0.485, 0.456, 0.406], [0.229, 0.224, 0.225]) ])\n",
        "}"
      ],
      "metadata": {
        "id": "SzKQLC73R5K3"
      },
      "execution_count": 4,
      "outputs": []
    },
    {
      "cell_type": "markdown",
      "source": [
        "- 데이터 분류가 전처리(Resize) 과정에서 완료되었으므로 압축해제한 폴더를 그대로 사용한다."
      ],
      "metadata": {
        "id": "uuu4HCiQade1"
      }
    },
    {
      "cell_type": "code",
      "source": [
        "from torchvision.datasets import ImageFolder\n",
        "from torch.utils.data import DataLoader\n",
        "\n",
        "data_dir = '/content/datasets/resizeds'\n",
        "image_datasets = {x: ImageFolder(root=os.path.join(data_dir, x),\n",
        "                                 transform=data_transforms[x]) for x in data_transforms.keys()}\n",
        "dataloaders = {x: DataLoader(image_datasets[x],\n",
        "                             batch_size=BATCH_SIZE,\n",
        "                             shuffle=True,\n",
        "                             num_workers=2) for x in data_transforms.keys()}     \n",
        "dataset_sizes = {x: len(image_datasets[x]) for x in data_transforms.keys()}      \n",
        "class_name = image_datasets['Training'].classes"
      ],
      "metadata": {
        "id": "Uj7mkLjOR5-O"
      },
      "execution_count": 5,
      "outputs": []
    },
    {
      "cell_type": "markdown",
      "source": [
        "- pretrained 옵션이 deprecated되어 가이드에 나와있는 다른 방법으로 weights를 설정\n",
        "[참조1](https://pytorch.org/vision/stable/models.html)"
      ],
      "metadata": {
        "id": "Dc5OSGtDbDq1"
      }
    },
    {
      "cell_type": "code",
      "source": [
        "from torchvision.models import resnet50, ResNet50_Weights\n",
        "import torch.nn as nn\n",
        "import torch.optim as optim\n",
        "\n",
        "# resnet = models.resnet50(pretrained=True) # deprecated\n",
        "# New weights with accuracy 80.858%\n",
        "resnet = resnet50(weights=ResNet50_Weights.IMAGENET1K_V2) \n",
        "num_ftrs = resnet.fc.in_features\n",
        "resnet.fc = nn.Linear(num_ftrs, 84)\n",
        "resnet = resnet.to(DEVICE)\n",
        "\n",
        "critetion = nn.CrossEntropyLoss()\n",
        "optimizer_ft = optim.Adam(filter(lambda p: p.requires_grad, resnet.parameters()), lr=0.001)\n",
        "\n",
        "from torch.optim import lr_scheduler\n",
        "exp_lr_scheduler = lr_scheduler.StepLR(optimizer_ft, step_size=7, gamma=0.1)"
      ],
      "metadata": {
        "colab": {
          "base_uri": "https://localhost:8080/",
          "height": 87,
          "referenced_widgets": [
            "4f033db8737f4bb48c588e793c8bca3e",
            "f17370499d694628b99edf71f6b30612",
            "e89e4943d07a41088819e66aaae8ead1",
            "dc3a69a8bc314cbb8ea8fd38d5267de3",
            "a917fe5df5f549689a0b1b80878a448c",
            "cf1186fb9c9740a1b90190f343d77e83",
            "d0e370d014354cf387e2b3545e25e290",
            "cb45e23dc2be4848be0d4839965075ef",
            "bcc703f652e44581b5211a951d98d5ef",
            "6c26f0593e0f490f947602f724f099ba",
            "d711e2710bf04f63a1d76a8351cfa491"
          ]
        },
        "id": "l5Wxv9kqR8mk",
        "outputId": "9e88f921-2b45-41a1-f90d-d4fd5e6072d2"
      },
      "execution_count": 6,
      "outputs": [
        {
          "output_type": "stream",
          "name": "stderr",
          "text": [
            "Downloading: \"https://download.pytorch.org/models/resnet50-11ad3fa6.pth\" to /root/.cache/torch/hub/checkpoints/resnet50-11ad3fa6.pth\n"
          ]
        },
        {
          "output_type": "display_data",
          "data": {
            "text/plain": [
              "  0%|          | 0.00/97.8M [00:00<?, ?B/s]"
            ],
            "application/vnd.jupyter.widget-view+json": {
              "version_major": 2,
              "version_minor": 0,
              "model_id": "4f033db8737f4bb48c588e793c8bca3e"
            }
          },
          "metadata": {}
        }
      ]
    },
    {
      "cell_type": "code",
      "source": [
        "for idx, child in enumerate(resnet.children()):\n",
        "  if idx < 6:\n",
        "    for param in child.parameters():\n",
        "      param.requires_grad = False"
      ],
      "metadata": {
        "id": "QqY-v9DpR_mF"
      },
      "execution_count": 7,
      "outputs": []
    },
    {
      "cell_type": "code",
      "source": [
        "import time\n",
        "import copy\n",
        "\n",
        "def train_resnet(model, criterion, optimizer, scheduler, num_epochs=25):\n",
        "\n",
        "  best_model_wts = copy.deepcopy(model.state_dict())\n",
        "  best_acc = 0.0\n",
        "  \n",
        "\n",
        "  for epoch in range(1, num_epochs + 1):\n",
        "    since = time.time()\n",
        "    for phase in data_transforms.keys():\n",
        "      if phase == 'Training':\n",
        "        model.train()\n",
        "      else:\n",
        "        model.eval()\n",
        "\n",
        "      running_loss = 0.0\n",
        "      running_corrects = 0\n",
        "\n",
        "      for inputs, labels in dataloaders[phase]:\n",
        "        inputs = inputs.to(DEVICE)\n",
        "        labels = labels.to(DEVICE)\n",
        "\n",
        "        optimizer.zero_grad()\n",
        "\n",
        "        with torch.set_grad_enabled(phase == 'Training'):\n",
        "          outputs = model(inputs)\n",
        "          _, preds = torch.max(outputs, 1)\n",
        "          loss = criterion(outputs, labels)\n",
        "\n",
        "          if phase == 'Training':\n",
        "            loss.backward()\n",
        "            optimizer.step()\n",
        "\n",
        "        running_loss += loss.item() * inputs.size(0)\n",
        "        running_corrects += torch.sum(preds == labels.data)\n",
        "\n",
        "      if phase == 'Training':\n",
        "        scheduler.step()\n",
        "\n",
        "      epoch_loss = running_loss/dataset_sizes[phase]\n",
        "      epoch_acc = running_corrects.double()/dataset_sizes[phase]\n",
        "\n",
        "      print('{} Loss: {:.4f}, Acc: {:.4f}'.format(phase, epoch_loss, epoch_acc))\n",
        "\n",
        "      if phase == 'Validation' and epoch_acc > best_acc:\n",
        "        best_acc = epoch_acc\n",
        "        best_model_wts = copy.deepcopy(model.state_dict())\n",
        "\n",
        "    time_elapsed = time.time() - since\n",
        "    print('Completed in {:.0f}m {:.0f}s'.format(time_elapsed // 60, time_elapsed % 60))\n",
        "  print('Best Validation Acc: {:4f}'.format(best_acc))\n",
        "\n",
        "  model.load_state_dict(best_model_wts)\n",
        "\n",
        "  return model"
      ],
      "metadata": {
        "id": "a_g8U9N5SBoM"
      },
      "execution_count": 8,
      "outputs": []
    },
    {
      "cell_type": "markdown",
      "source": [
        "# 학습하기"
      ],
      "metadata": {
        "id": "alQvpBffaWPF"
      }
    },
    {
      "cell_type": "code",
      "source": [
        "model_resnet50 = train_resnet(resnet, critetion, optimizer_ft,\n",
        "                              exp_lr_scheduler, num_epochs=EPOCH)\n",
        "\n",
        "torch.save(model_resnet50, 'resnet50.pt')"
      ],
      "metadata": {
        "colab": {
          "base_uri": "https://localhost:8080/"
        },
        "id": "I2dNPzKNSDWE",
        "outputId": "a06b9ec3-fc26-4305-eff9-1ce9f9c78fcd"
      },
      "execution_count": 9,
      "outputs": [
        {
          "output_type": "stream",
          "name": "stdout",
          "text": [
            "Training Loss: 1.4826, Acc: 0.6617\n",
            "Validation Loss: 0.4647, Acc: 0.8723\n",
            "Completed in 0m 46s\n",
            "Training Loss: 0.1299, Acc: 0.9626\n",
            "Validation Loss: 0.3863, Acc: 0.9036\n",
            "Completed in 0m 40s\n",
            "Training Loss: 0.0706, Acc: 0.9788\n",
            "Validation Loss: 0.2897, Acc: 0.9235\n",
            "Completed in 0m 41s\n",
            "Training Loss: 0.0468, Acc: 0.9861\n",
            "Validation Loss: 0.2476, Acc: 0.9302\n",
            "Completed in 0m 40s\n",
            "Training Loss: 0.0443, Acc: 0.9877\n",
            "Validation Loss: 0.1662, Acc: 0.9548\n",
            "Completed in 0m 39s\n",
            "Training Loss: 0.0344, Acc: 0.9892\n",
            "Validation Loss: 0.1861, Acc: 0.9501\n",
            "Completed in 0m 40s\n",
            "Training Loss: 0.0280, Acc: 0.9912\n",
            "Validation Loss: 0.1826, Acc: 0.9448\n",
            "Completed in 0m 41s\n",
            "Training Loss: 0.0166, Acc: 0.9941\n",
            "Validation Loss: 0.1141, Acc: 0.9654\n",
            "Completed in 0m 40s\n",
            "Training Loss: 0.0074, Acc: 0.9982\n",
            "Validation Loss: 0.1325, Acc: 0.9641\n",
            "Completed in 0m 40s\n",
            "Training Loss: 0.0071, Acc: 0.9980\n",
            "Validation Loss: 0.1258, Acc: 0.9634\n",
            "Completed in 0m 41s\n",
            "Training Loss: 0.0085, Acc: 0.9973\n",
            "Validation Loss: 0.1137, Acc: 0.9614\n",
            "Completed in 0m 40s\n",
            "Training Loss: 0.0050, Acc: 0.9985\n",
            "Validation Loss: 0.1178, Acc: 0.9648\n",
            "Completed in 0m 40s\n",
            "Training Loss: 0.0038, Acc: 0.9992\n",
            "Validation Loss: 0.1195, Acc: 0.9654\n",
            "Completed in 0m 41s\n",
            "Training Loss: 0.0035, Acc: 0.9990\n",
            "Validation Loss: 0.1202, Acc: 0.9661\n",
            "Completed in 0m 40s\n",
            "Training Loss: 0.0026, Acc: 0.9994\n",
            "Validation Loss: 0.1199, Acc: 0.9668\n",
            "Completed in 0m 40s\n",
            "Training Loss: 0.0034, Acc: 0.9990\n",
            "Validation Loss: 0.1221, Acc: 0.9694\n",
            "Completed in 0m 41s\n",
            "Training Loss: 0.0032, Acc: 0.9994\n",
            "Validation Loss: 0.1237, Acc: 0.9668\n",
            "Completed in 0m 40s\n",
            "Training Loss: 0.0032, Acc: 0.9990\n",
            "Validation Loss: 0.1214, Acc: 0.9668\n",
            "Completed in 0m 40s\n",
            "Training Loss: 0.0038, Acc: 0.9985\n",
            "Validation Loss: 0.1113, Acc: 0.9674\n",
            "Completed in 0m 40s\n",
            "Training Loss: 0.0030, Acc: 0.9991\n",
            "Validation Loss: 0.1124, Acc: 0.9661\n",
            "Completed in 0m 41s\n",
            "Training Loss: 0.0034, Acc: 0.9990\n",
            "Validation Loss: 0.1282, Acc: 0.9661\n",
            "Completed in 0m 39s\n",
            "Training Loss: 0.0026, Acc: 0.9994\n",
            "Validation Loss: 0.1175, Acc: 0.9701\n",
            "Completed in 0m 40s\n",
            "Training Loss: 0.0032, Acc: 0.9992\n",
            "Validation Loss: 0.1200, Acc: 0.9661\n",
            "Completed in 0m 41s\n",
            "Training Loss: 0.0025, Acc: 0.9995\n",
            "Validation Loss: 0.1151, Acc: 0.9661\n",
            "Completed in 0m 40s\n",
            "Training Loss: 0.0026, Acc: 0.9993\n",
            "Validation Loss: 0.1203, Acc: 0.9674\n",
            "Completed in 0m 39s\n",
            "Training Loss: 0.0042, Acc: 0.9985\n",
            "Validation Loss: 0.1121, Acc: 0.9694\n",
            "Completed in 0m 41s\n",
            "Training Loss: 0.0031, Acc: 0.9990\n",
            "Validation Loss: 0.1127, Acc: 0.9707\n",
            "Completed in 0m 40s\n",
            "Training Loss: 0.0023, Acc: 0.9995\n",
            "Validation Loss: 0.1220, Acc: 0.9674\n",
            "Completed in 0m 40s\n",
            "Training Loss: 0.0032, Acc: 0.9990\n",
            "Validation Loss: 0.1272, Acc: 0.9614\n",
            "Completed in 0m 40s\n",
            "Training Loss: 0.0026, Acc: 0.9994\n",
            "Validation Loss: 0.1258, Acc: 0.9674\n",
            "Completed in 0m 41s\n",
            "Best Validation Acc: 0.970745\n"
          ]
        }
      ]
    },
    {
      "cell_type": "code",
      "source": [
        "!cp '/content/resnet50.pt' '/content/drive/MyDrive/DeepLearning_Datas/resnet50_2022_08_02_17_40_00.pt'"
      ],
      "metadata": {
        "id": "DPdtn2j_SEsU"
      },
      "execution_count": 10,
      "outputs": []
    }
  ]
}