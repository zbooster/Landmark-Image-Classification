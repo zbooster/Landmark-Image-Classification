{
  "nbformat": 4,
  "nbformat_minor": 0,
  "metadata": {
    "colab": {
      "name": "resnet50_transfer_learning.ipynb",
      "provenance": [],
      "collapsed_sections": [],
      "toc_visible": true,
      "mount_file_id": "https://github.com/zbooster/Landmark-Image-Classification/blob/main/landmark_resnet.ipynb",
      "authorship_tag": "ABX9TyMC5Q7kcq+3Pb4ofksXxjRR",
      "include_colab_link": true
    },
    "kernelspec": {
      "name": "python3",
      "display_name": "Python 3"
    },
    "language_info": {
      "name": "python"
    },
    "gpuClass": "standard",
    "widgets": {
      "application/vnd.jupyter.widget-state+json": {
        "cae15db30fb14614a69abfe0e3d77231": {
          "model_module": "@jupyter-widgets/controls",
          "model_name": "HBoxModel",
          "model_module_version": "1.5.0",
          "state": {
            "_dom_classes": [],
            "_model_module": "@jupyter-widgets/controls",
            "_model_module_version": "1.5.0",
            "_model_name": "HBoxModel",
            "_view_count": null,
            "_view_module": "@jupyter-widgets/controls",
            "_view_module_version": "1.5.0",
            "_view_name": "HBoxView",
            "box_style": "",
            "children": [
              "IPY_MODEL_da58dd23df48479e93bab74b22678f5f",
              "IPY_MODEL_515e47b86e844c33b16006b6a508861e",
              "IPY_MODEL_e07a87d7f1714faa8647cf2849717e45"
            ],
            "layout": "IPY_MODEL_ef65912a3308412ba985742d342a2148"
          }
        },
        "da58dd23df48479e93bab74b22678f5f": {
          "model_module": "@jupyter-widgets/controls",
          "model_name": "HTMLModel",
          "model_module_version": "1.5.0",
          "state": {
            "_dom_classes": [],
            "_model_module": "@jupyter-widgets/controls",
            "_model_module_version": "1.5.0",
            "_model_name": "HTMLModel",
            "_view_count": null,
            "_view_module": "@jupyter-widgets/controls",
            "_view_module_version": "1.5.0",
            "_view_name": "HTMLView",
            "description": "",
            "description_tooltip": null,
            "layout": "IPY_MODEL_8fe441adeb4a4b57957466619f10c38c",
            "placeholder": "​",
            "style": "IPY_MODEL_02481fce74a64b48960353afb815de29",
            "value": "100%"
          }
        },
        "515e47b86e844c33b16006b6a508861e": {
          "model_module": "@jupyter-widgets/controls",
          "model_name": "FloatProgressModel",
          "model_module_version": "1.5.0",
          "state": {
            "_dom_classes": [],
            "_model_module": "@jupyter-widgets/controls",
            "_model_module_version": "1.5.0",
            "_model_name": "FloatProgressModel",
            "_view_count": null,
            "_view_module": "@jupyter-widgets/controls",
            "_view_module_version": "1.5.0",
            "_view_name": "ProgressView",
            "bar_style": "success",
            "description": "",
            "description_tooltip": null,
            "layout": "IPY_MODEL_abaa8012e41b4d53afab8bec0ad0dc8a",
            "max": 102540417,
            "min": 0,
            "orientation": "horizontal",
            "style": "IPY_MODEL_4758cb87ec724f8996a4210f6dd55f04",
            "value": 102540417
          }
        },
        "e07a87d7f1714faa8647cf2849717e45": {
          "model_module": "@jupyter-widgets/controls",
          "model_name": "HTMLModel",
          "model_module_version": "1.5.0",
          "state": {
            "_dom_classes": [],
            "_model_module": "@jupyter-widgets/controls",
            "_model_module_version": "1.5.0",
            "_model_name": "HTMLModel",
            "_view_count": null,
            "_view_module": "@jupyter-widgets/controls",
            "_view_module_version": "1.5.0",
            "_view_name": "HTMLView",
            "description": "",
            "description_tooltip": null,
            "layout": "IPY_MODEL_15568891309a4417b53ffda21d60ecef",
            "placeholder": "​",
            "style": "IPY_MODEL_b3e6378052c7401cabcb8036319a5456",
            "value": " 97.8M/97.8M [00:01&lt;00:00, 89.6MB/s]"
          }
        },
        "ef65912a3308412ba985742d342a2148": {
          "model_module": "@jupyter-widgets/base",
          "model_name": "LayoutModel",
          "model_module_version": "1.2.0",
          "state": {
            "_model_module": "@jupyter-widgets/base",
            "_model_module_version": "1.2.0",
            "_model_name": "LayoutModel",
            "_view_count": null,
            "_view_module": "@jupyter-widgets/base",
            "_view_module_version": "1.2.0",
            "_view_name": "LayoutView",
            "align_content": null,
            "align_items": null,
            "align_self": null,
            "border": null,
            "bottom": null,
            "display": null,
            "flex": null,
            "flex_flow": null,
            "grid_area": null,
            "grid_auto_columns": null,
            "grid_auto_flow": null,
            "grid_auto_rows": null,
            "grid_column": null,
            "grid_gap": null,
            "grid_row": null,
            "grid_template_areas": null,
            "grid_template_columns": null,
            "grid_template_rows": null,
            "height": null,
            "justify_content": null,
            "justify_items": null,
            "left": null,
            "margin": null,
            "max_height": null,
            "max_width": null,
            "min_height": null,
            "min_width": null,
            "object_fit": null,
            "object_position": null,
            "order": null,
            "overflow": null,
            "overflow_x": null,
            "overflow_y": null,
            "padding": null,
            "right": null,
            "top": null,
            "visibility": null,
            "width": null
          }
        },
        "8fe441adeb4a4b57957466619f10c38c": {
          "model_module": "@jupyter-widgets/base",
          "model_name": "LayoutModel",
          "model_module_version": "1.2.0",
          "state": {
            "_model_module": "@jupyter-widgets/base",
            "_model_module_version": "1.2.0",
            "_model_name": "LayoutModel",
            "_view_count": null,
            "_view_module": "@jupyter-widgets/base",
            "_view_module_version": "1.2.0",
            "_view_name": "LayoutView",
            "align_content": null,
            "align_items": null,
            "align_self": null,
            "border": null,
            "bottom": null,
            "display": null,
            "flex": null,
            "flex_flow": null,
            "grid_area": null,
            "grid_auto_columns": null,
            "grid_auto_flow": null,
            "grid_auto_rows": null,
            "grid_column": null,
            "grid_gap": null,
            "grid_row": null,
            "grid_template_areas": null,
            "grid_template_columns": null,
            "grid_template_rows": null,
            "height": null,
            "justify_content": null,
            "justify_items": null,
            "left": null,
            "margin": null,
            "max_height": null,
            "max_width": null,
            "min_height": null,
            "min_width": null,
            "object_fit": null,
            "object_position": null,
            "order": null,
            "overflow": null,
            "overflow_x": null,
            "overflow_y": null,
            "padding": null,
            "right": null,
            "top": null,
            "visibility": null,
            "width": null
          }
        },
        "02481fce74a64b48960353afb815de29": {
          "model_module": "@jupyter-widgets/controls",
          "model_name": "DescriptionStyleModel",
          "model_module_version": "1.5.0",
          "state": {
            "_model_module": "@jupyter-widgets/controls",
            "_model_module_version": "1.5.0",
            "_model_name": "DescriptionStyleModel",
            "_view_count": null,
            "_view_module": "@jupyter-widgets/base",
            "_view_module_version": "1.2.0",
            "_view_name": "StyleView",
            "description_width": ""
          }
        },
        "abaa8012e41b4d53afab8bec0ad0dc8a": {
          "model_module": "@jupyter-widgets/base",
          "model_name": "LayoutModel",
          "model_module_version": "1.2.0",
          "state": {
            "_model_module": "@jupyter-widgets/base",
            "_model_module_version": "1.2.0",
            "_model_name": "LayoutModel",
            "_view_count": null,
            "_view_module": "@jupyter-widgets/base",
            "_view_module_version": "1.2.0",
            "_view_name": "LayoutView",
            "align_content": null,
            "align_items": null,
            "align_self": null,
            "border": null,
            "bottom": null,
            "display": null,
            "flex": null,
            "flex_flow": null,
            "grid_area": null,
            "grid_auto_columns": null,
            "grid_auto_flow": null,
            "grid_auto_rows": null,
            "grid_column": null,
            "grid_gap": null,
            "grid_row": null,
            "grid_template_areas": null,
            "grid_template_columns": null,
            "grid_template_rows": null,
            "height": null,
            "justify_content": null,
            "justify_items": null,
            "left": null,
            "margin": null,
            "max_height": null,
            "max_width": null,
            "min_height": null,
            "min_width": null,
            "object_fit": null,
            "object_position": null,
            "order": null,
            "overflow": null,
            "overflow_x": null,
            "overflow_y": null,
            "padding": null,
            "right": null,
            "top": null,
            "visibility": null,
            "width": null
          }
        },
        "4758cb87ec724f8996a4210f6dd55f04": {
          "model_module": "@jupyter-widgets/controls",
          "model_name": "ProgressStyleModel",
          "model_module_version": "1.5.0",
          "state": {
            "_model_module": "@jupyter-widgets/controls",
            "_model_module_version": "1.5.0",
            "_model_name": "ProgressStyleModel",
            "_view_count": null,
            "_view_module": "@jupyter-widgets/base",
            "_view_module_version": "1.2.0",
            "_view_name": "StyleView",
            "bar_color": null,
            "description_width": ""
          }
        },
        "15568891309a4417b53ffda21d60ecef": {
          "model_module": "@jupyter-widgets/base",
          "model_name": "LayoutModel",
          "model_module_version": "1.2.0",
          "state": {
            "_model_module": "@jupyter-widgets/base",
            "_model_module_version": "1.2.0",
            "_model_name": "LayoutModel",
            "_view_count": null,
            "_view_module": "@jupyter-widgets/base",
            "_view_module_version": "1.2.0",
            "_view_name": "LayoutView",
            "align_content": null,
            "align_items": null,
            "align_self": null,
            "border": null,
            "bottom": null,
            "display": null,
            "flex": null,
            "flex_flow": null,
            "grid_area": null,
            "grid_auto_columns": null,
            "grid_auto_flow": null,
            "grid_auto_rows": null,
            "grid_column": null,
            "grid_gap": null,
            "grid_row": null,
            "grid_template_areas": null,
            "grid_template_columns": null,
            "grid_template_rows": null,
            "height": null,
            "justify_content": null,
            "justify_items": null,
            "left": null,
            "margin": null,
            "max_height": null,
            "max_width": null,
            "min_height": null,
            "min_width": null,
            "object_fit": null,
            "object_position": null,
            "order": null,
            "overflow": null,
            "overflow_x": null,
            "overflow_y": null,
            "padding": null,
            "right": null,
            "top": null,
            "visibility": null,
            "width": null
          }
        },
        "b3e6378052c7401cabcb8036319a5456": {
          "model_module": "@jupyter-widgets/controls",
          "model_name": "DescriptionStyleModel",
          "model_module_version": "1.5.0",
          "state": {
            "_model_module": "@jupyter-widgets/controls",
            "_model_module_version": "1.5.0",
            "_model_name": "DescriptionStyleModel",
            "_view_count": null,
            "_view_module": "@jupyter-widgets/base",
            "_view_module_version": "1.2.0",
            "_view_name": "StyleView",
            "description_width": ""
          }
        }
      }
    },
    "accelerator": "GPU"
  },
  "cells": [
    {
      "cell_type": "markdown",
      "metadata": {
        "id": "view-in-github",
        "colab_type": "text"
      },
      "source": [
        "<a href=\"https://colab.research.google.com/github/zbooster/Landmark-Image-Classification/blob/main/resnet50_transfer_learning.ipynb\" target=\"_parent\"><img src=\"https://colab.research.google.com/assets/colab-badge.svg\" alt=\"Open In Colab\"/></a>"
      ]
    },
    {
      "cell_type": "markdown",
      "source": [
        "# 1.데이터 준비하기\n",
        "preprocessing.ipynb 에서 Resize한 데이터를 Google Drive에 업로드 하였으며,\n",
        "이 과정에서는 Colab에 연결하여 Download하고 압축을 해제하는 작업을 수행한다."
      ],
      "metadata": {
        "id": "7tf5Yhx1dzme"
      }
    },
    {
      "cell_type": "code",
      "source": [
        "!gdown 1_yGDePPvjlsTe4qi3X6LqY2DPEB97Itq\n",
        "!unzip -o -qq '/content/resizeds_0.1x.zip' -d './datasets'"
      ],
      "metadata": {
        "id": "JMemGRG3kyfW"
      },
      "execution_count": 6,
      "outputs": []
    },
    {
      "cell_type": "markdown",
      "source": [
        "# 2.Weights & Biases 설정\n",
        "하이퍼파라미터 튜닝을 위해 Weights & Biases에 로그인하여 데이터를 쌓고 Sweeps를 활용."
      ],
      "metadata": {
        "id": "aEsEzXlApXNc"
      }
    },
    {
      "cell_type": "markdown",
      "source": [
        "#### Package install"
      ],
      "metadata": {
        "id": "ICmbc1QpgMWn"
      }
    },
    {
      "cell_type": "code",
      "source": [
        "!pip install wandb -Uq"
      ],
      "metadata": {
        "colab": {
          "base_uri": "https://localhost:8080/"
        },
        "id": "CeEie50Zf6us",
        "outputId": "9cdf839d-a982-46c2-a627-ad8432921270"
      },
      "execution_count": 1,
      "outputs": [
        {
          "output_type": "stream",
          "name": "stdout",
          "text": [
            "\u001b[K     |████████████████████████████████| 1.8 MB 18.0 MB/s \n",
            "\u001b[K     |████████████████████████████████| 181 kB 64.6 MB/s \n",
            "\u001b[K     |████████████████████████████████| 157 kB 51.3 MB/s \n",
            "\u001b[K     |████████████████████████████████| 63 kB 958 kB/s \n",
            "\u001b[K     |████████████████████████████████| 157 kB 58.2 MB/s \n",
            "\u001b[K     |████████████████████████████████| 157 kB 56.5 MB/s \n",
            "\u001b[K     |████████████████████████████████| 156 kB 55.4 MB/s \n",
            "\u001b[?25h  Building wheel for pathtools (setup.py) ... \u001b[?25l\u001b[?25hdone\n"
          ]
        }
      ]
    },
    {
      "cell_type": "markdown",
      "source": [
        "#### Login"
      ],
      "metadata": {
        "id": "mxd-v2YPgDXX"
      }
    },
    {
      "cell_type": "code",
      "source": [
        "import wandb\n",
        "\n",
        "wandb.login()"
      ],
      "metadata": {
        "colab": {
          "base_uri": "https://localhost:8080/",
          "height": 138
        },
        "id": "ZJ7mnKdEga3c",
        "outputId": "163d1849-f61e-4780-adc7-823f6ca6696d"
      },
      "execution_count": 2,
      "outputs": [
        {
          "output_type": "display_data",
          "data": {
            "text/plain": [
              "<IPython.core.display.Javascript object>"
            ],
            "application/javascript": [
              "\n",
              "        window._wandbApiKey = new Promise((resolve, reject) => {\n",
              "            function loadScript(url) {\n",
              "            return new Promise(function(resolve, reject) {\n",
              "                let newScript = document.createElement(\"script\");\n",
              "                newScript.onerror = reject;\n",
              "                newScript.onload = resolve;\n",
              "                document.body.appendChild(newScript);\n",
              "                newScript.src = url;\n",
              "            });\n",
              "            }\n",
              "            loadScript(\"https://cdn.jsdelivr.net/npm/postmate/build/postmate.min.js\").then(() => {\n",
              "            const iframe = document.createElement('iframe')\n",
              "            iframe.style.cssText = \"width:0;height:0;border:none\"\n",
              "            document.body.appendChild(iframe)\n",
              "            const handshake = new Postmate({\n",
              "                container: iframe,\n",
              "                url: 'https://wandb.ai/authorize'\n",
              "            });\n",
              "            const timeout = setTimeout(() => reject(\"Couldn't auto authenticate\"), 5000)\n",
              "            handshake.then(function(child) {\n",
              "                child.on('authorize', data => {\n",
              "                    clearTimeout(timeout)\n",
              "                    resolve(data)\n",
              "                });\n",
              "            });\n",
              "            })\n",
              "        });\n",
              "    "
            ]
          },
          "metadata": {}
        },
        {
          "output_type": "stream",
          "name": "stderr",
          "text": [
            "\u001b[34m\u001b[1mwandb\u001b[0m: Logging into wandb.ai. (Learn how to deploy a W&B server locally: https://wandb.me/wandb-server)\n",
            "\u001b[34m\u001b[1mwandb\u001b[0m: You can find your API key in your browser here: https://wandb.ai/authorize\n",
            "wandb: Paste an API key from your profile and hit enter, or press ctrl+c to quit: "
          ]
        },
        {
          "name": "stdout",
          "output_type": "stream",
          "text": [
            "··········\n"
          ]
        },
        {
          "output_type": "stream",
          "name": "stderr",
          "text": [
            "\u001b[34m\u001b[1mwandb\u001b[0m: Appending key for api.wandb.ai to your netrc file: /root/.netrc\n"
          ]
        },
        {
          "output_type": "execute_result",
          "data": {
            "text/plain": [
              "True"
            ]
          },
          "metadata": {},
          "execution_count": 2
        }
      ]
    },
    {
      "cell_type": "markdown",
      "source": [
        "#### Sweep config"
      ],
      "metadata": {
        "id": "cASFAVX8m8fB"
      }
    },
    {
      "cell_type": "markdown",
      "source": [
        "method: 모든 파라미터를 다 테스트하기 위해 grid를 선택했다."
      ],
      "metadata": {
        "id": "22kRN4dEnwLs"
      }
    },
    {
      "cell_type": "code",
      "source": [
        "sweep_config = {\n",
        "    'method': 'grid'\n",
        "}"
      ],
      "metadata": {
        "id": "mQO5UrNem14X"
      },
      "execution_count": 7,
      "outputs": []
    },
    {
      "cell_type": "markdown",
      "source": [
        "metric: 검증(Validation) 데이터셋의 정확도(Accuracy)를 최대(maximize)로 올리는 것으로 선택했다."
      ],
      "metadata": {
        "id": "hHPa1e9efcDU"
      }
    },
    {
      "cell_type": "code",
      "source": [
        "metric = {\n",
        "    'name': 'Validation Accuracy',\n",
        "    'goal': 'maximize'   \n",
        "    }\n",
        "\n",
        "sweep_config['metric'] = metric"
      ],
      "metadata": {
        "id": "_97RcDDHnAFV"
      },
      "execution_count": 8,
      "outputs": []
    },
    {
      "cell_type": "markdown",
      "source": [
        "parameters_dict: 파라미터 변화에 따른 정확도를 살펴보기 위해 최대한 많이 설정했다.\n",
        "- batch_size\n",
        "- resize_pixel\n",
        "- learning_rate\n",
        "- step_size\n",
        "- crop_scale : transform 과정에서 RandomCrop함수의 픽셀값을 Resize값의 몇 x배로 설정\n",
        "- grad_false_idx : 기존에 이미지넷에서 학습한 값을 얼마나 재 활용할 것인지\n"
      ],
      "metadata": {
        "id": "ekDkfcuYgS1N"
      }
    },
    {
      "cell_type": "code",
      "source": [
        "parameters_dict = {\n",
        "    'batch_size': {\n",
        "        'values': [64, 128, 256] },\n",
        "    'resize_pixel': {\n",
        "        'values': [64, 128, 256] },\n",
        "    'crop_scale': {\n",
        "        'values': [0.6, 0.7, 0.8, 0.9] },\n",
        "    'learning_rate': {\n",
        "        'values': [0.01, 0.001, 0.0001]},\n",
        "    'grad_false_idx': {\n",
        "        'values': [5, 6, 7] },\n",
        "    'step_size': {\n",
        "        'values': [5, 6, 7] },\n",
        "    'gamma': {\n",
        "        'value': 0.1},\n",
        "    'epochs': {\n",
        "        'value': 25},\n",
        "    'class_size': {\n",
        "        'value': 84},\n",
        "    }\n",
        "\n",
        "sweep_config['parameters'] = parameters_dict"
      ],
      "metadata": {
        "id": "rM5AThmLn8LA"
      },
      "execution_count": 9,
      "outputs": []
    },
    {
      "cell_type": "code",
      "source": [
        "import pprint\n",
        "\n",
        "pprint.pprint(sweep_config)"
      ],
      "metadata": {
        "colab": {
          "base_uri": "https://localhost:8080/"
        },
        "id": "J6IQd9SHoSMo",
        "outputId": "0543e3c8-e2a0-4d83-dc20-36b262a13021"
      },
      "execution_count": 10,
      "outputs": [
        {
          "output_type": "stream",
          "name": "stdout",
          "text": [
            "{'method': 'grid',\n",
            " 'metric': {'goal': 'maximize', 'name': 'Validation Accuracy'},\n",
            " 'parameters': {'batch_size': {'values': [64, 128, 256]},\n",
            "                'class_size': {'value': 84},\n",
            "                'crop_scale': {'values': [0.6, 0.7, 0.8, 0.9]},\n",
            "                'epochs': {'value': 25},\n",
            "                'gamma': {'value': 0.1},\n",
            "                'grad_false_idx': {'values': [5, 6, 7]},\n",
            "                'learning_rate': {'values': [0.01, 0.001, 0.0001]},\n",
            "                'resize_pixel': {'values': [64, 128, 256]},\n",
            "                'step_size': {'values': [5, 6, 7]}}}\n"
          ]
        }
      ]
    },
    {
      "cell_type": "markdown",
      "source": [
        "#### Initialize the Sweep"
      ],
      "metadata": {
        "id": "5u3ITHDDofFK"
      }
    },
    {
      "cell_type": "code",
      "source": [
        "sweep_id = wandb.sweep(sweep_config, project=\"Resnet50_Transfer_Learning\")"
      ],
      "metadata": {
        "colab": {
          "base_uri": "https://localhost:8080/"
        },
        "id": "0QCzQK9oogqq",
        "outputId": "f4e5efab-1f72-4eea-f2c9-d399416d4adb"
      },
      "execution_count": 11,
      "outputs": [
        {
          "output_type": "stream",
          "name": "stdout",
          "text": [
            "Create sweep with ID: x8qjqrcx\n",
            "Sweep URL: https://wandb.ai/zbooster/Resnet50_Transfer_Learning/sweeps/x8qjqrcx\n"
          ]
        }
      ]
    },
    {
      "cell_type": "markdown",
      "source": [
        "# 3.데이터셋(Dataset) 준비하기\n"
      ],
      "metadata": {
        "id": "zXefrXWOh9oO"
      }
    },
    {
      "cell_type": "markdown",
      "source": [
        "## 3.1.정규화(Normalization)\n",
        "이미지 픽셀의 평균, 표준편차를 계산하여 정규화하기 위한 함수이다."
      ],
      "metadata": {
        "id": "igtMw68WmU9S"
      }
    },
    {
      "cell_type": "code",
      "source": [
        "import torch\n",
        "import torchvision.transforms as transforms\n",
        "from torch.utils.data import DataLoader\n",
        "from torchvision.datasets import ImageFolder\n",
        "\n",
        "def get_mean_and_std(dataloader):\n",
        "    channels_sum, channels_squared_sum, num_batches = 0, 0, 0\n",
        "    for data, _ in dataloader:\n",
        "        # Mean over batch, height and width, but not over the channels\n",
        "        channels_sum += torch.mean(data, dim=[0,2,3])\n",
        "        channels_squared_sum += torch.mean(data**2, dim=[0,2,3])\n",
        "        num_batches += 1\n",
        "    \n",
        "    mean = channels_sum / num_batches\n",
        "\n",
        "    # std = sqrt(E[X^2] - (E[X])^2)\n",
        "    std = (channels_squared_sum / num_batches - mean ** 2) ** 0.5\n",
        "\n",
        "    return mean, std\n",
        "\n",
        "def build_nomalize_loader(set_type, resize_pixel):\n",
        "    transform = transforms.Compose([\n",
        "        transforms.Resize([resize_pixel, resize_pixel]),\n",
        "        transforms.ToTensor()\n",
        "        ])\n",
        "\n",
        "    dataset = ImageFolder(root='/content/datasets/resizeds/' + set_type, transform=transform)\n",
        "    loader = DataLoader(dataset=dataset, batch_size=64)\n",
        "\n",
        "    return loader"
      ],
      "metadata": {
        "id": "EjUq9Xkihsix"
      },
      "execution_count": 12,
      "outputs": []
    },
    {
      "cell_type": "markdown",
      "source": [
        "파라미터를 바꿔가며 테스트할 때마다 값을 구할 필요는 없다. 미리 계산해놓고 dict형태로 저장한다."
      ],
      "metadata": {
        "id": "oew4bm6kmlXs"
      }
    },
    {
      "cell_type": "code",
      "source": [
        "from collections import defaultdict\n",
        "\n",
        "n_mean = defaultdict(dict)\n",
        "n_std  = defaultdict(dict)\n",
        "\n",
        "for rpixel in [ 64, 128, 256 ]:\n",
        "  n_mean[rpixel] = defaultdict(list)\n",
        "  n_std[rpixel] = defaultdict(list)\n",
        "  for dtype in ['Training', 'Validation']:\n",
        "    mean, std = get_mean_and_std(build_nomalize_loader(dtype, rpixel))\n",
        "    n_mean[rpixel][dtype].extend(list(mean.numpy()))\n",
        "    n_std[rpixel][dtype].extend(list(mean.numpy()))\n",
        "\n",
        "n_mean, n_std"
      ],
      "metadata": {
        "id": "YHzo88hpmSzp",
        "colab": {
          "base_uri": "https://localhost:8080/"
        },
        "outputId": "9972d0d2-0dd2-40c4-9fc4-45c0d831d2ad"
      },
      "execution_count": 25,
      "outputs": [
        {
          "output_type": "execute_result",
          "data": {
            "text/plain": [
              "(defaultdict(dict,\n",
              "             {64: defaultdict(list,\n",
              "                          {'Training': [0.49465266, 0.49119774, 0.49918783],\n",
              "                           'Validation': [0.4859542, 0.4816538, 0.49004397]}),\n",
              "              128: defaultdict(list,\n",
              "                          {'Training': [0.4946506, 0.49119437, 0.49918264],\n",
              "                           'Validation': [0.4859544, 0.48165187, 0.49004138]}),\n",
              "              256: defaultdict(list,\n",
              "                          {'Training': [0.4946475, 0.49119085, 0.49917814],\n",
              "                           'Validation': [0.48595107,\n",
              "                            0.48164916,\n",
              "                            0.49003717]})}),\n",
              " defaultdict(dict,\n",
              "             {64: defaultdict(list,\n",
              "                          {'Training': [0.49465266, 0.49119774, 0.49918783],\n",
              "                           'Validation': [0.4859542, 0.4816538, 0.49004397]}),\n",
              "              128: defaultdict(list,\n",
              "                          {'Training': [0.4946506, 0.49119437, 0.49918264],\n",
              "                           'Validation': [0.4859544, 0.48165187, 0.49004138]}),\n",
              "              256: defaultdict(list,\n",
              "                          {'Training': [0.4946475, 0.49119085, 0.49917814],\n",
              "                           'Validation': [0.48595107,\n",
              "                            0.48164916,\n",
              "                            0.49003717]})}))"
            ]
          },
          "metadata": {},
          "execution_count": 25
        }
      ]
    },
    {
      "cell_type": "markdown",
      "source": [
        "## 3.2.데이터로더(DataLoader)\n",
        "* transforms\n",
        "  * resize -> 상하/좌우 반전(Train phase만) -> RandomCrop -> 정규화\n",
        "* ImageFolder에 사용하기 적합한 Directory 구조로 만들어져 있으므로 ImageFolder로 데이터셋을 만든다.\n",
        "* Colab의 cpu core는 2개가 일반적이므로 num_workers는 2로 설정하고 shuffle한다.\n",
        "  \n"
      ],
      "metadata": {
        "id": "PQ-T416QnV7T"
      }
    },
    {
      "cell_type": "code",
      "source": [
        "def build_dataset(batch_size, set_type, resize_pixel, crop_scale, n_mean, n_std):\n",
        "  \n",
        "    compose_list = []\n",
        "    compose_list.append(transforms.Resize([resize_pixel, resize_pixel]))\n",
        "    if set_type == 'Training':\n",
        "      compose_list.append(transforms.RandomHorizontalFlip())\n",
        "      compose_list.append(transforms.RandomVerticalFlip())\n",
        "    compose_list.append(transforms.RandomCrop(int(resize_pixel * crop_scale)))\n",
        "    compose_list.append(transforms.ToTensor())\n",
        "    compose_list.append(transforms.Normalize(n_mean, n_std))\n",
        "    \n",
        "    transform = transforms.Compose(compose_list)\n",
        "  \n",
        "    data_dir = '/content/datasets/resizeds'\n",
        "    dataset = ImageFolder(root=os.path.join(data_dir, set_type), transform=transform)\n",
        "    loader = DataLoader(dataset, batch_size=batch_size, shuffle=True, num_workers=2)\n",
        "  \n",
        "    return loader, len(dataset)"
      ],
      "metadata": {
        "id": "yn-PIYMBv_1O"
      },
      "execution_count": 27,
      "outputs": []
    },
    {
      "cell_type": "markdown",
      "source": [
        "# 4.모델\n",
        "* Resnet50 전이학습을 사용할 예정이므로 torchvision에서 Resnet50과 Weights를 가져와서 적용한다.\n",
        "* device는 GPU를 사용한다."
      ],
      "metadata": {
        "id": "OgKZNghLovn3"
      }
    },
    {
      "cell_type": "code",
      "source": [
        "from torchvision.models import resnet50, ResNet50_Weights\n",
        "import torch.nn as nn\n",
        "\n",
        "device = torch.device(\"cuda\" if torch.cuda.is_available() else \"cpu\")\n",
        "\n",
        "def build_network(class_size):\n",
        "    network = resnet50(weights=ResNet50_Weights.IMAGENET1K_V2)\n",
        "    num_ftrs = network.fc.in_features\n",
        "    network.fc = nn.Linear(num_ftrs, class_size)\n",
        "    return network.to(device)"
      ],
      "metadata": {
        "id": "Pdy6kf0d2LDN"
      },
      "execution_count": 28,
      "outputs": []
    },
    {
      "cell_type": "markdown",
      "source": [
        "# 5.옵티마이저와 스케쥴러\n",
        "* 옵티마이저는 Adam을 사용한다.\n",
        "* 기존 Resnet50의 Weight를 얼마나 재 사용할지 정한다."
      ],
      "metadata": {
        "id": "Om2u5R63pNsO"
      }
    },
    {
      "cell_type": "code",
      "source": [
        "import torch.optim as optim\n",
        "\n",
        "def build_optimizer(network, learning_rate, grad_false_idx):\n",
        "    optimizer = optim.Adam(filter(lambda p: p.requires_grad, network.parameters()), \n",
        "                           lr=learning_rate)\n",
        "    for idx, child in enumerate(network.children()):\n",
        "      if idx < grad_false_idx:\n",
        "        for param in child.parameters():\n",
        "          param.requires_grad = False\n",
        "    return optimizer"
      ],
      "metadata": {
        "id": "qkVW3Qcv28_t"
      },
      "execution_count": 31,
      "outputs": []
    },
    {
      "cell_type": "markdown",
      "source": [
        "* 스케쥴러는 StepLR을 step_size와 gamma를 변경해가며 테스트할 수 있도록 작성했다.\n"
      ],
      "metadata": {
        "id": "bnaxPZsRpoep"
      }
    },
    {
      "cell_type": "code",
      "source": [
        "from torch.optim import lr_scheduler\n",
        "\n",
        "def build_scheduler(optimizer, step_size, gamma):\n",
        "    exp_lr_scheduler = lr_scheduler.StepLR(optimizer, step_size=step_size, gamma=gamma)\n",
        "    return exp_lr_scheduler"
      ],
      "metadata": {
        "id": "Ki3HeJRn4XIY"
      },
      "execution_count": 30,
      "outputs": []
    },
    {
      "cell_type": "markdown",
      "source": [
        "# 6.학습/검증 단계(Epoch)\n",
        "* Loss 함수는 CrossEntropyLoss()를 설정합니다."
      ],
      "metadata": {
        "id": "YDzcapEop_gO"
      }
    },
    {
      "cell_type": "code",
      "source": [
        "critetion = nn.CrossEntropyLoss()"
      ],
      "metadata": {
        "id": "a_GUT0QTrOCk"
      },
      "execution_count": 29,
      "outputs": []
    },
    {
      "cell_type": "markdown",
      "source": [
        "## 6.1.학습(Train) 단계"
      ],
      "metadata": {
        "id": "-9OFNdFCrTgE"
      }
    },
    {
      "cell_type": "code",
      "source": [
        "def train_epoch(network, loader, datasize, optimizer, scheduler):\n",
        "    network.train()\n",
        "\n",
        "    running_loss = 0.0\n",
        "    running_corrects = 0\n",
        "\n",
        "    for _, (data, target) in enumerate(loader):\n",
        "        data, target = data.to(device), target.to(device)\n",
        "        optimizer.zero_grad()\n",
        "\n",
        "        with torch.set_grad_enabled(True):\n",
        "          # ➡ Forward pass\n",
        "          outputs = network(data)\n",
        "          _, preds = torch.max(outputs, 1)\n",
        "          loss = critetion(outputs, target)\n",
        "\n",
        "          # ⬅ Backward pass + weight update\n",
        "          loss.backward()\n",
        "          optimizer.step()\n",
        "\n",
        "        running_loss += loss.item() * data.size(0)\n",
        "        running_corrects += torch.sum(preds == target.data)\n",
        "\n",
        "    scheduler.step()\n",
        "\n",
        "    epoch_loss = running_loss/datasize\n",
        "    epoch_acc = running_corrects.double()/datasize\n",
        "\n",
        "    return epoch_loss, epoch_acc"
      ],
      "metadata": {
        "id": "Pzw61uAd30QZ"
      },
      "execution_count": 32,
      "outputs": []
    },
    {
      "cell_type": "markdown",
      "source": [
        "## 6.2.검증(Validation) 단계"
      ],
      "metadata": {
        "id": "QuSNlH6MrhjN"
      }
    },
    {
      "cell_type": "code",
      "source": [
        "def validation_epoch(network, loader, datasize, optimizer):\n",
        "    network.eval()\n",
        "    \n",
        "    running_loss = 0.0\n",
        "    running_corrects = 0\n",
        "\n",
        "    for _, (data, target) in enumerate(loader):\n",
        "        data, target = data.to(device), target.to(device)\n",
        "        optimizer.zero_grad()\n",
        "\n",
        "        # ➡ Forward pass\n",
        "        outputs = network(data)\n",
        "        _, preds = torch.max(outputs, 1)\n",
        "        loss = critetion(outputs, target)\n",
        "\n",
        "        running_loss += loss.item() * data.size(0)\n",
        "        running_corrects += torch.sum(preds == target.data)\n",
        "\n",
        "    epoch_loss = running_loss/datasize\n",
        "    epoch_acc = running_corrects.double()/datasize\n",
        "\n",
        "    return epoch_loss, epoch_acc"
      ],
      "metadata": {
        "id": "UQbvtY4B8GEE"
      },
      "execution_count": 33,
      "outputs": []
    },
    {
      "cell_type": "markdown",
      "source": [
        "# 7.수행"
      ],
      "metadata": {
        "id": "W1q43NMNrwhd"
      }
    },
    {
      "cell_type": "code",
      "source": [
        "import time\n",
        "\n",
        "def train(config=None):\n",
        "    # Initialize a new wandb run\n",
        "    with wandb.init(config=config):\n",
        "        # If called by wandb.agent, as below,\n",
        "        # this config will be set by Sweep Controller\n",
        "        config = wandb.config\n",
        "\n",
        "        t_loader, t_datasize = build_dataset(config.batch_size, 'Training', \n",
        "                                             config.resize_pixel, config.crop_scale\n",
        "                                             , n_mean[config.resize_pixel]['Training']\n",
        "                                             , n_std[config.resize_pixel]['Training']\n",
        "                                             )\n",
        "        \n",
        "        v_loader, v_datasize = build_dataset(config.batch_size, 'Validation', \n",
        "                                             config.resize_pixel, config.crop_scale\n",
        "                                             , n_mean[config.resize_pixel]['Validation']\n",
        "                                             , n_std[config.resize_pixel]['Validation']\n",
        "                                             )\n",
        "        \n",
        "        network = build_network(config.class_size)\n",
        "        optimizer = build_optimizer(network, config.learning_rate, config.grad_false_idx)\n",
        "        scheduler = build_scheduler(optimizer, config.step_size, config.gamma)\n",
        "\n",
        "        for epoch in range(config.epochs):\n",
        "            since = time.time()\n",
        "            \n",
        "            epoch_loss, epoch_acc = train_epoch(network, t_loader, t_datasize, optimizer, scheduler)\n",
        "            wandb.log({\"Train Loss\": epoch_loss, \"Train Accuracy\": epoch_acc * 100, \"Epoch\": epoch})\n",
        "\n",
        "            epoch_loss, epoch_acc = validation_epoch(network, v_loader, v_datasize, optimizer)\n",
        "            wandb.log({\"Validation Loss\": epoch_loss, \"Validation Accuracy\": epoch_acc * 100, \"Epoch\": epoch})\n",
        "\n",
        "            time_elapsed = time.time() - since\n",
        "            wandb.log({\"Time Elapsed(s)\": time_elapsed, \"Epoch\": epoch})\n",
        "\n",
        "\n",
        "            "
      ],
      "metadata": {
        "id": "M19U0pCLv9jD"
      },
      "execution_count": 34,
      "outputs": []
    },
    {
      "cell_type": "markdown",
      "source": [
        "* Sweeps 에이전트가 파라미터 값을 바꿔가면서 반복 수행함. 결과는 저장"
      ],
      "metadata": {
        "id": "FXNXwI1F4bIT"
      }
    },
    {
      "cell_type": "code",
      "source": [
        "wandb.agent(sweep_id, train)"
      ],
      "metadata": {
        "colab": {
          "base_uri": "https://localhost:8080/",
          "height": 370,
          "referenced_widgets": [
            "cae15db30fb14614a69abfe0e3d77231",
            "da58dd23df48479e93bab74b22678f5f",
            "515e47b86e844c33b16006b6a508861e",
            "e07a87d7f1714faa8647cf2849717e45",
            "ef65912a3308412ba985742d342a2148",
            "8fe441adeb4a4b57957466619f10c38c",
            "02481fce74a64b48960353afb815de29",
            "abaa8012e41b4d53afab8bec0ad0dc8a",
            "4758cb87ec724f8996a4210f6dd55f04",
            "15568891309a4417b53ffda21d60ecef",
            "b3e6378052c7401cabcb8036319a5456"
          ]
        },
        "id": "ugOSh95tEUTI",
        "outputId": "633fe018-5803-4c81-fafa-3db57c6af8fe"
      },
      "execution_count": null,
      "outputs": [
        {
          "output_type": "stream",
          "name": "stderr",
          "text": [
            "\u001b[34m\u001b[1mwandb\u001b[0m: Agent Starting Run: mx88xqdl with config:\n",
            "\u001b[34m\u001b[1mwandb\u001b[0m: \tbatch_size: 64\n",
            "\u001b[34m\u001b[1mwandb\u001b[0m: \tclass_size: 84\n",
            "\u001b[34m\u001b[1mwandb\u001b[0m: \tcrop_scale: 0.6\n",
            "\u001b[34m\u001b[1mwandb\u001b[0m: \tepochs: 25\n",
            "\u001b[34m\u001b[1mwandb\u001b[0m: \tgamma: 0.1\n",
            "\u001b[34m\u001b[1mwandb\u001b[0m: \tgrad_false_idx: 5\n",
            "\u001b[34m\u001b[1mwandb\u001b[0m: \tlearning_rate: 0.01\n",
            "\u001b[34m\u001b[1mwandb\u001b[0m: \tresize_pixel: 64\n",
            "\u001b[34m\u001b[1mwandb\u001b[0m: \tstep_size: 5\n",
            "\u001b[34m\u001b[1mwandb\u001b[0m: Currently logged in as: \u001b[33mzbooster\u001b[0m. Use \u001b[1m`wandb login --relogin`\u001b[0m to force relogin\n"
          ]
        },
        {
          "output_type": "display_data",
          "data": {
            "text/plain": [
              "<IPython.core.display.HTML object>"
            ],
            "text/html": [
              "Tracking run with wandb version 0.13.1"
            ]
          },
          "metadata": {}
        },
        {
          "output_type": "display_data",
          "data": {
            "text/plain": [
              "<IPython.core.display.HTML object>"
            ],
            "text/html": [
              "Run data is saved locally in <code>/content/wandb/run-20220810_083142-mx88xqdl</code>"
            ]
          },
          "metadata": {}
        },
        {
          "output_type": "display_data",
          "data": {
            "text/plain": [
              "<IPython.core.display.HTML object>"
            ],
            "text/html": [
              "Syncing run <strong><a href=\"https://wandb.ai/zbooster/Resnet50_Transfer_Learning/runs/mx88xqdl\" target=\"_blank\">peachy-sweep-1</a></strong> to <a href=\"https://wandb.ai/zbooster/Resnet50_Transfer_Learning\" target=\"_blank\">Weights & Biases</a> (<a href=\"https://wandb.me/run\" target=\"_blank\">docs</a>)<br/>Sweep page:  <a href=\"https://wandb.ai/zbooster/Resnet50_Transfer_Learning/sweeps/x8qjqrcx\" target=\"_blank\">https://wandb.ai/zbooster/Resnet50_Transfer_Learning/sweeps/x8qjqrcx</a>"
            ]
          },
          "metadata": {}
        },
        {
          "output_type": "stream",
          "name": "stderr",
          "text": [
            "Downloading: \"https://download.pytorch.org/models/resnet50-11ad3fa6.pth\" to /root/.cache/torch/hub/checkpoints/resnet50-11ad3fa6.pth\n"
          ]
        },
        {
          "output_type": "display_data",
          "data": {
            "text/plain": [
              "  0%|          | 0.00/97.8M [00:00<?, ?B/s]"
            ],
            "application/vnd.jupyter.widget-view+json": {
              "version_major": 2,
              "version_minor": 0,
              "model_id": "cae15db30fb14614a69abfe0e3d77231"
            }
          },
          "metadata": {}
        }
      ]
    }
  ]
}