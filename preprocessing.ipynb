{
  "cells": [
    {
      "cell_type": "markdown",
      "metadata": {
        "id": "zplr4zhsfsbz"
      },
      "source": [
        "# 데이터 전처리\n",
        "Colab의 Local disk의 여유 공간은 약 30~60GB 정도로 AI Hub에 있는 데이터를 풀어내기에는 적합하지 않다. Local에 있는 Disk를 이용하여 Resize를 수행하기로 한다."
      ]
    },
    {
      "cell_type": "markdown",
      "metadata": {
        "id": "07gOM5JEgD6A"
      },
      "source": [
        "## 1.다운로드 데이터 분석\n",
        "AI-Hub에서 다운로드 받은 데이터는 아래와 같은 구조를 가진다. \n",
        "\n",
        "\n",
        "```bash\n",
        "랜드마크 이미지\n",
        "├─Training\n",
        "│  └─세종특별자치시\n",
        "│          [라벨]세종특별자치시.zip\n",
        "│          [원천]세종특별자치시_001.zip\n",
        "└─Validation\n",
        "    └─세종특별자치시\n",
        "            [라벨]세종특별자치시.zip\n",
        "            [원천]세종특별자치시_001.zip\n",
        "```\n",
        "테스트와 검증 데이터가 분리되어 있으니 그대로 이용하고, [라벨] 파일은 metadata가 있는 json파일이다. 현 시점에서는 필요없으니 무시한다. 즉, [원천] 파일만 압축을 풀어 Resize를 수행하면 된다.\n"
      ]
    },
    {
      "cell_type": "markdown",
      "metadata": {
        "id": "1H5dYfnNkVbF"
      },
      "source": [
        "## 2.데이터 압축 해제\n",
        "중간폴더의 지역명은 필요없으니 무시하고 디렉토리를 구성하여 압축을 해제한다."
      ]
    },
    {
      "cell_type": "code",
      "execution_count": 3,
      "metadata": {},
      "outputs": [],
      "source": [
        "import os, glob\n",
        "\n",
        "base_dir = '/content/랜드마크 이미지/'\n",
        "extract_dir = '/content/extracts'"
      ]
    },
    {
      "cell_type": "code",
      "execution_count": null,
      "metadata": {},
      "outputs": [],
      "source": [
        "\n",
        "for dtype in os.listdir(base_dir):\n",
        "    dst_dir = os.path.join(extract_dir, dtype)\n",
        "    os.makedirs(dst_dir, exist_ok=True)\n",
        "    for file_name in glob.glob(os.path.join(base_dir, dtype) + '/**/*원천*', recursive=True):\n",
        "        file_name = '\\'' + file_name + '\\''\n",
        "        !unzip -o -qq {file_name} -d {dst_dir}"
      ]
    },
    {
      "cell_type": "markdown",
      "metadata": {
        "id": "JlQVuvZQkZgf"
      },
      "source": [
        "## 3.RESIZE\n",
        "압축 해제한 데이터의 구조는 아래와 같다. 파일 확장자명은 JPG or jpg로 되어 있으니 해당 파일을 찾아\n",
        "OpenCV로 0.1배로 Resize하여 저장한다.\n",
        "\n",
        "```bash\n",
        "6.25격전지개미고개\n",
        "  └─6.25격전지개미고개_001_40613647.JPG\n",
        "    6.25격전지개미고개_003_40613648.JPG\n",
        "    6.25격전지개미고개_004_40613649.JPG\n",
        "    6.25격전지개미고개_005_40613650.JPG\n",
        "    6.25격전지개미고개_006_40613651.JPG\n",
        "    (...)\n",
        "```"
      ]
    },
    {
      "cell_type": "code",
      "execution_count": 5,
      "metadata": {
        "id": "sr4Zh5ZsfpBw"
      },
      "outputs": [],
      "source": [
        "import cv2\n",
        "from tqdm.notebook import tqdm\n",
        "\n",
        "resized_dir = '/content/resizeds'"
      ]
    },
    {
      "cell_type": "code",
      "execution_count": null,
      "metadata": {},
      "outputs": [],
      "source": [
        "for dtype in os.listdir(extract_dir):\n",
        "    src_dir = os.path.join(extract_dir, dtype)\n",
        "    dst_dir = os.path.join(resized_dir, dtype)\n",
        "    for cls in os.listdir(src_dir):\n",
        "        os.makedirs(os.path.join(dst_dir, cls), exist_ok=True)\n",
        "    \n",
        "    src_list = glob.glob('**/*.JPG', root_dir=os.path.join(extract_dir, dtype))\n",
        "    print('Dataset Type: {}'.format(dtype))\n",
        "    for fname in tqdm(src_list):\n",
        "        img = cv2.imread(os.path.join(src_dir, fname))\n",
        "        resized_img = cv2.resize(img, (0, 0), fx=0.1, fy=0.1, interpolation=cv2.INTER_AREA)\n",
        "        cv2.imwrite(os.path.join(dst_dir, fname), resized_img)\n",
        "    \n"
      ]
    },
    {
      "cell_type": "markdown",
      "metadata": {},
      "source": [
        "## 압축\n",
        "GPU사용을 위하 Colab에 올리기 위해 다시 zip 파일로 압축한다.\n"
      ]
    },
    {
      "cell_type": "code",
      "execution_count": null,
      "metadata": {},
      "outputs": [],
      "source": [
        "!cd '/content'\n",
        "!zip -r 'resize_0.1.zip' './resizeds'"
      ]
    }
  ],
  "metadata": {
    "colab": {
      "name": "preprocessing.ipynb",
      "provenance": [],
      "toc_visible": true
    },
    "kernelspec": {
      "display_name": "Python 3.9.12 ('base')",
      "language": "python",
      "name": "python3"
    },
    "language_info": {
      "codemirror_mode": {
        "name": "ipython",
        "version": 3
      },
      "file_extension": ".py",
      "mimetype": "text/x-python",
      "name": "python",
      "nbconvert_exporter": "python",
      "pygments_lexer": "ipython3",
      "version": "3.10.5"
    },
    "orig_nbformat": 4,
    "vscode": {
      "interpreter": {
        "hash": "d4d1e4263499bec80672ea0156c357c1ee493ec2b1c70f0acce89fc37c4a6abe"
      }
    }
  },
  "nbformat": 4,
  "nbformat_minor": 0
}
