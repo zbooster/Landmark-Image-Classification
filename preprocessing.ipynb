{
 "cells": [
  {
   "cell_type": "code",
   "execution_count": 1,
   "metadata": {},
   "outputs": [],
   "source": [
    "import cv2\n",
    "import os"
   ]
  },
  {
   "cell_type": "code",
   "execution_count": 22,
   "metadata": {},
   "outputs": [
    {
     "name": "stdout",
     "output_type": "stream",
     "text": [
      "/datasets/Landmark_Images\n"
     ]
    }
   ],
   "source": [
    "region_list = ['세종특별자치시']\n",
    "dataset_dir = '/datasets'\n",
    "project_name = 'Landmark_Images'\n",
    "base_dir = os.path.join(dataset_dir, project_name)\n",
    "\n",
    "print(base_dir)"
   ]
  },
  {
   "cell_type": "code",
   "execution_count": 23,
   "metadata": {},
   "outputs": [
    {
     "name": "stdout",
     "output_type": "stream",
     "text": [
      "Reading package lists... Done\n",
      "Building dependency tree... Done\n",
      "Reading state information... Done\n",
      "unzip is already the newest version (6.0-26).\n",
      "0 upgraded, 0 newly installed, 0 to remove and 9 not upgraded.\n"
     ]
    }
   ],
   "source": [
    "!apt-get install unzip"
   ]
  },
  {
   "cell_type": "code",
   "execution_count": 25,
   "metadata": {},
   "outputs": [],
   "source": [
    "extract_dir = os.path.join(base_dir, 'extracts')\n",
    "os.mkdir(extract_dir)\n",
    "for data_type in ['Training', 'Validation']:\n",
    "    data_type_dir = os.path.join(extract_dir, data_type)\n",
    "    if not os.path.isdir(data_type_dir):\n",
    "        os.mkdir(data_type_dir)\n",
    "\n",
    "    for region in region_list:\n",
    "        region_dir = os.path.join(data_type_dir, region)\n",
    "        if not os.path.isdir(region_dir):\n",
    "            os.mkdir(region_dir)\n",
    "        src_file = os.path.join(base_dir, 'downloads', data_type, region, \"[원천]{}_001.zip\".format(region))\n",
    "        !unzip -qq {src_file} -d {region_dir}"
   ]
  },
  {
   "cell_type": "code",
   "execution_count": null,
   "metadata": {},
   "outputs": [],
   "source": []
  }
 ],
 "metadata": {
  "kernelspec": {
   "display_name": "Python 3.9.12 ('base')",
   "language": "python",
   "name": "python3"
  },
  "language_info": {
   "codemirror_mode": {
    "name": "ipython",
    "version": 3
   },
   "file_extension": ".py",
   "mimetype": "text/x-python",
   "name": "python",
   "nbconvert_exporter": "python",
   "pygments_lexer": "ipython3",
   "version": "3.9.12"
  },
  "orig_nbformat": 4,
  "vscode": {
   "interpreter": {
    "hash": "d4d1e4263499bec80672ea0156c357c1ee493ec2b1c70f0acce89fc37c4a6abe"
   }
  }
 },
 "nbformat": 4,
 "nbformat_minor": 2
}
